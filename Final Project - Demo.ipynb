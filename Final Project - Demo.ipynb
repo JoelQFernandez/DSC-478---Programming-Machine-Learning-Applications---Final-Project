{
 "cells": [
  {
   "cell_type": "code",
   "execution_count": 1,
   "metadata": {},
   "outputs": [],
   "source": [
    "# Import Statements\n",
    "import numpy as np\n",
    "import pandas as pd\n",
    "import seaborn as sns \n",
    "import matplotlib.pyplot as plt "
   ]
  },
  {
   "cell_type": "code",
   "execution_count": 2,
   "metadata": {},
   "outputs": [],
   "source": [
    "# Assign %pwd to working_dir\n",
    "working_dir = %pwd"
   ]
  },
  {
   "cell_type": "code",
   "execution_count": 3,
   "metadata": {},
   "outputs": [],
   "source": [
    "# Reading Pre Processed Data File\n",
    "spotify = pd.read_csv((working_dir)+\"/Data/spotify-pre_processed.csv\", delimiter = \",\")"
   ]
  },
  {
   "cell_type": "markdown",
   "metadata": {},
   "source": [
    "## <h3> Demos showing what user input could look like to get our initial ratings. </h3>"
   ]
  },
  {
   "cell_type": "code",
   "execution_count": 4,
   "metadata": {},
   "outputs": [
    {
     "data": {
      "text/html": [
       "<div>\n",
       "<style scoped>\n",
       "    .dataframe tbody tr th:only-of-type {\n",
       "        vertical-align: middle;\n",
       "    }\n",
       "\n",
       "    .dataframe tbody tr th {\n",
       "        vertical-align: top;\n",
       "    }\n",
       "\n",
       "    .dataframe thead th {\n",
       "        text-align: right;\n",
       "    }\n",
       "</style>\n",
       "<table border=\"1\" class=\"dataframe\">\n",
       "  <thead>\n",
       "    <tr style=\"text-align: right;\">\n",
       "      <th></th>\n",
       "      <th>artists</th>\n",
       "      <th>name</th>\n",
       "      <th>year_bin</th>\n",
       "    </tr>\n",
       "  </thead>\n",
       "  <tbody>\n",
       "    <tr>\n",
       "      <th>0</th>\n",
       "      <td>['Mamie Smith']</td>\n",
       "      <td>Keep A Song In Your Soul</td>\n",
       "      <td>1920s</td>\n",
       "    </tr>\n",
       "    <tr>\n",
       "      <th>1</th>\n",
       "      <td>[\"Screamin' Jay Hawkins\"]</td>\n",
       "      <td>I Put A Spell On You</td>\n",
       "      <td>1920s</td>\n",
       "    </tr>\n",
       "    <tr>\n",
       "      <th>2</th>\n",
       "      <td>['Mamie Smith']</td>\n",
       "      <td>Golfing Papa</td>\n",
       "      <td>1920s</td>\n",
       "    </tr>\n",
       "    <tr>\n",
       "      <th>3</th>\n",
       "      <td>['Oscar Velazquez']</td>\n",
       "      <td>True House Music - Xavier Santos &amp; Carlos Gomi...</td>\n",
       "      <td>1920s</td>\n",
       "    </tr>\n",
       "    <tr>\n",
       "      <th>4</th>\n",
       "      <td>['Mixe']</td>\n",
       "      <td>Xuniverxe</td>\n",
       "      <td>1920s</td>\n",
       "    </tr>\n",
       "    <tr>\n",
       "      <th>...</th>\n",
       "      <td>...</td>\n",
       "      <td>...</td>\n",
       "      <td>...</td>\n",
       "    </tr>\n",
       "    <tr>\n",
       "      <th>174384</th>\n",
       "      <td>['DJ Combo', 'Sander-7', 'Tony T']</td>\n",
       "      <td>The One</td>\n",
       "      <td>2020s</td>\n",
       "    </tr>\n",
       "    <tr>\n",
       "      <th>174385</th>\n",
       "      <td>['Alessia Cara']</td>\n",
       "      <td>A Little More</td>\n",
       "      <td>2020s</td>\n",
       "    </tr>\n",
       "    <tr>\n",
       "      <th>174386</th>\n",
       "      <td>['Roger Fly']</td>\n",
       "      <td>Together</td>\n",
       "      <td>2020s</td>\n",
       "    </tr>\n",
       "    <tr>\n",
       "      <th>174387</th>\n",
       "      <td>['Taylor Swift']</td>\n",
       "      <td>champagne problems</td>\n",
       "      <td>2020s</td>\n",
       "    </tr>\n",
       "    <tr>\n",
       "      <th>174388</th>\n",
       "      <td>['Roger Fly']</td>\n",
       "      <td>Improvisations</td>\n",
       "      <td>2020s</td>\n",
       "    </tr>\n",
       "  </tbody>\n",
       "</table>\n",
       "<p>174389 rows × 3 columns</p>\n",
       "</div>"
      ],
      "text/plain": [
       "                                   artists  \\\n",
       "0                          ['Mamie Smith']   \n",
       "1                [\"Screamin' Jay Hawkins\"]   \n",
       "2                          ['Mamie Smith']   \n",
       "3                      ['Oscar Velazquez']   \n",
       "4                                 ['Mixe']   \n",
       "...                                    ...   \n",
       "174384  ['DJ Combo', 'Sander-7', 'Tony T']   \n",
       "174385                    ['Alessia Cara']   \n",
       "174386                       ['Roger Fly']   \n",
       "174387                    ['Taylor Swift']   \n",
       "174388                       ['Roger Fly']   \n",
       "\n",
       "                                                     name year_bin  \n",
       "0                                Keep A Song In Your Soul    1920s  \n",
       "1                                    I Put A Spell On You    1920s  \n",
       "2                                            Golfing Papa    1920s  \n",
       "3       True House Music - Xavier Santos & Carlos Gomi...    1920s  \n",
       "4                                               Xuniverxe    1920s  \n",
       "...                                                   ...      ...  \n",
       "174384                                            The One    2020s  \n",
       "174385                                      A Little More    2020s  \n",
       "174386                                           Together    2020s  \n",
       "174387                                 champagne problems    2020s  \n",
       "174388                                     Improvisations    2020s  \n",
       "\n",
       "[174389 rows x 3 columns]"
      ]
     },
     "execution_count": 4,
     "metadata": {},
     "output_type": "execute_result"
    }
   ],
   "source": [
    "# just some demos showing what user input could look like\n",
    "# user_name = input(\"Enter username: \")\n",
    "spotify[['artists', 'name', 'year_bin']]"
   ]
  },
  {
   "cell_type": "code",
   "execution_count": 5,
   "metadata": {},
   "outputs": [],
   "source": [
    "user_ratings_songs = spotify[['artists', 'name', 'year_bin']].sample(n = 10).rename(columns={'name': 'song_title'})\n",
    "ratings_arr = []"
   ]
  },
  {
   "cell_type": "code",
   "execution_count": 6,
   "metadata": {},
   "outputs": [
    {
     "ename": "NameError",
     "evalue": "name 'user_rating_songs_new' is not defined",
     "output_type": "error",
     "traceback": [
      "\u001b[0;31m---------------------------------------------------------------------------\u001b[0m",
      "\u001b[0;31mNameError\u001b[0m                                 Traceback (most recent call last)",
      "\u001b[0;32m<ipython-input-6-d124f1a64827>\u001b[0m in \u001b[0;36m<module>\u001b[0;34m\u001b[0m\n\u001b[0;32m----> 1\u001b[0;31m \u001b[0muser_rating_songs_new\u001b[0m \u001b[0;34m=\u001b[0m \u001b[0muser_rating_songs_new\u001b[0m\u001b[0;34m\u001b[0m\u001b[0;34m\u001b[0m\u001b[0m\n\u001b[0m\u001b[1;32m      2\u001b[0m \u001b[0mprint\u001b[0m\u001b[0;34m(\u001b[0m\u001b[0;34m\"Enter rating (1-5 stars) for the following songs to generate your playlist\"\u001b[0m\u001b[0;34m)\u001b[0m\u001b[0;34m\u001b[0m\u001b[0;34m\u001b[0m\u001b[0m\n\u001b[1;32m      3\u001b[0m \u001b[0;32mfor\u001b[0m \u001b[0mi\u001b[0m \u001b[0;32min\u001b[0m \u001b[0mrange\u001b[0m\u001b[0;34m(\u001b[0m\u001b[0;36m0\u001b[0m\u001b[0;34m,\u001b[0m \u001b[0;36m10\u001b[0m\u001b[0;34m)\u001b[0m\u001b[0;34m:\u001b[0m\u001b[0;34m\u001b[0m\u001b[0;34m\u001b[0m\u001b[0m\n\u001b[1;32m      4\u001b[0m \u001b[0;34m\u001b[0m\u001b[0m\n\u001b[1;32m      5\u001b[0m     print(f\"\"\"\n",
      "\u001b[0;31mNameError\u001b[0m: name 'user_rating_songs_new' is not defined"
     ]
    }
   ],
   "source": [
    "user_rating_songs_new = user_rating_songs_new\n",
    "print(\"Enter rating (1-5 stars) for the following songs to generate your playlist\")\n",
    "for i in range(0, 10):\n",
    "    \n",
    "    print(f\"\"\"\n",
    "    Artist: {user_ratings_songs.iloc[i].artists}\n",
    "    Song: {user_ratings_songs.iloc[i].song_title}\n",
    "    Decade: {user_ratings_songs.iloc[i].year_bin}\n",
    "    \"\"\")\n",
    "    \n",
    "    \n",
    "    rating= input(\"Enter rating (1-5): \")\n",
    "    ratings_arr.append(rating)"
   ]
  },
  {
   "cell_type": "code",
   "execution_count": null,
   "metadata": {},
   "outputs": [],
   "source": [
    "ratings_arr"
   ]
  },
  {
   "cell_type": "code",
   "execution_count": null,
   "metadata": {},
   "outputs": [],
   "source": []
  },
  {
   "cell_type": "code",
   "execution_count": null,
   "metadata": {},
   "outputs": [],
   "source": []
  }
 ],
 "metadata": {
  "kernelspec": {
   "display_name": "Python 3",
   "language": "python",
   "name": "python3"
  },
  "language_info": {
   "codemirror_mode": {
    "name": "ipython",
    "version": 3
   },
   "file_extension": ".py",
   "mimetype": "text/x-python",
   "name": "python",
   "nbconvert_exporter": "python",
   "pygments_lexer": "ipython3",
   "version": "3.8.3"
  }
 },
 "nbformat": 4,
 "nbformat_minor": 4
}
