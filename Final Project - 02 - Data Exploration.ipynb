{
 "cells": [
  {
   "cell_type": "code",
   "execution_count": 4,
   "metadata": {},
   "outputs": [],
   "source": [
    "# Import Statements\n",
    "import numpy as np\n",
    "import pandas as pd\n",
    "import seaborn as sns \n",
    "import matplotlib.pyplot as plt "
   ]
  },
  {
   "cell_type": "code",
   "execution_count": 5,
   "metadata": {},
   "outputs": [],
   "source": [
    "# Assign %pwd to working_dir\n",
    "working_dir = %pwd"
   ]
  },
  {
   "cell_type": "code",
   "execution_count": 6,
   "metadata": {},
   "outputs": [
    {
     "data": {
      "text/html": [
       "<div>\n",
       "<style scoped>\n",
       "    .dataframe tbody tr th:only-of-type {\n",
       "        vertical-align: middle;\n",
       "    }\n",
       "\n",
       "    .dataframe tbody tr th {\n",
       "        vertical-align: top;\n",
       "    }\n",
       "\n",
       "    .dataframe thead th {\n",
       "        text-align: right;\n",
       "    }\n",
       "</style>\n",
       "<table border=\"1\" class=\"dataframe\">\n",
       "  <thead>\n",
       "    <tr style=\"text-align: right;\">\n",
       "      <th></th>\n",
       "      <th>acousticness</th>\n",
       "      <th>artists</th>\n",
       "      <th>danceability</th>\n",
       "      <th>duration_ms</th>\n",
       "      <th>energy</th>\n",
       "      <th>id</th>\n",
       "      <th>instrumentalness</th>\n",
       "      <th>key</th>\n",
       "      <th>liveness</th>\n",
       "      <th>loudness</th>\n",
       "      <th>name</th>\n",
       "      <th>popularity</th>\n",
       "      <th>speechiness</th>\n",
       "      <th>tempo</th>\n",
       "      <th>valence</th>\n",
       "      <th>year</th>\n",
       "      <th>explicit_0</th>\n",
       "      <th>explicit_1</th>\n",
       "      <th>mode_0</th>\n",
       "      <th>mode_1</th>\n",
       "    </tr>\n",
       "  </thead>\n",
       "  <tbody>\n",
       "    <tr>\n",
       "      <th>0</th>\n",
       "      <td>0.991000</td>\n",
       "      <td>['Mamie Smith']</td>\n",
       "      <td>0.598</td>\n",
       "      <td>0.030637</td>\n",
       "      <td>0.224</td>\n",
       "      <td>0cS0A1fUEUd1EW3FcF8AEI</td>\n",
       "      <td>0.000522</td>\n",
       "      <td>0.454545</td>\n",
       "      <td>0.3790</td>\n",
       "      <td>0.741868</td>\n",
       "      <td>Keep A Song In Your Soul</td>\n",
       "      <td>0.12</td>\n",
       "      <td>0.0936</td>\n",
       "      <td>0.615900</td>\n",
       "      <td>0.6340</td>\n",
       "      <td>1920s</td>\n",
       "      <td>1</td>\n",
       "      <td>0</td>\n",
       "      <td>1</td>\n",
       "      <td>0</td>\n",
       "    </tr>\n",
       "    <tr>\n",
       "      <th>1</th>\n",
       "      <td>0.643000</td>\n",
       "      <td>[\"Screamin' Jay Hawkins\"]</td>\n",
       "      <td>0.852</td>\n",
       "      <td>0.027237</td>\n",
       "      <td>0.517</td>\n",
       "      <td>0hbkKFIJm7Z05H8Zl9w30f</td>\n",
       "      <td>0.026400</td>\n",
       "      <td>0.454545</td>\n",
       "      <td>0.0809</td>\n",
       "      <td>0.825918</td>\n",
       "      <td>I Put A Spell On You</td>\n",
       "      <td>0.07</td>\n",
       "      <td>0.0534</td>\n",
       "      <td>0.356823</td>\n",
       "      <td>0.9500</td>\n",
       "      <td>1920s</td>\n",
       "      <td>1</td>\n",
       "      <td>0</td>\n",
       "      <td>1</td>\n",
       "      <td>0</td>\n",
       "    </tr>\n",
       "    <tr>\n",
       "      <th>2</th>\n",
       "      <td>0.993000</td>\n",
       "      <td>['Mamie Smith']</td>\n",
       "      <td>0.647</td>\n",
       "      <td>0.029792</td>\n",
       "      <td>0.186</td>\n",
       "      <td>11m7laMUgmOKqI3oYzuhne</td>\n",
       "      <td>0.000018</td>\n",
       "      <td>0.000000</td>\n",
       "      <td>0.5190</td>\n",
       "      <td>0.750168</td>\n",
       "      <td>Golfing Papa</td>\n",
       "      <td>0.04</td>\n",
       "      <td>0.1740</td>\n",
       "      <td>0.400810</td>\n",
       "      <td>0.6890</td>\n",
       "      <td>1920s</td>\n",
       "      <td>1</td>\n",
       "      <td>0</td>\n",
       "      <td>0</td>\n",
       "      <td>1</td>\n",
       "    </tr>\n",
       "    <tr>\n",
       "      <th>3</th>\n",
       "      <td>0.000173</td>\n",
       "      <td>['Oscar Velazquez']</td>\n",
       "      <td>0.730</td>\n",
       "      <td>0.078215</td>\n",
       "      <td>0.798</td>\n",
       "      <td>19Lc5SfJJ5O1oaxY0fpwfh</td>\n",
       "      <td>0.801000</td>\n",
       "      <td>0.181818</td>\n",
       "      <td>0.1280</td>\n",
       "      <td>0.825135</td>\n",
       "      <td>True House Music - Xavier Santos &amp; Carlos Gomi...</td>\n",
       "      <td>0.17</td>\n",
       "      <td>0.0425</td>\n",
       "      <td>0.525640</td>\n",
       "      <td>0.0422</td>\n",
       "      <td>1920s</td>\n",
       "      <td>1</td>\n",
       "      <td>0</td>\n",
       "      <td>0</td>\n",
       "      <td>1</td>\n",
       "    </tr>\n",
       "    <tr>\n",
       "      <th>4</th>\n",
       "      <td>0.295000</td>\n",
       "      <td>['Mixe']</td>\n",
       "      <td>0.704</td>\n",
       "      <td>0.030054</td>\n",
       "      <td>0.707</td>\n",
       "      <td>2hJjbsLCytGsnAHfdsLejp</td>\n",
       "      <td>0.000246</td>\n",
       "      <td>0.909091</td>\n",
       "      <td>0.4020</td>\n",
       "      <td>0.845102</td>\n",
       "      <td>Xuniverxe</td>\n",
       "      <td>0.02</td>\n",
       "      <td>0.0768</td>\n",
       "      <td>0.501324</td>\n",
       "      <td>0.2990</td>\n",
       "      <td>1920s</td>\n",
       "      <td>0</td>\n",
       "      <td>1</td>\n",
       "      <td>1</td>\n",
       "      <td>0</td>\n",
       "    </tr>\n",
       "    <tr>\n",
       "      <th>...</th>\n",
       "      <td>...</td>\n",
       "      <td>...</td>\n",
       "      <td>...</td>\n",
       "      <td>...</td>\n",
       "      <td>...</td>\n",
       "      <td>...</td>\n",
       "      <td>...</td>\n",
       "      <td>...</td>\n",
       "      <td>...</td>\n",
       "      <td>...</td>\n",
       "      <td>...</td>\n",
       "      <td>...</td>\n",
       "      <td>...</td>\n",
       "      <td>...</td>\n",
       "      <td>...</td>\n",
       "      <td>...</td>\n",
       "      <td>...</td>\n",
       "      <td>...</td>\n",
       "      <td>...</td>\n",
       "      <td>...</td>\n",
       "    </tr>\n",
       "    <tr>\n",
       "      <th>174384</th>\n",
       "      <td>0.009170</td>\n",
       "      <td>['DJ Combo', 'Sander-7', 'Tony T']</td>\n",
       "      <td>0.792</td>\n",
       "      <td>0.026752</td>\n",
       "      <td>0.866</td>\n",
       "      <td>46LhBf6TvYjZU2SMvGZAbn</td>\n",
       "      <td>0.000060</td>\n",
       "      <td>0.545455</td>\n",
       "      <td>0.1780</td>\n",
       "      <td>0.859933</td>\n",
       "      <td>The One</td>\n",
       "      <td>0.00</td>\n",
       "      <td>0.0356</td>\n",
       "      <td>0.517324</td>\n",
       "      <td>0.1860</td>\n",
       "      <td>2020s</td>\n",
       "      <td>1</td>\n",
       "      <td>0</td>\n",
       "      <td>1</td>\n",
       "      <td>0</td>\n",
       "    </tr>\n",
       "    <tr>\n",
       "      <th>174385</th>\n",
       "      <td>0.795000</td>\n",
       "      <td>['Alessia Cara']</td>\n",
       "      <td>0.429</td>\n",
       "      <td>0.026209</td>\n",
       "      <td>0.211</td>\n",
       "      <td>7tue2Wemjd0FZzRtDrQFZd</td>\n",
       "      <td>0.000000</td>\n",
       "      <td>0.363636</td>\n",
       "      <td>0.1960</td>\n",
       "      <td>0.756949</td>\n",
       "      <td>A Little More</td>\n",
       "      <td>0.00</td>\n",
       "      <td>0.0360</td>\n",
       "      <td>0.388942</td>\n",
       "      <td>0.2280</td>\n",
       "      <td>2020s</td>\n",
       "      <td>1</td>\n",
       "      <td>0</td>\n",
       "      <td>0</td>\n",
       "      <td>1</td>\n",
       "    </tr>\n",
       "    <tr>\n",
       "      <th>174386</th>\n",
       "      <td>0.806000</td>\n",
       "      <td>['Roger Fly']</td>\n",
       "      <td>0.671</td>\n",
       "      <td>0.039977</td>\n",
       "      <td>0.589</td>\n",
       "      <td>48Qj61hOdYmUCFJbpQ29Ob</td>\n",
       "      <td>0.920000</td>\n",
       "      <td>0.363636</td>\n",
       "      <td>0.1130</td>\n",
       "      <td>0.745549</td>\n",
       "      <td>Together</td>\n",
       "      <td>0.00</td>\n",
       "      <td>0.0282</td>\n",
       "      <td>0.443757</td>\n",
       "      <td>0.7140</td>\n",
       "      <td>2020s</td>\n",
       "      <td>1</td>\n",
       "      <td>0</td>\n",
       "      <td>1</td>\n",
       "      <td>0</td>\n",
       "    </tr>\n",
       "    <tr>\n",
       "      <th>174387</th>\n",
       "      <td>0.920000</td>\n",
       "      <td>['Taylor Swift']</td>\n",
       "      <td>0.462</td>\n",
       "      <td>0.044824</td>\n",
       "      <td>0.240</td>\n",
       "      <td>1gcyHQpBQ1lfXGdhZmWrHP</td>\n",
       "      <td>0.000000</td>\n",
       "      <td>0.000000</td>\n",
       "      <td>0.1130</td>\n",
       "      <td>0.750497</td>\n",
       "      <td>champagne problems</td>\n",
       "      <td>0.69</td>\n",
       "      <td>0.0377</td>\n",
       "      <td>0.703549</td>\n",
       "      <td>0.3200</td>\n",
       "      <td>2020s</td>\n",
       "      <td>0</td>\n",
       "      <td>1</td>\n",
       "      <td>0</td>\n",
       "      <td>1</td>\n",
       "    </tr>\n",
       "    <tr>\n",
       "      <th>174388</th>\n",
       "      <td>0.239000</td>\n",
       "      <td>['Roger Fly']</td>\n",
       "      <td>0.677</td>\n",
       "      <td>0.036145</td>\n",
       "      <td>0.460</td>\n",
       "      <td>57tgYkWQTNHVFEt6xDKKZj</td>\n",
       "      <td>0.891000</td>\n",
       "      <td>0.636364</td>\n",
       "      <td>0.2150</td>\n",
       "      <td>0.747992</td>\n",
       "      <td>Improvisations</td>\n",
       "      <td>0.00</td>\n",
       "      <td>0.0258</td>\n",
       "      <td>0.460800</td>\n",
       "      <td>0.7470</td>\n",
       "      <td>2020s</td>\n",
       "      <td>1</td>\n",
       "      <td>0</td>\n",
       "      <td>0</td>\n",
       "      <td>1</td>\n",
       "    </tr>\n",
       "  </tbody>\n",
       "</table>\n",
       "<p>174389 rows × 20 columns</p>\n",
       "</div>"
      ],
      "text/plain": [
       "        acousticness                             artists  danceability  \\\n",
       "0           0.991000                     ['Mamie Smith']         0.598   \n",
       "1           0.643000           [\"Screamin' Jay Hawkins\"]         0.852   \n",
       "2           0.993000                     ['Mamie Smith']         0.647   \n",
       "3           0.000173                 ['Oscar Velazquez']         0.730   \n",
       "4           0.295000                            ['Mixe']         0.704   \n",
       "...              ...                                 ...           ...   \n",
       "174384      0.009170  ['DJ Combo', 'Sander-7', 'Tony T']         0.792   \n",
       "174385      0.795000                    ['Alessia Cara']         0.429   \n",
       "174386      0.806000                       ['Roger Fly']         0.671   \n",
       "174387      0.920000                    ['Taylor Swift']         0.462   \n",
       "174388      0.239000                       ['Roger Fly']         0.677   \n",
       "\n",
       "        duration_ms  energy                      id  instrumentalness  \\\n",
       "0          0.030637   0.224  0cS0A1fUEUd1EW3FcF8AEI          0.000522   \n",
       "1          0.027237   0.517  0hbkKFIJm7Z05H8Zl9w30f          0.026400   \n",
       "2          0.029792   0.186  11m7laMUgmOKqI3oYzuhne          0.000018   \n",
       "3          0.078215   0.798  19Lc5SfJJ5O1oaxY0fpwfh          0.801000   \n",
       "4          0.030054   0.707  2hJjbsLCytGsnAHfdsLejp          0.000246   \n",
       "...             ...     ...                     ...               ...   \n",
       "174384     0.026752   0.866  46LhBf6TvYjZU2SMvGZAbn          0.000060   \n",
       "174385     0.026209   0.211  7tue2Wemjd0FZzRtDrQFZd          0.000000   \n",
       "174386     0.039977   0.589  48Qj61hOdYmUCFJbpQ29Ob          0.920000   \n",
       "174387     0.044824   0.240  1gcyHQpBQ1lfXGdhZmWrHP          0.000000   \n",
       "174388     0.036145   0.460  57tgYkWQTNHVFEt6xDKKZj          0.891000   \n",
       "\n",
       "             key  liveness  loudness  \\\n",
       "0       0.454545    0.3790  0.741868   \n",
       "1       0.454545    0.0809  0.825918   \n",
       "2       0.000000    0.5190  0.750168   \n",
       "3       0.181818    0.1280  0.825135   \n",
       "4       0.909091    0.4020  0.845102   \n",
       "...          ...       ...       ...   \n",
       "174384  0.545455    0.1780  0.859933   \n",
       "174385  0.363636    0.1960  0.756949   \n",
       "174386  0.363636    0.1130  0.745549   \n",
       "174387  0.000000    0.1130  0.750497   \n",
       "174388  0.636364    0.2150  0.747992   \n",
       "\n",
       "                                                     name  popularity  \\\n",
       "0                                Keep A Song In Your Soul        0.12   \n",
       "1                                    I Put A Spell On You        0.07   \n",
       "2                                            Golfing Papa        0.04   \n",
       "3       True House Music - Xavier Santos & Carlos Gomi...        0.17   \n",
       "4                                               Xuniverxe        0.02   \n",
       "...                                                   ...         ...   \n",
       "174384                                            The One        0.00   \n",
       "174385                                      A Little More        0.00   \n",
       "174386                                           Together        0.00   \n",
       "174387                                 champagne problems        0.69   \n",
       "174388                                     Improvisations        0.00   \n",
       "\n",
       "        speechiness     tempo  valence   year  explicit_0  explicit_1  mode_0  \\\n",
       "0            0.0936  0.615900   0.6340  1920s           1           0       1   \n",
       "1            0.0534  0.356823   0.9500  1920s           1           0       1   \n",
       "2            0.1740  0.400810   0.6890  1920s           1           0       0   \n",
       "3            0.0425  0.525640   0.0422  1920s           1           0       0   \n",
       "4            0.0768  0.501324   0.2990  1920s           0           1       1   \n",
       "...             ...       ...      ...    ...         ...         ...     ...   \n",
       "174384       0.0356  0.517324   0.1860  2020s           1           0       1   \n",
       "174385       0.0360  0.388942   0.2280  2020s           1           0       0   \n",
       "174386       0.0282  0.443757   0.7140  2020s           1           0       1   \n",
       "174387       0.0377  0.703549   0.3200  2020s           0           1       0   \n",
       "174388       0.0258  0.460800   0.7470  2020s           1           0       0   \n",
       "\n",
       "        mode_1  \n",
       "0            0  \n",
       "1            0  \n",
       "2            1  \n",
       "3            1  \n",
       "4            0  \n",
       "...        ...  \n",
       "174384       0  \n",
       "174385       1  \n",
       "174386       0  \n",
       "174387       1  \n",
       "174388       1  \n",
       "\n",
       "[174389 rows x 20 columns]"
      ]
     },
     "execution_count": 6,
     "metadata": {},
     "output_type": "execute_result"
    }
   ],
   "source": [
    "spotify = pd.read_csv( (working_dir)+\"/Data/spotify-pre_processed.csv\", delimiter = \",\")\n",
    "spotify"
   ]
  },
  {
   "cell_type": "code",
   "execution_count": 7,
   "metadata": {
    "pycharm": {
     "name": "#%%\n"
    }
   },
   "outputs": [
    {
     "data": {
      "text/plain": [
       "energy            acousticness       -0.750852\n",
       "acousticness      energy             -0.750852\n",
       "loudness          acousticness       -0.546639\n",
       "acousticness      loudness           -0.546639\n",
       "                  popularity         -0.396744\n",
       "popularity        acousticness       -0.396744\n",
       "speechiness       explicit_0         -0.353872\n",
       "explicit_0        speechiness        -0.353872\n",
       "instrumentalness  loudness           -0.317562\n",
       "loudness          instrumentalness   -0.317562\n",
       "dtype: float64"
      ]
     },
     "execution_count": 7,
     "metadata": {},
     "output_type": "execute_result"
    }
   ],
   "source": [
    "#Getting top five negative and positive correlations\n",
    "\n",
    "spotify_corr = spotify.corr(method='pearson')\n",
    "\n",
    "spotify_corr.unstack().sort_values(kind=\"quicksort\").head(14)[4:]"
   ]
  },
  {
   "cell_type": "code",
   "execution_count": null,
   "metadata": {
    "pycharm": {
     "name": "#%%\n"
    }
   },
   "outputs": [],
   "source": [
    "spotify_corr.unstack().sort_values(kind=\"quicksort\", ascending=False).head(26)[16:]\n",
    "\n",
    "#valence is the \"musical positiveness conveyed by a track\""
   ]
  },
  {
   "cell_type": "code",
   "execution_count": null,
   "metadata": {
    "pycharm": {
     "name": "#%%\n"
    }
   },
   "outputs": [],
   "source": [
    "from pandas.plotting import scatter_matrix\n",
    "\n",
    "scatter_matrix(spotify[[\"energy\",\"acousticness\",\"loudness\"]], figsize=(20,20), hist_kwds={'bins':15}, alpha=.5, marker='o', s=5)"
   ]
  },
  {
   "cell_type": "code",
   "execution_count": null,
   "metadata": {
    "pycharm": {
     "name": "#%%\n"
    }
   },
   "outputs": [],
   "source": [
    "scatter_matrix(spotify[[\"valence\",\"acousticness\",\"danceability\"]], figsize=(20,20), hist_kwds={'bins':15}, alpha=.5, marker='o', s=5)"
   ]
  },
  {
   "cell_type": "code",
   "execution_count": null,
   "metadata": {
    "pycharm": {
     "name": "#%%\n"
    }
   },
   "outputs": [],
   "source": [
    "#10 most popular songs\n",
    "spotify.nlargest(10, 'popularity')"
   ]
  },
  {
   "cell_type": "markdown",
   "metadata": {},
   "source": [
    "## 2b Histograms for Numerical Attributes,  only printed histograms for attributes that weren't printed on the Scatter Matrix"
   ]
  },
  {
   "cell_type": "code",
   "execution_count": null,
   "metadata": {
    "pycharm": {
     "name": "#%%\n"
    }
   },
   "outputs": [],
   "source": [
    "spotify[['acousticness', 'danceability', 'energy', 'instrumentalness', 'key', 'liveness', 'loudness', 'popularity', 'speechiness', 'tempo', 'valence']].describe()"
   ]
  },
  {
   "cell_type": "code",
   "execution_count": null,
   "metadata": {
    "pycharm": {
     "name": "#%%\n"
    }
   },
   "outputs": [],
   "source": [
    "spotify[['instrumentalness']].plot(kind=\"hist\", bins=15)"
   ]
  },
  {
   "cell_type": "code",
   "execution_count": null,
   "metadata": {
    "pycharm": {
     "name": "#%%\n"
    }
   },
   "outputs": [],
   "source": [
    "spotify[['key']].plot(kind=\"hist\", bins=15)"
   ]
  },
  {
   "cell_type": "code",
   "execution_count": null,
   "metadata": {
    "pycharm": {
     "name": "#%%\n"
    }
   },
   "outputs": [],
   "source": [
    "spotify[['liveness']].plot(kind=\"hist\", bins=15)"
   ]
  },
  {
   "cell_type": "code",
   "execution_count": null,
   "metadata": {
    "pycharm": {
     "name": "#%%\n"
    }
   },
   "outputs": [],
   "source": [
    "spotify[['popularity']].plot(kind=\"hist\", bins=15)"
   ]
  },
  {
   "cell_type": "code",
   "execution_count": null,
   "metadata": {
    "pycharm": {
     "name": "#%%\n"
    }
   },
   "outputs": [],
   "source": [
    "spotify[['speechiness']].plot(kind=\"hist\", bins=15)"
   ]
  },
  {
   "cell_type": "code",
   "execution_count": null,
   "metadata": {
    "pycharm": {
     "name": "#%%\n"
    }
   },
   "outputs": [],
   "source": [
    "spotify[['tempo']].plot(kind=\"hist\", bins=15)"
   ]
  },
  {
   "cell_type": "code",
   "execution_count": null,
   "metadata": {
    "pycharm": {
     "name": "#%%\n"
    }
   },
   "outputs": [],
   "source": [
    "#who are the most prolific artists, as in have the most songs, in this dataset?\n",
    "spotify['artists'].value_counts().head(20)"
   ]
  }
 ],
 "metadata": {
  "kernelspec": {
   "display_name": "Python 3",
   "language": "python",
   "name": "python3"
  },
  "language_info": {
   "codemirror_mode": {
    "name": "ipython",
    "version": 3
   },
   "file_extension": ".py",
   "mimetype": "text/x-python",
   "name": "python",
   "nbconvert_exporter": "python",
   "pygments_lexer": "ipython3",
   "version": "3.8.5"
  }
 },
 "nbformat": 4,
 "nbformat_minor": 4
}