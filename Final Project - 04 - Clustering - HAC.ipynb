{
 "cells": [
  {
   "cell_type": "code",
   "execution_count": 1,
   "metadata": {},
   "outputs": [],
   "source": [
    "import numpy as np\n",
    "import pandas as pd\n",
    "import matplotlib.pyplot as plt \n"
   ]
  },
  {
   "cell_type": "code",
   "execution_count": 2,
   "metadata": {
    "pycharm": {
     "name": "#%%\n"
    }
   },
   "outputs": [],
   "source": [
    "# Assign %pwd to working_dir\n",
    "working_dir = %pwd"
   ]
  },
  {
   "cell_type": "code",
   "execution_count": 3,
   "metadata": {
    "pycharm": {
     "name": "#%%\n"
    }
   },
   "outputs": [],
   "source": [
    "spotify = pd.read_csv( (working_dir)+\"/Data/spotify-pca.csv\", delimiter = \",\")"
   ]
  },
  {
   "cell_type": "code",
   "execution_count": 4,
   "metadata": {
    "pycharm": {
     "name": "#%%\n"
    }
   },
   "outputs": [
    {
     "data": {
      "text/html": [
       "<div>\n",
       "<style scoped>\n",
       "    .dataframe tbody tr th:only-of-type {\n",
       "        vertical-align: middle;\n",
       "    }\n",
       "\n",
       "    .dataframe tbody tr th {\n",
       "        vertical-align: top;\n",
       "    }\n",
       "\n",
       "    .dataframe thead th {\n",
       "        text-align: right;\n",
       "    }\n",
       "</style>\n",
       "<table border=\"1\" class=\"dataframe\">\n",
       "  <thead>\n",
       "    <tr style=\"text-align: right;\">\n",
       "      <th></th>\n",
       "      <th>mode_0</th>\n",
       "      <th>acousticness</th>\n",
       "      <th>explicit_0</th>\n",
       "      <th>instrumentalness</th>\n",
       "      <th>key</th>\n",
       "      <th>valence</th>\n",
       "    </tr>\n",
       "  </thead>\n",
       "  <tbody>\n",
       "    <tr>\n",
       "      <th>16762</th>\n",
       "      <td>0</td>\n",
       "      <td>0.8360</td>\n",
       "      <td>1</td>\n",
       "      <td>0.000010</td>\n",
       "      <td>0.000000</td>\n",
       "      <td>0.369</td>\n",
       "    </tr>\n",
       "    <tr>\n",
       "      <th>105509</th>\n",
       "      <td>0</td>\n",
       "      <td>0.2840</td>\n",
       "      <td>1</td>\n",
       "      <td>0.000000</td>\n",
       "      <td>0.363636</td>\n",
       "      <td>0.636</td>\n",
       "    </tr>\n",
       "    <tr>\n",
       "      <th>88526</th>\n",
       "      <td>0</td>\n",
       "      <td>0.1730</td>\n",
       "      <td>1</td>\n",
       "      <td>0.000002</td>\n",
       "      <td>0.363636</td>\n",
       "      <td>0.684</td>\n",
       "    </tr>\n",
       "    <tr>\n",
       "      <th>96876</th>\n",
       "      <td>0</td>\n",
       "      <td>0.9550</td>\n",
       "      <td>1</td>\n",
       "      <td>0.903000</td>\n",
       "      <td>0.909091</td>\n",
       "      <td>0.770</td>\n",
       "    </tr>\n",
       "    <tr>\n",
       "      <th>48648</th>\n",
       "      <td>0</td>\n",
       "      <td>0.3740</td>\n",
       "      <td>1</td>\n",
       "      <td>0.111000</td>\n",
       "      <td>0.181818</td>\n",
       "      <td>0.581</td>\n",
       "    </tr>\n",
       "    <tr>\n",
       "      <th>...</th>\n",
       "      <td>...</td>\n",
       "      <td>...</td>\n",
       "      <td>...</td>\n",
       "      <td>...</td>\n",
       "      <td>...</td>\n",
       "      <td>...</td>\n",
       "    </tr>\n",
       "    <tr>\n",
       "      <th>11539</th>\n",
       "      <td>0</td>\n",
       "      <td>0.0671</td>\n",
       "      <td>1</td>\n",
       "      <td>0.001810</td>\n",
       "      <td>0.818182</td>\n",
       "      <td>0.746</td>\n",
       "    </tr>\n",
       "    <tr>\n",
       "      <th>113371</th>\n",
       "      <td>0</td>\n",
       "      <td>0.9910</td>\n",
       "      <td>1</td>\n",
       "      <td>0.917000</td>\n",
       "      <td>0.454545</td>\n",
       "      <td>0.416</td>\n",
       "    </tr>\n",
       "    <tr>\n",
       "      <th>66274</th>\n",
       "      <td>0</td>\n",
       "      <td>0.9190</td>\n",
       "      <td>1</td>\n",
       "      <td>0.000002</td>\n",
       "      <td>0.272727</td>\n",
       "      <td>0.203</td>\n",
       "    </tr>\n",
       "    <tr>\n",
       "      <th>81698</th>\n",
       "      <td>0</td>\n",
       "      <td>0.9050</td>\n",
       "      <td>1</td>\n",
       "      <td>0.820000</td>\n",
       "      <td>0.000000</td>\n",
       "      <td>0.558</td>\n",
       "    </tr>\n",
       "    <tr>\n",
       "      <th>54432</th>\n",
       "      <td>0</td>\n",
       "      <td>0.0155</td>\n",
       "      <td>1</td>\n",
       "      <td>0.000000</td>\n",
       "      <td>0.181818</td>\n",
       "      <td>0.732</td>\n",
       "    </tr>\n",
       "  </tbody>\n",
       "</table>\n",
       "<p>17439 rows × 6 columns</p>\n",
       "</div>"
      ],
      "text/plain": [
       "        mode_0  acousticness  explicit_0  instrumentalness       key  valence\n",
       "16762        0        0.8360           1          0.000010  0.000000    0.369\n",
       "105509       0        0.2840           1          0.000000  0.363636    0.636\n",
       "88526        0        0.1730           1          0.000002  0.363636    0.684\n",
       "96876        0        0.9550           1          0.903000  0.909091    0.770\n",
       "48648        0        0.3740           1          0.111000  0.181818    0.581\n",
       "...        ...           ...         ...               ...       ...      ...\n",
       "11539        0        0.0671           1          0.001810  0.818182    0.746\n",
       "113371       0        0.9910           1          0.917000  0.454545    0.416\n",
       "66274        0        0.9190           1          0.000002  0.272727    0.203\n",
       "81698        0        0.9050           1          0.820000  0.000000    0.558\n",
       "54432        0        0.0155           1          0.000000  0.181818    0.732\n",
       "\n",
       "[17439 rows x 6 columns]"
      ]
     },
     "execution_count": 4,
     "metadata": {},
     "output_type": "execute_result"
    }
   ],
   "source": [
    "# random sample the data\n",
    "spotify_sample = spotify.sample(frac=0.1, random_state=3)\n",
    "# remove nominal attributes\n",
    "spotify_sample = spotify_sample[spotify_sample.describe().columns]\n",
    "spotify_sample"
   ]
  },
  {
   "cell_type": "code",
   "execution_count": 5,
   "metadata": {
    "pycharm": {
     "name": "#%%\n"
    }
   },
   "outputs": [
    {
     "data": {
      "image/png": "[encoded data removed]",
      "text/plain": [
       "<Figure size 720x504 with 1 Axes>"
      ]
     },
     "metadata": {
      "needs_background": "light"
     },
     "output_type": "display_data"
    }
   ],
   "source": [
    "import scipy.cluster.hierarchy as shc\n",
    "\n",
    "plt.figure(figsize=(10, 7))\n",
    "plt.title(\"Spotify Dendograms\")\n",
    "dend = shc.dendrogram(shc.linkage(spotify_sample, method='ward'))"
   ]
  }
 ],
 "metadata": {
  "kernelspec": {
   "display_name": "Python 3",
   "language": "python",
   "name": "python3"
  },
  "language_info": {
   "codemirror_mode": {
    "name": "ipython",
    "version": 3
   },
   "file_extension": ".py",
   "mimetype": "text/x-python",
   "name": "python",
   "nbconvert_exporter": "python",
   "pygments_lexer": "ipython3",
   "version": "3.8.5"
  }
 },
 "nbformat": 4,
 "nbformat_minor": 4
}
