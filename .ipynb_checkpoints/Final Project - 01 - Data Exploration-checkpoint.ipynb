{
 "cells": [
  {
   "cell_type": "code",
   "execution_count": 1,
   "metadata": {
    "pycharm": {
     "is_executing": true
    }
   },
   "outputs": [],
   "source": [
    "# Import Statements\n",
    "from string import ascii_letters\n",
    "import numpy as np\n",
    "import pandas as pd\n",
    "import seaborn as sns\n",
    "import matplotlib.pyplot as plt\n",
    "# https://www.theverge.com/tldr/2018/2/5/16974194/spotify-recommendation-algorithm-playlist-hack-nelson\n",
    "# https://opendatascience.com/a-machine-learning-deep-dive-into-my-spotify-data/\n",
    "# https://medium.com/cuepoint/visualizing-hundreds-of-my-favorite-songs-on-spotify-fe50c94b8af3\n",
    "# https://developer.spotify.com/documentation/web-api/reference/#endpoint-get-audio-features"
   ]
  },
  {
   "cell_type": "code",
   "execution_count": 2,
   "metadata": {
    "pycharm": {
     "is_executing": true
    }
   },
   "outputs": [],
   "source": [
    "# Assign %pwd to working_dir\n",
    "working_dir = %pwd"
   ]
  },
  {
   "cell_type": "code",
   "execution_count": 3,
   "metadata": {
    "pycharm": {
     "is_executing": true
    },
    "scrolled": true
   },
   "outputs": [],
   "source": [
    "# spotify = pd.read_csv( (working_dir)+\"/Data/spotify-pre_processed.csv\", delimiter = \",\")\n",
    "spotify = pd.read_csv( (working_dir)+\"/Data/data.csv\", delimiter = \",\")\n",
    "#spotify"
   ]
  },
  {
   "cell_type": "markdown",
   "metadata": {},
   "source": [
    "# Datatypes for each attribute."
   ]
  },
  {
   "cell_type": "code",
   "execution_count": 4,
   "metadata": {
    "pycharm": {
     "is_executing": true
    }
   },
   "outputs": [
    {
     "data": {
      "text/plain": [
       "acousticness        float64\n",
       "artists              object\n",
       "danceability        float64\n",
       "duration_ms           int64\n",
       "energy              float64\n",
       "explicit              int64\n",
       "id                   object\n",
       "instrumentalness    float64\n",
       "key                   int64\n",
       "liveness            float64\n",
       "loudness            float64\n",
       "mode                  int64\n",
       "name                 object\n",
       "popularity            int64\n",
       "release_date         object\n",
       "speechiness         float64\n",
       "tempo               float64\n",
       "valence             float64\n",
       "year                  int64\n",
       "dtype: object"
      ]
     },
     "execution_count": 4,
     "metadata": {},
     "output_type": "execute_result"
    }
   ],
   "source": [
    "spotify.dtypes"
   ]
  },
  {
   "cell_type": "markdown",
   "metadata": {},
   "source": [
    "# General characteristics for the numeric attributes (means, standard deviations, and other statistics)"
   ]
  },
  {
   "cell_type": "code",
   "execution_count": 5,
   "metadata": {
    "pycharm": {
     "is_executing": true
    },
    "scrolled": true
   },
   "outputs": [
    {
     "data": {
      "text/html": [
       "<div>\n",
       "<style scoped>\n",
       "    .dataframe tbody tr th:only-of-type {\n",
       "        vertical-align: middle;\n",
       "    }\n",
       "\n",
       "    .dataframe tbody tr th {\n",
       "        vertical-align: top;\n",
       "    }\n",
       "\n",
       "    .dataframe thead th {\n",
       "        text-align: right;\n",
       "    }\n",
       "</style>\n",
       "<table border=\"1\" class=\"dataframe\">\n",
       "  <thead>\n",
       "    <tr style=\"text-align: right;\">\n",
       "      <th></th>\n",
       "      <th>acousticness</th>\n",
       "      <th>danceability</th>\n",
       "      <th>duration_ms</th>\n",
       "      <th>energy</th>\n",
       "      <th>explicit</th>\n",
       "      <th>instrumentalness</th>\n",
       "      <th>key</th>\n",
       "      <th>liveness</th>\n",
       "      <th>loudness</th>\n",
       "      <th>mode</th>\n",
       "      <th>popularity</th>\n",
       "      <th>speechiness</th>\n",
       "      <th>tempo</th>\n",
       "      <th>valence</th>\n",
       "      <th>year</th>\n",
       "    </tr>\n",
       "  </thead>\n",
       "  <tbody>\n",
       "    <tr>\n",
       "      <th>count</th>\n",
       "      <td>174389.000000</td>\n",
       "      <td>174389.000000</td>\n",
       "      <td>1.743890e+05</td>\n",
       "      <td>174389.000000</td>\n",
       "      <td>174389.000000</td>\n",
       "      <td>174389.000000</td>\n",
       "      <td>174389.000000</td>\n",
       "      <td>174389.000000</td>\n",
       "      <td>174389.000000</td>\n",
       "      <td>174389.000000</td>\n",
       "      <td>174389.000000</td>\n",
       "      <td>174389.000000</td>\n",
       "      <td>174389.000000</td>\n",
       "      <td>174389.000000</td>\n",
       "      <td>174389.000000</td>\n",
       "    </tr>\n",
       "    <tr>\n",
       "      <th>mean</th>\n",
       "      <td>0.499228</td>\n",
       "      <td>0.536758</td>\n",
       "      <td>2.328100e+05</td>\n",
       "      <td>0.482721</td>\n",
       "      <td>0.068135</td>\n",
       "      <td>0.197252</td>\n",
       "      <td>5.205305</td>\n",
       "      <td>0.211123</td>\n",
       "      <td>-11.750865</td>\n",
       "      <td>0.702384</td>\n",
       "      <td>25.693381</td>\n",
       "      <td>0.105729</td>\n",
       "      <td>117.006500</td>\n",
       "      <td>0.524533</td>\n",
       "      <td>1977.061764</td>\n",
       "    </tr>\n",
       "    <tr>\n",
       "      <th>std</th>\n",
       "      <td>0.379936</td>\n",
       "      <td>0.176025</td>\n",
       "      <td>1.483958e+05</td>\n",
       "      <td>0.272685</td>\n",
       "      <td>0.251978</td>\n",
       "      <td>0.334574</td>\n",
       "      <td>3.518292</td>\n",
       "      <td>0.180493</td>\n",
       "      <td>5.691591</td>\n",
       "      <td>0.457211</td>\n",
       "      <td>21.872740</td>\n",
       "      <td>0.182260</td>\n",
       "      <td>30.254178</td>\n",
       "      <td>0.264477</td>\n",
       "      <td>26.907950</td>\n",
       "    </tr>\n",
       "    <tr>\n",
       "      <th>min</th>\n",
       "      <td>0.000000</td>\n",
       "      <td>0.000000</td>\n",
       "      <td>4.937000e+03</td>\n",
       "      <td>0.000000</td>\n",
       "      <td>0.000000</td>\n",
       "      <td>0.000000</td>\n",
       "      <td>0.000000</td>\n",
       "      <td>0.000000</td>\n",
       "      <td>-60.000000</td>\n",
       "      <td>0.000000</td>\n",
       "      <td>0.000000</td>\n",
       "      <td>0.000000</td>\n",
       "      <td>0.000000</td>\n",
       "      <td>0.000000</td>\n",
       "      <td>1920.000000</td>\n",
       "    </tr>\n",
       "    <tr>\n",
       "      <th>25%</th>\n",
       "      <td>0.087700</td>\n",
       "      <td>0.414000</td>\n",
       "      <td>1.661330e+05</td>\n",
       "      <td>0.249000</td>\n",
       "      <td>0.000000</td>\n",
       "      <td>0.000000</td>\n",
       "      <td>2.000000</td>\n",
       "      <td>0.099200</td>\n",
       "      <td>-14.908000</td>\n",
       "      <td>0.000000</td>\n",
       "      <td>1.000000</td>\n",
       "      <td>0.035200</td>\n",
       "      <td>93.931000</td>\n",
       "      <td>0.311000</td>\n",
       "      <td>1955.000000</td>\n",
       "    </tr>\n",
       "    <tr>\n",
       "      <th>50%</th>\n",
       "      <td>0.517000</td>\n",
       "      <td>0.548000</td>\n",
       "      <td>2.057870e+05</td>\n",
       "      <td>0.465000</td>\n",
       "      <td>0.000000</td>\n",
       "      <td>0.000524</td>\n",
       "      <td>5.000000</td>\n",
       "      <td>0.138000</td>\n",
       "      <td>-10.836000</td>\n",
       "      <td>1.000000</td>\n",
       "      <td>25.000000</td>\n",
       "      <td>0.045500</td>\n",
       "      <td>115.816000</td>\n",
       "      <td>0.536000</td>\n",
       "      <td>1977.000000</td>\n",
       "    </tr>\n",
       "    <tr>\n",
       "      <th>75%</th>\n",
       "      <td>0.895000</td>\n",
       "      <td>0.669000</td>\n",
       "      <td>2.657200e+05</td>\n",
       "      <td>0.711000</td>\n",
       "      <td>0.000000</td>\n",
       "      <td>0.252000</td>\n",
       "      <td>8.000000</td>\n",
       "      <td>0.270000</td>\n",
       "      <td>-7.499000</td>\n",
       "      <td>1.000000</td>\n",
       "      <td>42.000000</td>\n",
       "      <td>0.076300</td>\n",
       "      <td>135.011000</td>\n",
       "      <td>0.743000</td>\n",
       "      <td>1999.000000</td>\n",
       "    </tr>\n",
       "    <tr>\n",
       "      <th>max</th>\n",
       "      <td>0.996000</td>\n",
       "      <td>0.988000</td>\n",
       "      <td>5.338302e+06</td>\n",
       "      <td>1.000000</td>\n",
       "      <td>1.000000</td>\n",
       "      <td>1.000000</td>\n",
       "      <td>11.000000</td>\n",
       "      <td>1.000000</td>\n",
       "      <td>3.855000</td>\n",
       "      <td>1.000000</td>\n",
       "      <td>100.000000</td>\n",
       "      <td>0.971000</td>\n",
       "      <td>243.507000</td>\n",
       "      <td>1.000000</td>\n",
       "      <td>2021.000000</td>\n",
       "    </tr>\n",
       "  </tbody>\n",
       "</table>\n",
       "</div>"
      ],
      "text/plain": [
       "        acousticness   danceability   duration_ms         energy  \\\n",
       "count  174389.000000  174389.000000  1.743890e+05  174389.000000   \n",
       "mean        0.499228       0.536758  2.328100e+05       0.482721   \n",
       "std         0.379936       0.176025  1.483958e+05       0.272685   \n",
       "min         0.000000       0.000000  4.937000e+03       0.000000   \n",
       "25%         0.087700       0.414000  1.661330e+05       0.249000   \n",
       "50%         0.517000       0.548000  2.057870e+05       0.465000   \n",
       "75%         0.895000       0.669000  2.657200e+05       0.711000   \n",
       "max         0.996000       0.988000  5.338302e+06       1.000000   \n",
       "\n",
       "            explicit  instrumentalness            key       liveness  \\\n",
       "count  174389.000000     174389.000000  174389.000000  174389.000000   \n",
       "mean        0.068135          0.197252       5.205305       0.211123   \n",
       "std         0.251978          0.334574       3.518292       0.180493   \n",
       "min         0.000000          0.000000       0.000000       0.000000   \n",
       "25%         0.000000          0.000000       2.000000       0.099200   \n",
       "50%         0.000000          0.000524       5.000000       0.138000   \n",
       "75%         0.000000          0.252000       8.000000       0.270000   \n",
       "max         1.000000          1.000000      11.000000       1.000000   \n",
       "\n",
       "            loudness           mode     popularity    speechiness  \\\n",
       "count  174389.000000  174389.000000  174389.000000  174389.000000   \n",
       "mean      -11.750865       0.702384      25.693381       0.105729   \n",
       "std         5.691591       0.457211      21.872740       0.182260   \n",
       "min       -60.000000       0.000000       0.000000       0.000000   \n",
       "25%       -14.908000       0.000000       1.000000       0.035200   \n",
       "50%       -10.836000       1.000000      25.000000       0.045500   \n",
       "75%        -7.499000       1.000000      42.000000       0.076300   \n",
       "max         3.855000       1.000000     100.000000       0.971000   \n",
       "\n",
       "               tempo        valence           year  \n",
       "count  174389.000000  174389.000000  174389.000000  \n",
       "mean      117.006500       0.524533    1977.061764  \n",
       "std        30.254178       0.264477      26.907950  \n",
       "min         0.000000       0.000000    1920.000000  \n",
       "25%        93.931000       0.311000    1955.000000  \n",
       "50%       115.816000       0.536000    1977.000000  \n",
       "75%       135.011000       0.743000    1999.000000  \n",
       "max       243.507000       1.000000    2021.000000  "
      ]
     },
     "execution_count": 5,
     "metadata": {},
     "output_type": "execute_result"
    }
   ],
   "source": [
    "spotify.describe()"
   ]
  },
  {
   "cell_type": "markdown",
   "metadata": {},
   "source": [
    "### Acousticness:  \n",
    "### A confidence measure from 0.0 to 1.0 of whether the track is acoustic. 1.0 represents high confidence the track is acoustic.\n",
    "\n",
    "### Does not follow a normal distribution.  Most of the acousticness appears to occur in the .00 and .95 range."
   ]
  },
  {
   "cell_type": "code",
   "execution_count": 6,
   "metadata": {
    "pycharm": {
     "is_executing": true
    }
   },
   "outputs": [
    {
     "name": "stdout",
     "output_type": "stream",
     "text": [
      "Mean:   0.499\n",
      "Median: 0.517\n",
      "Mode:   0.995\n",
      "Skew:  -0.035\n"
     ]
    },
    {
     "data": {
      "text/plain": [
       "<AxesSubplot:ylabel='Frequency'>"
      ]
     },
     "execution_count": 6,
     "metadata": {},
     "output_type": "execute_result"
    },
    {
     "data": {
      "image/png": "[encoded data removed]",
      "text/plain": [
       "<Figure size 432x288 with 1 Axes>"
      ]
     },
     "metadata": {
      "needs_background": "light"
     },
     "output_type": "display_data"
    }
   ],
   "source": [
    "print('Mean:   {:,.3f}'.format(spotify[['acousticness']].mean().values[0]))\n",
    "print('Median: {}'.format(spotify[['acousticness']].median().values[0]))\n",
    "print('Mode:  {}'.format(spotify[['acousticness']].mode().to_string(header=None,index=False)))\n",
    "print('Skew:  {:,.3f}'.format(spotify[['acousticness']].skew().values[0]))\n",
    "spotify[['acousticness']].plot(kind=\"hist\", bins=20)"
   ]
  },
  {
   "cell_type": "markdown",
   "metadata": {},
   "source": [
    "### Top 10 Songs by Acousticness"
   ]
  },
  {
   "cell_type": "code",
   "execution_count": 7,
   "metadata": {},
   "outputs": [
    {
     "data": {
      "text/html": [
       "<div>\n",
       "<style scoped>\n",
       "    .dataframe tbody tr th:only-of-type {\n",
       "        vertical-align: middle;\n",
       "    }\n",
       "\n",
       "    .dataframe tbody tr th {\n",
       "        vertical-align: top;\n",
       "    }\n",
       "\n",
       "    .dataframe thead th {\n",
       "        text-align: right;\n",
       "    }\n",
       "</style>\n",
       "<table border=\"1\" class=\"dataframe\">\n",
       "  <thead>\n",
       "    <tr style=\"text-align: right;\">\n",
       "      <th></th>\n",
       "      <th>artists</th>\n",
       "      <th>name</th>\n",
       "      <th>acousticness</th>\n",
       "    </tr>\n",
       "  </thead>\n",
       "  <tbody>\n",
       "    <tr>\n",
       "      <th>5</th>\n",
       "      <td>['Mamie Smith &amp; Her Jazz Hounds']</td>\n",
       "      <td>Crazy Blues - 78rpm Version</td>\n",
       "      <td>0.996</td>\n",
       "    </tr>\n",
       "    <tr>\n",
       "      <th>7</th>\n",
       "      <td>['Mamie Smith &amp; Her Jazz Hounds']</td>\n",
       "      <td>Arkansas Blues</td>\n",
       "      <td>0.996</td>\n",
       "    </tr>\n",
       "    <tr>\n",
       "      <th>8</th>\n",
       "      <td>['Francisco Canaro']</td>\n",
       "      <td>La Chacarera - Remasterizado</td>\n",
       "      <td>0.996</td>\n",
       "    </tr>\n",
       "    <tr>\n",
       "      <th>11</th>\n",
       "      <td>['Francisco Canaro']</td>\n",
       "      <td>Desengaño - Remasterizado</td>\n",
       "      <td>0.996</td>\n",
       "    </tr>\n",
       "    <tr>\n",
       "      <th>17</th>\n",
       "      <td>['Francisco Canaro']</td>\n",
       "      <td>El Africano - Remasterizado</td>\n",
       "      <td>0.996</td>\n",
       "    </tr>\n",
       "    <tr>\n",
       "      <th>32</th>\n",
       "      <td>['Maurice Chevalier']</td>\n",
       "      <td>Oh Maurice</td>\n",
       "      <td>0.996</td>\n",
       "    </tr>\n",
       "    <tr>\n",
       "      <th>56</th>\n",
       "      <td>['Mamie Smith &amp; Her Jazz Hounds']</td>\n",
       "      <td>Frankie Blues</td>\n",
       "      <td>0.996</td>\n",
       "    </tr>\n",
       "    <tr>\n",
       "      <th>59</th>\n",
       "      <td>['Mamie Smith &amp; Her Jazz Hounds']</td>\n",
       "      <td>The Darktown Flappers' Ball</td>\n",
       "      <td>0.996</td>\n",
       "    </tr>\n",
       "    <tr>\n",
       "      <th>63</th>\n",
       "      <td>['Francisco Canaro']</td>\n",
       "      <td>El Baccarat - Remasterizado</td>\n",
       "      <td>0.996</td>\n",
       "    </tr>\n",
       "    <tr>\n",
       "      <th>80</th>\n",
       "      <td>['Mamie Smith &amp; Her Jazz Hounds']</td>\n",
       "      <td>Mean Daddy Blues</td>\n",
       "      <td>0.996</td>\n",
       "    </tr>\n",
       "  </tbody>\n",
       "</table>\n",
       "</div>"
      ],
      "text/plain": [
       "                              artists                          name  \\\n",
       "5   ['Mamie Smith & Her Jazz Hounds']   Crazy Blues - 78rpm Version   \n",
       "7   ['Mamie Smith & Her Jazz Hounds']                Arkansas Blues   \n",
       "8                ['Francisco Canaro']  La Chacarera - Remasterizado   \n",
       "11               ['Francisco Canaro']     Desengaño - Remasterizado   \n",
       "17               ['Francisco Canaro']   El Africano - Remasterizado   \n",
       "32              ['Maurice Chevalier']                    Oh Maurice   \n",
       "56  ['Mamie Smith & Her Jazz Hounds']                 Frankie Blues   \n",
       "59  ['Mamie Smith & Her Jazz Hounds']   The Darktown Flappers' Ball   \n",
       "63               ['Francisco Canaro']   El Baccarat - Remasterizado   \n",
       "80  ['Mamie Smith & Her Jazz Hounds']              Mean Daddy Blues   \n",
       "\n",
       "    acousticness  \n",
       "5          0.996  \n",
       "7          0.996  \n",
       "8          0.996  \n",
       "11         0.996  \n",
       "17         0.996  \n",
       "32         0.996  \n",
       "56         0.996  \n",
       "59         0.996  \n",
       "63         0.996  \n",
       "80         0.996  "
      ]
     },
     "execution_count": 7,
     "metadata": {},
     "output_type": "execute_result"
    }
   ],
   "source": [
    "spotify[['artists', 'name', 'acousticness']].nlargest(10, 'acousticness')"
   ]
  },
  {
   "cell_type": "markdown",
   "metadata": {},
   "source": [
    "### Bottom 10 Songs by Acousticness"
   ]
  },
  {
   "cell_type": "code",
   "execution_count": 8,
   "metadata": {},
   "outputs": [
    {
     "data": {
      "text/html": [
       "<div>\n",
       "<style scoped>\n",
       "    .dataframe tbody tr th:only-of-type {\n",
       "        vertical-align: middle;\n",
       "    }\n",
       "\n",
       "    .dataframe tbody tr th {\n",
       "        vertical-align: top;\n",
       "    }\n",
       "\n",
       "    .dataframe thead th {\n",
       "        text-align: right;\n",
       "    }\n",
       "</style>\n",
       "<table border=\"1\" class=\"dataframe\">\n",
       "  <thead>\n",
       "    <tr style=\"text-align: right;\">\n",
       "      <th></th>\n",
       "      <th>artists</th>\n",
       "      <th>name</th>\n",
       "      <th>acousticness</th>\n",
       "    </tr>\n",
       "  </thead>\n",
       "  <tbody>\n",
       "    <tr>\n",
       "      <th>18946</th>\n",
       "      <td>['White Noise Meditation', 'Lullaby Land', 'Wh...</td>\n",
       "      <td>Brown Noise - Loopable with No Fade</td>\n",
       "      <td>0.0</td>\n",
       "    </tr>\n",
       "    <tr>\n",
       "      <th>23004</th>\n",
       "      <td>['Benny Goodman']</td>\n",
       "      <td>Pause Track - Live</td>\n",
       "      <td>0.0</td>\n",
       "    </tr>\n",
       "    <tr>\n",
       "      <th>23073</th>\n",
       "      <td>['Benny Goodman']</td>\n",
       "      <td>Pause Track - Live</td>\n",
       "      <td>0.0</td>\n",
       "    </tr>\n",
       "    <tr>\n",
       "      <th>36275</th>\n",
       "      <td>['Thomas Bronzwaer']</td>\n",
       "      <td>Close Horizon [ASOT 229] - Original Mix</td>\n",
       "      <td>0.0</td>\n",
       "    </tr>\n",
       "    <tr>\n",
       "      <th>36551</th>\n",
       "      <td>['Re:Locate']</td>\n",
       "      <td>Rogue [ASOT 281] - Original Mix</td>\n",
       "      <td>0.0</td>\n",
       "    </tr>\n",
       "    <tr>\n",
       "      <th>57621</th>\n",
       "      <td>['Ferry Corsten', 'Cosmic Gate']</td>\n",
       "      <td>Event Horizon (Mix Cut)</td>\n",
       "      <td>0.0</td>\n",
       "    </tr>\n",
       "    <tr>\n",
       "      <th>62366</th>\n",
       "      <td>['Future Rapper']</td>\n",
       "      <td>StaggerLee Has His Day at the Beach</td>\n",
       "      <td>0.0</td>\n",
       "    </tr>\n",
       "    <tr>\n",
       "      <th>62458</th>\n",
       "      <td>['Sarah Vaughan']</td>\n",
       "      <td>Pause Track</td>\n",
       "      <td>0.0</td>\n",
       "    </tr>\n",
       "    <tr>\n",
       "      <th>75557</th>\n",
       "      <td>['Armin van Buuren', 'Mark Sixma']</td>\n",
       "      <td>Panta Rhei (Mix Cut) - Original Mix</td>\n",
       "      <td>0.0</td>\n",
       "    </tr>\n",
       "    <tr>\n",
       "      <th>75784</th>\n",
       "      <td>['Brown Noise for Babies', 'White Noise for De...</td>\n",
       "      <td>Brown Noise</td>\n",
       "      <td>0.0</td>\n",
       "    </tr>\n",
       "  </tbody>\n",
       "</table>\n",
       "</div>"
      ],
      "text/plain": [
       "                                                 artists  \\\n",
       "18946  ['White Noise Meditation', 'Lullaby Land', 'Wh...   \n",
       "23004                                  ['Benny Goodman']   \n",
       "23073                                  ['Benny Goodman']   \n",
       "36275                               ['Thomas Bronzwaer']   \n",
       "36551                                      ['Re:Locate']   \n",
       "57621                   ['Ferry Corsten', 'Cosmic Gate']   \n",
       "62366                                  ['Future Rapper']   \n",
       "62458                                  ['Sarah Vaughan']   \n",
       "75557                 ['Armin van Buuren', 'Mark Sixma']   \n",
       "75784  ['Brown Noise for Babies', 'White Noise for De...   \n",
       "\n",
       "                                          name  acousticness  \n",
       "18946      Brown Noise - Loopable with No Fade           0.0  \n",
       "23004                       Pause Track - Live           0.0  \n",
       "23073                       Pause Track - Live           0.0  \n",
       "36275  Close Horizon [ASOT 229] - Original Mix           0.0  \n",
       "36551          Rogue [ASOT 281] - Original Mix           0.0  \n",
       "57621                  Event Horizon (Mix Cut)           0.0  \n",
       "62366      StaggerLee Has His Day at the Beach           0.0  \n",
       "62458                              Pause Track           0.0  \n",
       "75557      Panta Rhei (Mix Cut) - Original Mix           0.0  \n",
       "75784                              Brown Noise           0.0  "
      ]
     },
     "execution_count": 8,
     "metadata": {},
     "output_type": "execute_result"
    }
   ],
   "source": [
    "spotify[['artists', 'name', 'acousticness']].nsmallest(10, 'acousticness')"
   ]
  },
  {
   "cell_type": "markdown",
   "metadata": {},
   "source": [
    "### Danceability:  \n",
    "### Describes how suitable a track is for dancing based on a combination of musical elements including tempo, rhythm stability, beat strength, and overall regularity. A value of 0.0 is least danceable and 1.0 is most danceable.\n",
    "\n",
    "### It's not quite a normal distribution, it appears to skew to the left."
   ]
  },
  {
   "cell_type": "code",
   "execution_count": 9,
   "metadata": {
    "pycharm": {
     "is_executing": true
    }
   },
   "outputs": [
    {
     "name": "stdout",
     "output_type": "stream",
     "text": [
      "Mean:   0.537\n",
      "Median: 0.548\n",
      "Mode:   0.565\n",
      "Skew:  -0.236\n"
     ]
    },
    {
     "data": {
      "text/plain": [
       "<AxesSubplot:ylabel='Frequency'>"
      ]
     },
     "execution_count": 9,
     "metadata": {},
     "output_type": "execute_result"
    },
    {
     "data": {
      "image/png": "[encoded data removed]",
      "text/plain": [
       "<Figure size 432x288 with 1 Axes>"
      ]
     },
     "metadata": {
      "needs_background": "light"
     },
     "output_type": "display_data"
    }
   ],
   "source": [
    "print('Mean:   {:,.3f}'.format(spotify[['danceability']].mean().values[0]))\n",
    "print('Median: {:,.3f}'.format(spotify[['danceability']].median().values[0]))\n",
    "print('Mode:  {}'.format(spotify[['danceability']].mode().to_string(header=None,index=False)))\n",
    "print('Skew:  {:,.3f}'.format(spotify[['danceability']].skew().values[0]))\n",
    "spotify[['danceability']].plot(kind=\"hist\", bins=20)"
   ]
  },
  {
   "cell_type": "markdown",
   "metadata": {},
   "source": [
    "### Top 10 Songs by Danceability"
   ]
  },
  {
   "cell_type": "code",
   "execution_count": 10,
   "metadata": {},
   "outputs": [
    {
     "data": {
      "text/html": [
       "<div>\n",
       "<style scoped>\n",
       "    .dataframe tbody tr th:only-of-type {\n",
       "        vertical-align: middle;\n",
       "    }\n",
       "\n",
       "    .dataframe tbody tr th {\n",
       "        vertical-align: top;\n",
       "    }\n",
       "\n",
       "    .dataframe thead th {\n",
       "        text-align: right;\n",
       "    }\n",
       "</style>\n",
       "<table border=\"1\" class=\"dataframe\">\n",
       "  <thead>\n",
       "    <tr style=\"text-align: right;\">\n",
       "      <th></th>\n",
       "      <th>artists</th>\n",
       "      <th>name</th>\n",
       "      <th>danceability</th>\n",
       "    </tr>\n",
       "  </thead>\n",
       "  <tbody>\n",
       "    <tr>\n",
       "      <th>13734</th>\n",
       "      <td>['Tone-Loc']</td>\n",
       "      <td>Funky Cold Medina</td>\n",
       "      <td>0.988</td>\n",
       "    </tr>\n",
       "    <tr>\n",
       "      <th>54525</th>\n",
       "      <td>['Spooner Street', 'Rio Dela Duna', 'Leonardo ...</td>\n",
       "      <td>Cool - Leonardo La Mark Remix</td>\n",
       "      <td>0.987</td>\n",
       "    </tr>\n",
       "    <tr>\n",
       "      <th>141441</th>\n",
       "      <td>['Pitbull', 'Trina', 'Young Bo']</td>\n",
       "      <td>Go Girl</td>\n",
       "      <td>0.986</td>\n",
       "    </tr>\n",
       "    <tr>\n",
       "      <th>37455</th>\n",
       "      <td>['Tone-Loc']</td>\n",
       "      <td>Funky Cold Medina - Re-Recorded</td>\n",
       "      <td>0.985</td>\n",
       "    </tr>\n",
       "    <tr>\n",
       "      <th>92739</th>\n",
       "      <td>['Nilla Pizzi']</td>\n",
       "      <td>O mama mama - Remix 2014</td>\n",
       "      <td>0.985</td>\n",
       "    </tr>\n",
       "    <tr>\n",
       "      <th>171536</th>\n",
       "      <td>['Dan McKie', 'Zigmund Slezak']</td>\n",
       "      <td>Dddance - Zigmund Slezak Remix</td>\n",
       "      <td>0.985</td>\n",
       "    </tr>\n",
       "    <tr>\n",
       "      <th>173266</th>\n",
       "      <td>['Michael Beyer']</td>\n",
       "      <td>Stuck in Your Brain</td>\n",
       "      <td>0.982</td>\n",
       "    </tr>\n",
       "    <tr>\n",
       "      <th>13910</th>\n",
       "      <td>['Vanilla Ice']</td>\n",
       "      <td>Ice Ice Baby</td>\n",
       "      <td>0.980</td>\n",
       "    </tr>\n",
       "    <tr>\n",
       "      <th>39276</th>\n",
       "      <td>['347aidan']</td>\n",
       "      <td>Dancing in My Room</td>\n",
       "      <td>0.980</td>\n",
       "    </tr>\n",
       "    <tr>\n",
       "      <th>51218</th>\n",
       "      <td>['The Jacksons', 'Mick Jagger']</td>\n",
       "      <td>State of Shock</td>\n",
       "      <td>0.980</td>\n",
       "    </tr>\n",
       "  </tbody>\n",
       "</table>\n",
       "</div>"
      ],
      "text/plain": [
       "                                                  artists  \\\n",
       "13734                                        ['Tone-Loc']   \n",
       "54525   ['Spooner Street', 'Rio Dela Duna', 'Leonardo ...   \n",
       "141441                   ['Pitbull', 'Trina', 'Young Bo']   \n",
       "37455                                        ['Tone-Loc']   \n",
       "92739                                     ['Nilla Pizzi']   \n",
       "171536                    ['Dan McKie', 'Zigmund Slezak']   \n",
       "173266                                  ['Michael Beyer']   \n",
       "13910                                     ['Vanilla Ice']   \n",
       "39276                                        ['347aidan']   \n",
       "51218                     ['The Jacksons', 'Mick Jagger']   \n",
       "\n",
       "                                   name  danceability  \n",
       "13734                 Funky Cold Medina         0.988  \n",
       "54525     Cool - Leonardo La Mark Remix         0.987  \n",
       "141441                          Go Girl         0.986  \n",
       "37455   Funky Cold Medina - Re-Recorded         0.985  \n",
       "92739          O mama mama - Remix 2014         0.985  \n",
       "171536   Dddance - Zigmund Slezak Remix         0.985  \n",
       "173266              Stuck in Your Brain         0.982  \n",
       "13910                      Ice Ice Baby         0.980  \n",
       "39276                Dancing in My Room         0.980  \n",
       "51218                    State of Shock         0.980  "
      ]
     },
     "execution_count": 10,
     "metadata": {},
     "output_type": "execute_result"
    }
   ],
   "source": [
    "spotify[['artists', 'name', 'danceability']].nlargest(10, 'danceability')"
   ]
  },
  {
   "cell_type": "markdown",
   "metadata": {},
   "source": [
    "### Bottom 10 Songs by Danceability"
   ]
  },
  {
   "cell_type": "code",
   "execution_count": 11,
   "metadata": {},
   "outputs": [
    {
     "data": {
      "text/html": [
       "<div>\n",
       "<style scoped>\n",
       "    .dataframe tbody tr th:only-of-type {\n",
       "        vertical-align: middle;\n",
       "    }\n",
       "\n",
       "    .dataframe tbody tr th {\n",
       "        vertical-align: top;\n",
       "    }\n",
       "\n",
       "    .dataframe thead th {\n",
       "        text-align: right;\n",
       "    }\n",
       "</style>\n",
       "<table border=\"1\" class=\"dataframe\">\n",
       "  <thead>\n",
       "    <tr style=\"text-align: right;\">\n",
       "      <th></th>\n",
       "      <th>artists</th>\n",
       "      <th>name</th>\n",
       "      <th>danceability</th>\n",
       "    </tr>\n",
       "  </thead>\n",
       "  <tbody>\n",
       "    <tr>\n",
       "      <th>758</th>\n",
       "      <td>['Ignacio Corsini']</td>\n",
       "      <td>La Mina del Ford - Remasterizado</td>\n",
       "      <td>0.0</td>\n",
       "    </tr>\n",
       "    <tr>\n",
       "      <th>845</th>\n",
       "      <td>['Francisco Canaro']</td>\n",
       "      <td>Oh Mujer Mujer - Remasterizado</td>\n",
       "      <td>0.0</td>\n",
       "    </tr>\n",
       "    <tr>\n",
       "      <th>860</th>\n",
       "      <td>['Ignacio Corsini']</td>\n",
       "      <td>Shangai Bay - Remasterizado</td>\n",
       "      <td>0.0</td>\n",
       "    </tr>\n",
       "    <tr>\n",
       "      <th>2820</th>\n",
       "      <td>['The Moors']</td>\n",
       "      <td>Santa Claus Is Coming To Town</td>\n",
       "      <td>0.0</td>\n",
       "    </tr>\n",
       "    <tr>\n",
       "      <th>3302</th>\n",
       "      <td>['Billie Holiday']</td>\n",
       "      <td>Back In Your Own Backyard - Take 1</td>\n",
       "      <td>0.0</td>\n",
       "    </tr>\n",
       "    <tr>\n",
       "      <th>3796</th>\n",
       "      <td>['MGM Studio Orchestra']</td>\n",
       "      <td>Munchkinland Insert - Alternate Tag</td>\n",
       "      <td>0.0</td>\n",
       "    </tr>\n",
       "    <tr>\n",
       "      <th>3806</th>\n",
       "      <td>['Bert Lahr', 'Judy Garland', 'Ray Bolger', 'B...</td>\n",
       "      <td>If I Were King of the Forest - Partial Take; A...</td>\n",
       "      <td>0.0</td>\n",
       "    </tr>\n",
       "    <tr>\n",
       "      <th>4211</th>\n",
       "      <td>['The Slobs']</td>\n",
       "      <td>The Christmas Raid</td>\n",
       "      <td>0.0</td>\n",
       "    </tr>\n",
       "    <tr>\n",
       "      <th>5830</th>\n",
       "      <td>['Charlie Parker']</td>\n",
       "      <td>Embraceable You - Live At Carnegie Hall, New Y...</td>\n",
       "      <td>0.0</td>\n",
       "    </tr>\n",
       "    <tr>\n",
       "      <th>8758</th>\n",
       "      <td>['Louis Armstrong']</td>\n",
       "      <td>Hello, Dolly!</td>\n",
       "      <td>0.0</td>\n",
       "    </tr>\n",
       "  </tbody>\n",
       "</table>\n",
       "</div>"
      ],
      "text/plain": [
       "                                                artists  \\\n",
       "758                                 ['Ignacio Corsini']   \n",
       "845                                ['Francisco Canaro']   \n",
       "860                                 ['Ignacio Corsini']   \n",
       "2820                                      ['The Moors']   \n",
       "3302                                 ['Billie Holiday']   \n",
       "3796                           ['MGM Studio Orchestra']   \n",
       "3806  ['Bert Lahr', 'Judy Garland', 'Ray Bolger', 'B...   \n",
       "4211                                      ['The Slobs']   \n",
       "5830                                 ['Charlie Parker']   \n",
       "8758                                ['Louis Armstrong']   \n",
       "\n",
       "                                                   name  danceability  \n",
       "758                    La Mina del Ford - Remasterizado           0.0  \n",
       "845                      Oh Mujer Mujer - Remasterizado           0.0  \n",
       "860                         Shangai Bay - Remasterizado           0.0  \n",
       "2820                      Santa Claus Is Coming To Town           0.0  \n",
       "3302                 Back In Your Own Backyard - Take 1           0.0  \n",
       "3796                Munchkinland Insert - Alternate Tag           0.0  \n",
       "3806  If I Were King of the Forest - Partial Take; A...           0.0  \n",
       "4211                                 The Christmas Raid           0.0  \n",
       "5830  Embraceable You - Live At Carnegie Hall, New Y...           0.0  \n",
       "8758                                      Hello, Dolly!           0.0  "
      ]
     },
     "execution_count": 11,
     "metadata": {},
     "output_type": "execute_result"
    }
   ],
   "source": [
    "spotify[['artists', 'name', 'danceability']].nsmallest(10, 'danceability')"
   ]
  },
  {
   "cell_type": "markdown",
   "metadata": {},
   "source": [
    "### Energy:  \n",
    "### Energy is a measure from 0.0 to 1.0 and represents a perceptual measure of intensity and activity. Typically, energetic tracks feel fast, loud, and noisy.\n",
    "### Does not follow a normal distribution.  The distribution skews to the right."
   ]
  },
  {
   "cell_type": "code",
   "execution_count": 12,
   "metadata": {
    "pycharm": {
     "is_executing": true
    }
   },
   "outputs": [
    {
     "name": "stdout",
     "output_type": "stream",
     "text": [
      "Mean:   0.483\n",
      "Median: 0.465\n",
      "Mode:   0.195\n",
      "Skew:   0.144\n"
     ]
    },
    {
     "data": {
      "text/plain": [
       "<AxesSubplot:ylabel='Frequency'>"
      ]
     },
     "execution_count": 12,
     "metadata": {},
     "output_type": "execute_result"
    },
    {
     "data": {
      "image/png": "[encoded data removed]",
      "text/plain": [
       "<Figure size 432x288 with 1 Axes>"
      ]
     },
     "metadata": {
      "needs_background": "light"
     },
     "output_type": "display_data"
    }
   ],
   "source": [
    "print('Mean:   {:,.3f}'.format(spotify[['energy']].mean().values[0]))\n",
    "print('Median: {:,.3f}'.format(spotify[['energy']].median().values[0]))\n",
    "print('Mode:  {}'.format(spotify[['energy']].mode().to_string(header=None,index=False)))\n",
    "print('Skew:   {:,.3f}'.format(spotify[['energy']].skew().values[0]))\n",
    "spotify[['energy']].plot(kind=\"hist\", bins=20)"
   ]
  },
  {
   "cell_type": "markdown",
   "metadata": {},
   "source": [
    "### Top 10 Songs by Energy"
   ]
  },
  {
   "cell_type": "code",
   "execution_count": 13,
   "metadata": {},
   "outputs": [
    {
     "data": {
      "text/html": [
       "<div>\n",
       "<style scoped>\n",
       "    .dataframe tbody tr th:only-of-type {\n",
       "        vertical-align: middle;\n",
       "    }\n",
       "\n",
       "    .dataframe tbody tr th {\n",
       "        vertical-align: top;\n",
       "    }\n",
       "\n",
       "    .dataframe thead th {\n",
       "        text-align: right;\n",
       "    }\n",
       "</style>\n",
       "<table border=\"1\" class=\"dataframe\">\n",
       "  <thead>\n",
       "    <tr style=\"text-align: right;\">\n",
       "      <th></th>\n",
       "      <th>artists</th>\n",
       "      <th>name</th>\n",
       "      <th>energy</th>\n",
       "    </tr>\n",
       "  </thead>\n",
       "  <tbody>\n",
       "    <tr>\n",
       "      <th>3543</th>\n",
       "      <td>['Benny Goodman']</td>\n",
       "      <td>Applause; Benny Goodman's 'No Encore' Announce...</td>\n",
       "      <td>1.0</td>\n",
       "    </tr>\n",
       "    <tr>\n",
       "      <th>3563</th>\n",
       "      <td>['Benny Goodman']</td>\n",
       "      <td>Applause; Transition Back to Goodman Orchestra...</td>\n",
       "      <td>1.0</td>\n",
       "    </tr>\n",
       "    <tr>\n",
       "      <th>23044</th>\n",
       "      <td>['Benny Goodman']</td>\n",
       "      <td>Applause as Lionel Hampton Enters - Live</td>\n",
       "      <td>1.0</td>\n",
       "    </tr>\n",
       "    <tr>\n",
       "      <th>39601</th>\n",
       "      <td>['Maurice Chevalier']</td>\n",
       "      <td>Moi J'fais Mes Coups En Dessous</td>\n",
       "      <td>1.0</td>\n",
       "    </tr>\n",
       "    <tr>\n",
       "      <th>41853</th>\n",
       "      <td>['Benny Goodman']</td>\n",
       "      <td>Applause; Martha Tilton Returns to Stage - Live</td>\n",
       "      <td>1.0</td>\n",
       "    </tr>\n",
       "    <tr>\n",
       "      <th>56761</th>\n",
       "      <td>['Komprex']</td>\n",
       "      <td>Victim</td>\n",
       "      <td>1.0</td>\n",
       "    </tr>\n",
       "    <tr>\n",
       "      <th>56805</th>\n",
       "      <td>['Running Man', 'SoundLift']</td>\n",
       "      <td>Amnesia (Mix Cut) - SoundLift’s Emotional Take</td>\n",
       "      <td>1.0</td>\n",
       "    </tr>\n",
       "    <tr>\n",
       "      <th>56927</th>\n",
       "      <td>['Adam Ellis']</td>\n",
       "      <td>Napalm Poet (Mix Cut) - Original Mix</td>\n",
       "      <td>1.0</td>\n",
       "    </tr>\n",
       "    <tr>\n",
       "      <th>56957</th>\n",
       "      <td>['ReOrder', 'STANDERWICK', 'Sky Patrol']</td>\n",
       "      <td>Folding Your Universe (Mix Cut) - Original Mix</td>\n",
       "      <td>1.0</td>\n",
       "    </tr>\n",
       "    <tr>\n",
       "      <th>56961</th>\n",
       "      <td>['Sneijder', 'Bryan Kearney']</td>\n",
       "      <td>Proper Order (Mix Cut) - Original Mix</td>\n",
       "      <td>1.0</td>\n",
       "    </tr>\n",
       "  </tbody>\n",
       "</table>\n",
       "</div>"
      ],
      "text/plain": [
       "                                        artists  \\\n",
       "3543                          ['Benny Goodman']   \n",
       "3563                          ['Benny Goodman']   \n",
       "23044                         ['Benny Goodman']   \n",
       "39601                     ['Maurice Chevalier']   \n",
       "41853                         ['Benny Goodman']   \n",
       "56761                               ['Komprex']   \n",
       "56805              ['Running Man', 'SoundLift']   \n",
       "56927                            ['Adam Ellis']   \n",
       "56957  ['ReOrder', 'STANDERWICK', 'Sky Patrol']   \n",
       "56961             ['Sneijder', 'Bryan Kearney']   \n",
       "\n",
       "                                                    name  energy  \n",
       "3543   Applause; Benny Goodman's 'No Encore' Announce...     1.0  \n",
       "3563   Applause; Transition Back to Goodman Orchestra...     1.0  \n",
       "23044           Applause as Lionel Hampton Enters - Live     1.0  \n",
       "39601                    Moi J'fais Mes Coups En Dessous     1.0  \n",
       "41853    Applause; Martha Tilton Returns to Stage - Live     1.0  \n",
       "56761                                             Victim     1.0  \n",
       "56805     Amnesia (Mix Cut) - SoundLift’s Emotional Take     1.0  \n",
       "56927               Napalm Poet (Mix Cut) - Original Mix     1.0  \n",
       "56957     Folding Your Universe (Mix Cut) - Original Mix     1.0  \n",
       "56961              Proper Order (Mix Cut) - Original Mix     1.0  "
      ]
     },
     "execution_count": 13,
     "metadata": {},
     "output_type": "execute_result"
    }
   ],
   "source": [
    "spotify[['artists', 'name', 'energy']].nlargest(10, 'energy')"
   ]
  },
  {
   "cell_type": "markdown",
   "metadata": {},
   "source": [
    "### Bottom 10 Songs by Energy"
   ]
  },
  {
   "cell_type": "code",
   "execution_count": 14,
   "metadata": {},
   "outputs": [
    {
     "data": {
      "text/html": [
       "<div>\n",
       "<style scoped>\n",
       "    .dataframe tbody tr th:only-of-type {\n",
       "        vertical-align: middle;\n",
       "    }\n",
       "\n",
       "    .dataframe tbody tr th {\n",
       "        vertical-align: top;\n",
       "    }\n",
       "\n",
       "    .dataframe thead th {\n",
       "        text-align: right;\n",
       "    }\n",
       "</style>\n",
       "<table border=\"1\" class=\"dataframe\">\n",
       "  <thead>\n",
       "    <tr style=\"text-align: right;\">\n",
       "      <th></th>\n",
       "      <th>artists</th>\n",
       "      <th>name</th>\n",
       "      <th>energy</th>\n",
       "    </tr>\n",
       "  </thead>\n",
       "  <tbody>\n",
       "    <tr>\n",
       "      <th>23004</th>\n",
       "      <td>['Benny Goodman']</td>\n",
       "      <td>Pause Track - Live</td>\n",
       "      <td>0.00000</td>\n",
       "    </tr>\n",
       "    <tr>\n",
       "      <th>23073</th>\n",
       "      <td>['Benny Goodman']</td>\n",
       "      <td>Pause Track - Live</td>\n",
       "      <td>0.00000</td>\n",
       "    </tr>\n",
       "    <tr>\n",
       "      <th>62366</th>\n",
       "      <td>['Future Rapper']</td>\n",
       "      <td>StaggerLee Has His Day at the Beach</td>\n",
       "      <td>0.00000</td>\n",
       "    </tr>\n",
       "    <tr>\n",
       "      <th>62458</th>\n",
       "      <td>['Sarah Vaughan']</td>\n",
       "      <td>Pause Track</td>\n",
       "      <td>0.00000</td>\n",
       "    </tr>\n",
       "    <tr>\n",
       "      <th>138635</th>\n",
       "      <td>['Time Bomb Symphony']</td>\n",
       "      <td>You R Heaven</td>\n",
       "      <td>0.00000</td>\n",
       "    </tr>\n",
       "    <tr>\n",
       "      <th>144701</th>\n",
       "      <td>['Sarah Vaughan']</td>\n",
       "      <td>Pause Track</td>\n",
       "      <td>0.00000</td>\n",
       "    </tr>\n",
       "    <tr>\n",
       "      <th>146842</th>\n",
       "      <td>['Connie Francis']</td>\n",
       "      <td>Hava Nagilah</td>\n",
       "      <td>0.00000</td>\n",
       "    </tr>\n",
       "    <tr>\n",
       "      <th>143634</th>\n",
       "      <td>['Apocolothoth']</td>\n",
       "      <td>Fluoxetin</td>\n",
       "      <td>0.00002</td>\n",
       "    </tr>\n",
       "    <tr>\n",
       "      <th>18946</th>\n",
       "      <td>['White Noise Meditation', 'Lullaby Land', 'Wh...</td>\n",
       "      <td>Brown Noise - Loopable with No Fade</td>\n",
       "      <td>0.00002</td>\n",
       "    </tr>\n",
       "    <tr>\n",
       "      <th>75784</th>\n",
       "      <td>['Brown Noise for Babies', 'White Noise for De...</td>\n",
       "      <td>Brown Noise</td>\n",
       "      <td>0.00002</td>\n",
       "    </tr>\n",
       "  </tbody>\n",
       "</table>\n",
       "</div>"
      ],
      "text/plain": [
       "                                                  artists  \\\n",
       "23004                                   ['Benny Goodman']   \n",
       "23073                                   ['Benny Goodman']   \n",
       "62366                                   ['Future Rapper']   \n",
       "62458                                   ['Sarah Vaughan']   \n",
       "138635                             ['Time Bomb Symphony']   \n",
       "144701                                  ['Sarah Vaughan']   \n",
       "146842                                 ['Connie Francis']   \n",
       "143634                                   ['Apocolothoth']   \n",
       "18946   ['White Noise Meditation', 'Lullaby Land', 'Wh...   \n",
       "75784   ['Brown Noise for Babies', 'White Noise for De...   \n",
       "\n",
       "                                       name   energy  \n",
       "23004                    Pause Track - Live  0.00000  \n",
       "23073                    Pause Track - Live  0.00000  \n",
       "62366   StaggerLee Has His Day at the Beach  0.00000  \n",
       "62458                           Pause Track  0.00000  \n",
       "138635                         You R Heaven  0.00000  \n",
       "144701                          Pause Track  0.00000  \n",
       "146842                         Hava Nagilah  0.00000  \n",
       "143634                            Fluoxetin  0.00002  \n",
       "18946   Brown Noise - Loopable with No Fade  0.00002  \n",
       "75784                           Brown Noise  0.00002  "
      ]
     },
     "execution_count": 14,
     "metadata": {},
     "output_type": "execute_result"
    }
   ],
   "source": [
    "spotify[['artists', 'name', 'energy']].nsmallest(10, 'energy')"
   ]
  },
  {
   "cell_type": "markdown",
   "metadata": {},
   "source": [
    "### Instrumentalness:  \n",
    "### Predicts whether a track contains no vocals. “Ooh” and “aah” sounds are treated as instrumental in this context. Rap or spoken word tracks are clearly “vocal.” The closer the instrumentalness value is to 1.0, the greater likelihood the track contains no vocal content and is purely instrumental, so for example a classical symphony (with no choral part) would be close to 1.0. Values above 0.5 are intended to represent instrumental tracks, but confidence is higher as the value approaches 1.0.\n",
    "\n",
    "### Does not follow a normal distribution. Appears to skew to the right.  Most of the instrumentalness occurs at the .00 range. "
   ]
  },
  {
   "cell_type": "code",
   "execution_count": 15,
   "metadata": {
    "pycharm": {
     "is_executing": true
    }
   },
   "outputs": [
    {
     "name": "stdout",
     "output_type": "stream",
     "text": [
      "Mean:   0.197\n",
      "Median: 0.001\n",
      "Mode:   0.0\n",
      "Skew:   1.364\n"
     ]
    },
    {
     "data": {
      "text/plain": [
       "<AxesSubplot:ylabel='Frequency'>"
      ]
     },
     "execution_count": 15,
     "metadata": {},
     "output_type": "execute_result"
    },
    {
     "data": {
      "image/png": "[encoded data removed]",
      "text/plain": [
       "<Figure size 432x288 with 1 Axes>"
      ]
     },
     "metadata": {
      "needs_background": "light"
     },
     "output_type": "display_data"
    }
   ],
   "source": [
    "print('Mean:   {:,.3f}'.format(spotify[['instrumentalness']].mean().values[0]))\n",
    "print('Median: {:,.3f}'.format(spotify[['instrumentalness']].median().values[0]))\n",
    "print('Mode:  {}'.format(spotify[['instrumentalness']].mode().to_string(header=None,index=False)))\n",
    "print('Skew:   {:,.3f}'.format(spotify[['instrumentalness']].skew().values[0]))\n",
    "spotify[['instrumentalness']].plot(kind=\"hist\", bins=20)"
   ]
  },
  {
   "cell_type": "markdown",
   "metadata": {},
   "source": [
    "### Top 10 Songs by Instrumentalness"
   ]
  },
  {
   "cell_type": "code",
   "execution_count": 16,
   "metadata": {},
   "outputs": [
    {
     "data": {
      "text/html": [
       "<div>\n",
       "<style scoped>\n",
       "    .dataframe tbody tr th:only-of-type {\n",
       "        vertical-align: middle;\n",
       "    }\n",
       "\n",
       "    .dataframe tbody tr th {\n",
       "        vertical-align: top;\n",
       "    }\n",
       "\n",
       "    .dataframe thead th {\n",
       "        text-align: right;\n",
       "    }\n",
       "</style>\n",
       "<table border=\"1\" class=\"dataframe\">\n",
       "  <thead>\n",
       "    <tr style=\"text-align: right;\">\n",
       "      <th></th>\n",
       "      <th>artists</th>\n",
       "      <th>name</th>\n",
       "      <th>instrumentalness</th>\n",
       "    </tr>\n",
       "  </thead>\n",
       "  <tbody>\n",
       "    <tr>\n",
       "      <th>19302</th>\n",
       "      <td>['Erik Eriksson', 'White Noise Baby Sleep', 'W...</td>\n",
       "      <td>Clean White Noise - Loopable with no fade</td>\n",
       "      <td>1.000</td>\n",
       "    </tr>\n",
       "    <tr>\n",
       "      <th>38892</th>\n",
       "      <td>['High Altitude Samples']</td>\n",
       "      <td>Soft Brown Noise</td>\n",
       "      <td>1.000</td>\n",
       "    </tr>\n",
       "    <tr>\n",
       "      <th>76018</th>\n",
       "      <td>['High Altitude Samples']</td>\n",
       "      <td>Cabin Back Noise</td>\n",
       "      <td>1.000</td>\n",
       "    </tr>\n",
       "    <tr>\n",
       "      <th>93318</th>\n",
       "      <td>['Erik Eriksson', 'White Noise for Babies', 'W...</td>\n",
       "      <td>Pure Brown Noise - Loopable with no fade</td>\n",
       "      <td>1.000</td>\n",
       "    </tr>\n",
       "    <tr>\n",
       "      <th>125791</th>\n",
       "      <td>['Erik Eriksson', 'Lullabies for Deep Meditati...</td>\n",
       "      <td>White Noise - Loopable With No Fade</td>\n",
       "      <td>1.000</td>\n",
       "    </tr>\n",
       "    <tr>\n",
       "      <th>142261</th>\n",
       "      <td>['Zen Sounds']</td>\n",
       "      <td>White Noise: Mindfulness Meditations (Loopable)</td>\n",
       "      <td>1.000</td>\n",
       "    </tr>\n",
       "    <tr>\n",
       "      <th>157709</th>\n",
       "      <td>['The White Noise Zen &amp; Meditation Sound Lab']</td>\n",
       "      <td>Calm Rain Storm &amp; Gentle White Noise</td>\n",
       "      <td>1.000</td>\n",
       "    </tr>\n",
       "    <tr>\n",
       "      <th>61338</th>\n",
       "      <td>['K Dutta']</td>\n",
       "      <td>Suno Suno Tumhen Sunaye</td>\n",
       "      <td>0.999</td>\n",
       "    </tr>\n",
       "    <tr>\n",
       "      <th>70239</th>\n",
       "      <td>['Nataural']</td>\n",
       "      <td>Under Shelter Rain</td>\n",
       "      <td>0.999</td>\n",
       "    </tr>\n",
       "    <tr>\n",
       "      <th>92672</th>\n",
       "      <td>['Sleep Baby Sleep', 'Meditation Spa', 'White ...</td>\n",
       "      <td>Pouring Rain - Loopable with No Fade</td>\n",
       "      <td>0.999</td>\n",
       "    </tr>\n",
       "  </tbody>\n",
       "</table>\n",
       "</div>"
      ],
      "text/plain": [
       "                                                  artists  \\\n",
       "19302   ['Erik Eriksson', 'White Noise Baby Sleep', 'W...   \n",
       "38892                           ['High Altitude Samples']   \n",
       "76018                           ['High Altitude Samples']   \n",
       "93318   ['Erik Eriksson', 'White Noise for Babies', 'W...   \n",
       "125791  ['Erik Eriksson', 'Lullabies for Deep Meditati...   \n",
       "142261                                     ['Zen Sounds']   \n",
       "157709     ['The White Noise Zen & Meditation Sound Lab']   \n",
       "61338                                         ['K Dutta']   \n",
       "70239                                        ['Nataural']   \n",
       "92672   ['Sleep Baby Sleep', 'Meditation Spa', 'White ...   \n",
       "\n",
       "                                                   name  instrumentalness  \n",
       "19302         Clean White Noise - Loopable with no fade             1.000  \n",
       "38892                                  Soft Brown Noise             1.000  \n",
       "76018                                  Cabin Back Noise             1.000  \n",
       "93318          Pure Brown Noise - Loopable with no fade             1.000  \n",
       "125791              White Noise - Loopable With No Fade             1.000  \n",
       "142261  White Noise: Mindfulness Meditations (Loopable)             1.000  \n",
       "157709             Calm Rain Storm & Gentle White Noise             1.000  \n",
       "61338                           Suno Suno Tumhen Sunaye             0.999  \n",
       "70239                                Under Shelter Rain             0.999  \n",
       "92672              Pouring Rain - Loopable with No Fade             0.999  "
      ]
     },
     "execution_count": 16,
     "metadata": {},
     "output_type": "execute_result"
    }
   ],
   "source": [
    "spotify[['artists', 'name', 'instrumentalness']].nlargest(10, 'instrumentalness')"
   ]
  },
  {
   "cell_type": "markdown",
   "metadata": {},
   "source": [
    "### Bottom 10 Songs by Instrumentalness"
   ]
  },
  {
   "cell_type": "code",
   "execution_count": 17,
   "metadata": {},
   "outputs": [
    {
     "data": {
      "text/html": [
       "<div>\n",
       "<style scoped>\n",
       "    .dataframe tbody tr th:only-of-type {\n",
       "        vertical-align: middle;\n",
       "    }\n",
       "\n",
       "    .dataframe tbody tr th {\n",
       "        vertical-align: top;\n",
       "    }\n",
       "\n",
       "    .dataframe thead th {\n",
       "        text-align: right;\n",
       "    }\n",
       "</style>\n",
       "<table border=\"1\" class=\"dataframe\">\n",
       "  <thead>\n",
       "    <tr style=\"text-align: right;\">\n",
       "      <th></th>\n",
       "      <th>artists</th>\n",
       "      <th>name</th>\n",
       "      <th>instrumentalness</th>\n",
       "    </tr>\n",
       "  </thead>\n",
       "  <tbody>\n",
       "    <tr>\n",
       "      <th>10</th>\n",
       "      <td>['Dorville']</td>\n",
       "      <td>Oouin</td>\n",
       "      <td>0.0</td>\n",
       "    </tr>\n",
       "    <tr>\n",
       "      <th>23</th>\n",
       "      <td>['Ron van der Kraan']</td>\n",
       "      <td>Sweet Reggae Music</td>\n",
       "      <td>0.0</td>\n",
       "    </tr>\n",
       "    <tr>\n",
       "      <th>28</th>\n",
       "      <td>['ST']</td>\n",
       "      <td>Comme à l'époque</td>\n",
       "      <td>0.0</td>\n",
       "    </tr>\n",
       "    <tr>\n",
       "      <th>30</th>\n",
       "      <td>['Félix Mayol']</td>\n",
       "      <td>Bou Dou Ba Da Bouh</td>\n",
       "      <td>0.0</td>\n",
       "    </tr>\n",
       "    <tr>\n",
       "      <th>33</th>\n",
       "      <td>['David Daniells']</td>\n",
       "      <td>Jesus Paid It All</td>\n",
       "      <td>0.0</td>\n",
       "    </tr>\n",
       "    <tr>\n",
       "      <th>36</th>\n",
       "      <td>[\"The Swingin' Bachelors\"]</td>\n",
       "      <td>Penticton Kitty</td>\n",
       "      <td>0.0</td>\n",
       "    </tr>\n",
       "    <tr>\n",
       "      <th>41</th>\n",
       "      <td>['Esther Lekain']</td>\n",
       "      <td>Ca N'vaut Pas L'amour</td>\n",
       "      <td>0.0</td>\n",
       "    </tr>\n",
       "    <tr>\n",
       "      <th>43</th>\n",
       "      <td>['Broke God', 'Pcxix']</td>\n",
       "      <td>#NOHOOK</td>\n",
       "      <td>0.0</td>\n",
       "    </tr>\n",
       "    <tr>\n",
       "      <th>46</th>\n",
       "      <td>[\"The Swingin' Bachelors\"]</td>\n",
       "      <td>Cloud 9</td>\n",
       "      <td>0.0</td>\n",
       "    </tr>\n",
       "    <tr>\n",
       "      <th>48</th>\n",
       "      <td>['ST', '98', 'Niklas O']</td>\n",
       "      <td>YP</td>\n",
       "      <td>0.0</td>\n",
       "    </tr>\n",
       "  </tbody>\n",
       "</table>\n",
       "</div>"
      ],
      "text/plain": [
       "                       artists                   name  instrumentalness\n",
       "10                ['Dorville']                  Oouin               0.0\n",
       "23       ['Ron van der Kraan']     Sweet Reggae Music               0.0\n",
       "28                      ['ST']       Comme à l'époque               0.0\n",
       "30             ['Félix Mayol']     Bou Dou Ba Da Bouh               0.0\n",
       "33          ['David Daniells']      Jesus Paid It All               0.0\n",
       "36  [\"The Swingin' Bachelors\"]        Penticton Kitty               0.0\n",
       "41           ['Esther Lekain']  Ca N'vaut Pas L'amour               0.0\n",
       "43      ['Broke God', 'Pcxix']                #NOHOOK               0.0\n",
       "46  [\"The Swingin' Bachelors\"]                Cloud 9               0.0\n",
       "48    ['ST', '98', 'Niklas O']                     YP               0.0"
      ]
     },
     "execution_count": 17,
     "metadata": {},
     "output_type": "execute_result"
    }
   ],
   "source": [
    "spotify[['artists', 'name', 'instrumentalness']].nsmallest(10, 'instrumentalness')"
   ]
  },
  {
   "cell_type": "markdown",
   "metadata": {},
   "source": [
    "### Key:  \n",
    "### The key the track is in.  Integers map to the pitches using standard Pitch Class notation. \n",
    "### E.g. 0 = C, 1 = C♯, D♭, 2 = D, 3 = D♯, E♭, 4 = E, 5 = F, 6 = F♯, G♭, 7 = G, 8 = G♯, A♭, 9 = A, 10 = A♯, B♭, 11 = B\n",
    "\n",
    "### https://en.wikipedia.org/wiki/Pitch_class\n",
    "\n",
    "### Does not follow a normal distribution.  It appears to be sparsely populated, which makes sense as there is no one dominant key in all of western music."
   ]
  },
  {
   "cell_type": "code",
   "execution_count": 18,
   "metadata": {
    "pycharm": {
     "is_executing": true
    }
   },
   "outputs": [
    {
     "name": "stdout",
     "output_type": "stream",
     "text": [
      "Mean:   5.205\n",
      "Median: 5.000\n",
      "Mode:   0\n",
      "Skew:   0.004\n"
     ]
    },
    {
     "data": {
      "text/plain": [
       "<AxesSubplot:ylabel='Frequency'>"
      ]
     },
     "execution_count": 18,
     "metadata": {},
     "output_type": "execute_result"
    },
    {
     "data": {
      "image/png": "[encoded data removed]",
      "text/plain": [
       "<Figure size 432x288 with 1 Axes>"
      ]
     },
     "metadata": {
      "needs_background": "light"
     },
     "output_type": "display_data"
    }
   ],
   "source": [
    "print('Mean:   {:,.3f}'.format(spotify[['key']].mean().values[0]))\n",
    "print('Median: {:,.3f}'.format(spotify[['key']].median().values[0]))\n",
    "print('Mode:  {}'.format(spotify[['key']].mode().to_string(header=None,index=False)))\n",
    "print('Skew:   {:,.3f}'.format(spotify[['key']].skew().values[0]))\n",
    "spotify[['key']].plot(kind=\"hist\", bins=11)"
   ]
  },
  {
   "cell_type": "markdown",
   "metadata": {},
   "source": [
    "### Liveness:  \n",
    "### Detects the presence of an audience in the recording. Higher liveness values represent an increased probability that the track was performed live. A value above 0.8 provides strong likelihood that the track is live.\n",
    "\n",
    "### Does not follow a not follow a normal distribution.  Appears to skew to the right.  Most of the liveness occurs at the .1 range."
   ]
  },
  {
   "cell_type": "code",
   "execution_count": 19,
   "metadata": {
    "pycharm": {
     "is_executing": true
    }
   },
   "outputs": [
    {
     "name": "stdout",
     "output_type": "stream",
     "text": [
      "Mean:   0.211\n",
      "Median: 0.138\n",
      "Mode:   0.111\n",
      "Skew:   2.078\n"
     ]
    },
    {
     "data": {
      "text/plain": [
       "<AxesSubplot:ylabel='Frequency'>"
      ]
     },
     "execution_count": 19,
     "metadata": {},
     "output_type": "execute_result"
    },
    {
     "data": {
      "image/png": "[encoded data removed]",
      "text/plain": [
       "<Figure size 432x288 with 1 Axes>"
      ]
     },
     "metadata": {
      "needs_background": "light"
     },
     "output_type": "display_data"
    }
   ],
   "source": [
    "print('Mean:   {:,.3f}'.format(spotify[['liveness']].mean().values[0]))\n",
    "print('Median: {:,.3f}'.format(spotify[['liveness']].median().values[0]))\n",
    "print('Mode:  {}'.format(spotify[['liveness']].mode().to_string(header=None,index=False)))\n",
    "print('Skew:   {:,.3f}'.format(spotify[['liveness']].skew().values[0]))\n",
    "spotify[['liveness']].plot(kind=\"hist\", bins=20)"
   ]
  },
  {
   "cell_type": "markdown",
   "metadata": {},
   "source": [
    "### Top 10 Songs by Liveness"
   ]
  },
  {
   "cell_type": "code",
   "execution_count": 20,
   "metadata": {},
   "outputs": [
    {
     "data": {
      "text/html": [
       "<div>\n",
       "<style scoped>\n",
       "    .dataframe tbody tr th:only-of-type {\n",
       "        vertical-align: middle;\n",
       "    }\n",
       "\n",
       "    .dataframe tbody tr th {\n",
       "        vertical-align: top;\n",
       "    }\n",
       "\n",
       "    .dataframe thead th {\n",
       "        text-align: right;\n",
       "    }\n",
       "</style>\n",
       "<table border=\"1\" class=\"dataframe\">\n",
       "  <thead>\n",
       "    <tr style=\"text-align: right;\">\n",
       "      <th></th>\n",
       "      <th>artists</th>\n",
       "      <th>name</th>\n",
       "      <th>liveness</th>\n",
       "    </tr>\n",
       "  </thead>\n",
       "  <tbody>\n",
       "    <tr>\n",
       "      <th>170448</th>\n",
       "      <td>['The Band']</td>\n",
       "      <td>Up on Cripple Creek - Concert Version</td>\n",
       "      <td>1.000</td>\n",
       "    </tr>\n",
       "    <tr>\n",
       "      <th>63836</th>\n",
       "      <td>['Duke Ellington']</td>\n",
       "      <td>Skin Deep - Live</td>\n",
       "      <td>0.999</td>\n",
       "    </tr>\n",
       "    <tr>\n",
       "      <th>105900</th>\n",
       "      <td>['Fleetwood Mac']</td>\n",
       "      <td>The Chain - Live at Warner Brothers Studios in...</td>\n",
       "      <td>0.998</td>\n",
       "    </tr>\n",
       "    <tr>\n",
       "      <th>31937</th>\n",
       "      <td>['Cheryl Lynn']</td>\n",
       "      <td>Encore</td>\n",
       "      <td>0.997</td>\n",
       "    </tr>\n",
       "    <tr>\n",
       "      <th>68656</th>\n",
       "      <td>['Eagles']</td>\n",
       "      <td>Life in the Fast Lane - Live; 1999 Remaster</td>\n",
       "      <td>0.997</td>\n",
       "    </tr>\n",
       "    <tr>\n",
       "      <th>85274</th>\n",
       "      <td>['Bob Marley &amp; The Wailers']</td>\n",
       "      <td>Trenchtown Rock - Live At The Roxy Theatre</td>\n",
       "      <td>0.997</td>\n",
       "    </tr>\n",
       "    <tr>\n",
       "      <th>154512</th>\n",
       "      <td>['Banda Maguey']</td>\n",
       "      <td>Pero Te Amo - Live Version</td>\n",
       "      <td>0.997</td>\n",
       "    </tr>\n",
       "    <tr>\n",
       "      <th>15981</th>\n",
       "      <td>['Billy Joel']</td>\n",
       "      <td>Auld Lang Syne - Live at Madison Square Garden...</td>\n",
       "      <td>0.996</td>\n",
       "    </tr>\n",
       "    <tr>\n",
       "      <th>35027</th>\n",
       "      <td>['Bee Gees']</td>\n",
       "      <td>Islands In The Stream - Live At The MGM Grand/...</td>\n",
       "      <td>0.996</td>\n",
       "    </tr>\n",
       "    <tr>\n",
       "      <th>84934</th>\n",
       "      <td>['KISS']</td>\n",
       "      <td>Strutter - Live/1975</td>\n",
       "      <td>0.996</td>\n",
       "    </tr>\n",
       "  </tbody>\n",
       "</table>\n",
       "</div>"
      ],
      "text/plain": [
       "                             artists  \\\n",
       "170448                  ['The Band']   \n",
       "63836             ['Duke Ellington']   \n",
       "105900             ['Fleetwood Mac']   \n",
       "31937                ['Cheryl Lynn']   \n",
       "68656                     ['Eagles']   \n",
       "85274   ['Bob Marley & The Wailers']   \n",
       "154512              ['Banda Maguey']   \n",
       "15981                 ['Billy Joel']   \n",
       "35027                   ['Bee Gees']   \n",
       "84934                       ['KISS']   \n",
       "\n",
       "                                                     name  liveness  \n",
       "170448              Up on Cripple Creek - Concert Version     1.000  \n",
       "63836                                    Skin Deep - Live     0.999  \n",
       "105900  The Chain - Live at Warner Brothers Studios in...     0.998  \n",
       "31937                                              Encore     0.997  \n",
       "68656         Life in the Fast Lane - Live; 1999 Remaster     0.997  \n",
       "85274          Trenchtown Rock - Live At The Roxy Theatre     0.997  \n",
       "154512                         Pero Te Amo - Live Version     0.997  \n",
       "15981   Auld Lang Syne - Live at Madison Square Garden...     0.996  \n",
       "35027   Islands In The Stream - Live At The MGM Grand/...     0.996  \n",
       "84934                                Strutter - Live/1975     0.996  "
      ]
     },
     "execution_count": 20,
     "metadata": {},
     "output_type": "execute_result"
    }
   ],
   "source": [
    "spotify[['artists', 'name', 'liveness']].nlargest(10, 'liveness')"
   ]
  },
  {
   "cell_type": "markdown",
   "metadata": {},
   "source": [
    "### Bottom 10 Songs by Liveness"
   ]
  },
  {
   "cell_type": "code",
   "execution_count": 21,
   "metadata": {},
   "outputs": [
    {
     "data": {
      "text/html": [
       "<div>\n",
       "<style scoped>\n",
       "    .dataframe tbody tr th:only-of-type {\n",
       "        vertical-align: middle;\n",
       "    }\n",
       "\n",
       "    .dataframe tbody tr th {\n",
       "        vertical-align: top;\n",
       "    }\n",
       "\n",
       "    .dataframe thead th {\n",
       "        text-align: right;\n",
       "    }\n",
       "</style>\n",
       "<table border=\"1\" class=\"dataframe\">\n",
       "  <thead>\n",
       "    <tr style=\"text-align: right;\">\n",
       "      <th></th>\n",
       "      <th>artists</th>\n",
       "      <th>name</th>\n",
       "      <th>liveness</th>\n",
       "    </tr>\n",
       "  </thead>\n",
       "  <tbody>\n",
       "    <tr>\n",
       "      <th>18946</th>\n",
       "      <td>['White Noise Meditation', 'Lullaby Land', 'Wh...</td>\n",
       "      <td>Brown Noise - Loopable with No Fade</td>\n",
       "      <td>0.0</td>\n",
       "    </tr>\n",
       "    <tr>\n",
       "      <th>20399</th>\n",
       "      <td>['Players_Select']</td>\n",
       "      <td>Game over (From \"Streets of Rage\") [Genesis Mix]</td>\n",
       "      <td>0.0</td>\n",
       "    </tr>\n",
       "    <tr>\n",
       "      <th>23004</th>\n",
       "      <td>['Benny Goodman']</td>\n",
       "      <td>Pause Track - Live</td>\n",
       "      <td>0.0</td>\n",
       "    </tr>\n",
       "    <tr>\n",
       "      <th>23073</th>\n",
       "      <td>['Benny Goodman']</td>\n",
       "      <td>Pause Track - Live</td>\n",
       "      <td>0.0</td>\n",
       "    </tr>\n",
       "    <tr>\n",
       "      <th>62366</th>\n",
       "      <td>['Future Rapper']</td>\n",
       "      <td>StaggerLee Has His Day at the Beach</td>\n",
       "      <td>0.0</td>\n",
       "    </tr>\n",
       "    <tr>\n",
       "      <th>62458</th>\n",
       "      <td>['Sarah Vaughan']</td>\n",
       "      <td>Pause Track</td>\n",
       "      <td>0.0</td>\n",
       "    </tr>\n",
       "    <tr>\n",
       "      <th>75784</th>\n",
       "      <td>['Brown Noise for Babies', 'White Noise for De...</td>\n",
       "      <td>Brown Noise</td>\n",
       "      <td>0.0</td>\n",
       "    </tr>\n",
       "    <tr>\n",
       "      <th>125534</th>\n",
       "      <td>['Todd Glass', 'Blake Wexler']</td>\n",
       "      <td>The Shortest Message (2015)</td>\n",
       "      <td>0.0</td>\n",
       "    </tr>\n",
       "    <tr>\n",
       "      <th>138635</th>\n",
       "      <td>['Time Bomb Symphony']</td>\n",
       "      <td>You R Heaven</td>\n",
       "      <td>0.0</td>\n",
       "    </tr>\n",
       "    <tr>\n",
       "      <th>143634</th>\n",
       "      <td>['Apocolothoth']</td>\n",
       "      <td>Fluoxetin</td>\n",
       "      <td>0.0</td>\n",
       "    </tr>\n",
       "  </tbody>\n",
       "</table>\n",
       "</div>"
      ],
      "text/plain": [
       "                                                  artists  \\\n",
       "18946   ['White Noise Meditation', 'Lullaby Land', 'Wh...   \n",
       "20399                                  ['Players_Select']   \n",
       "23004                                   ['Benny Goodman']   \n",
       "23073                                   ['Benny Goodman']   \n",
       "62366                                   ['Future Rapper']   \n",
       "62458                                   ['Sarah Vaughan']   \n",
       "75784   ['Brown Noise for Babies', 'White Noise for De...   \n",
       "125534                     ['Todd Glass', 'Blake Wexler']   \n",
       "138635                             ['Time Bomb Symphony']   \n",
       "143634                                   ['Apocolothoth']   \n",
       "\n",
       "                                                    name  liveness  \n",
       "18946                Brown Noise - Loopable with No Fade       0.0  \n",
       "20399   Game over (From \"Streets of Rage\") [Genesis Mix]       0.0  \n",
       "23004                                 Pause Track - Live       0.0  \n",
       "23073                                 Pause Track - Live       0.0  \n",
       "62366                StaggerLee Has His Day at the Beach       0.0  \n",
       "62458                                        Pause Track       0.0  \n",
       "75784                                        Brown Noise       0.0  \n",
       "125534                       The Shortest Message (2015)       0.0  \n",
       "138635                                      You R Heaven       0.0  \n",
       "143634                                         Fluoxetin       0.0  "
      ]
     },
     "execution_count": 21,
     "metadata": {},
     "output_type": "execute_result"
    }
   ],
   "source": [
    "spotify[['artists', 'name', 'liveness']].nsmallest(10, 'liveness')"
   ]
  },
  {
   "cell_type": "markdown",
   "metadata": {},
   "source": [
    "### Loudness:  \n",
    "### The overall loudness of a track in decibels (db).  Loudness values are averaged across the entire track and are useful for comparing relative loudness of tracks.  Loudness is the quality of a sound that is the primary psychological correlate of physical strength (amplitude).  Values typical range between -60 and 0 db.\n",
    "\n",
    "### Does not follow a normal distribution.  Appears to skew to the left.  Most of the loudness occurs at -10db."
   ]
  },
  {
   "cell_type": "code",
   "execution_count": 22,
   "metadata": {
    "pycharm": {
     "is_executing": true
    }
   },
   "outputs": [
    {
     "name": "stdout",
     "output_type": "stream",
     "text": [
      "Mean:   -11.751\n",
      "Median: -10.836\n",
      "Mode:    -7.578\n",
      "Skew:    -0.989\n"
     ]
    },
    {
     "data": {
      "text/plain": [
       "<AxesSubplot:ylabel='Frequency'>"
      ]
     },
     "execution_count": 22,
     "metadata": {},
     "output_type": "execute_result"
    },
    {
     "data": {
      "image/png": "[encoded data removed]",
      "text/plain": [
       "<Figure size 432x288 with 1 Axes>"
      ]
     },
     "metadata": {
      "needs_background": "light"
     },
     "output_type": "display_data"
    }
   ],
   "source": [
    "print('Mean:   {:,.3f}'.format(spotify[['loudness']].mean().values[0]))\n",
    "print('Median: {:,.3f}'.format(spotify[['loudness']].median().values[0]))\n",
    "print('Mode:    {}'.format(spotify[['loudness']].mode().to_string(header=None,index=False)))\n",
    "print('Skew:    {:,.3f}'.format(spotify[['loudness']].skew().values[0]))\n",
    "spotify[['loudness']].plot(kind=\"hist\", bins=20)"
   ]
  },
  {
   "cell_type": "markdown",
   "metadata": {},
   "source": [
    "### Top 10 Songs by Loudness"
   ]
  },
  {
   "cell_type": "code",
   "execution_count": 23,
   "metadata": {},
   "outputs": [
    {
     "data": {
      "text/html": [
       "<div>\n",
       "<style scoped>\n",
       "    .dataframe tbody tr th:only-of-type {\n",
       "        vertical-align: middle;\n",
       "    }\n",
       "\n",
       "    .dataframe tbody tr th {\n",
       "        vertical-align: top;\n",
       "    }\n",
       "\n",
       "    .dataframe thead th {\n",
       "        text-align: right;\n",
       "    }\n",
       "</style>\n",
       "<table border=\"1\" class=\"dataframe\">\n",
       "  <thead>\n",
       "    <tr style=\"text-align: right;\">\n",
       "      <th></th>\n",
       "      <th>artists</th>\n",
       "      <th>name</th>\n",
       "      <th>loudness</th>\n",
       "    </tr>\n",
       "  </thead>\n",
       "  <tbody>\n",
       "    <tr>\n",
       "      <th>23004</th>\n",
       "      <td>['Benny Goodman']</td>\n",
       "      <td>Pause Track - Live</td>\n",
       "      <td>-60.000</td>\n",
       "    </tr>\n",
       "    <tr>\n",
       "      <th>23073</th>\n",
       "      <td>['Benny Goodman']</td>\n",
       "      <td>Pause Track - Live</td>\n",
       "      <td>-60.000</td>\n",
       "    </tr>\n",
       "    <tr>\n",
       "      <th>62366</th>\n",
       "      <td>['Future Rapper']</td>\n",
       "      <td>StaggerLee Has His Day at the Beach</td>\n",
       "      <td>-60.000</td>\n",
       "    </tr>\n",
       "    <tr>\n",
       "      <th>62458</th>\n",
       "      <td>['Sarah Vaughan']</td>\n",
       "      <td>Pause Track</td>\n",
       "      <td>-60.000</td>\n",
       "    </tr>\n",
       "    <tr>\n",
       "      <th>138635</th>\n",
       "      <td>['Time Bomb Symphony']</td>\n",
       "      <td>You R Heaven</td>\n",
       "      <td>-60.000</td>\n",
       "    </tr>\n",
       "    <tr>\n",
       "      <th>144701</th>\n",
       "      <td>['Sarah Vaughan']</td>\n",
       "      <td>Pause Track</td>\n",
       "      <td>-60.000</td>\n",
       "    </tr>\n",
       "    <tr>\n",
       "      <th>146842</th>\n",
       "      <td>['Connie Francis']</td>\n",
       "      <td>Hava Nagilah</td>\n",
       "      <td>-60.000</td>\n",
       "    </tr>\n",
       "    <tr>\n",
       "      <th>128704</th>\n",
       "      <td>['Igor Stravinsky', 'Michael Tilson Thomas']</td>\n",
       "      <td>Le sacre du printemps (The Rite of Spring): Pr...</td>\n",
       "      <td>-55.000</td>\n",
       "    </tr>\n",
       "    <tr>\n",
       "      <th>157919</th>\n",
       "      <td>['HI-FI CAMP']</td>\n",
       "      <td>Cabin Sound</td>\n",
       "      <td>-54.376</td>\n",
       "    </tr>\n",
       "    <tr>\n",
       "      <th>144512</th>\n",
       "      <td>['Igor Stravinsky', 'Leonard Bernstein', 'Lond...</td>\n",
       "      <td>The Rite of Spring (Scenes of Pagan Russia in ...</td>\n",
       "      <td>-48.587</td>\n",
       "    </tr>\n",
       "  </tbody>\n",
       "</table>\n",
       "</div>"
      ],
      "text/plain": [
       "                                                  artists  \\\n",
       "23004                                   ['Benny Goodman']   \n",
       "23073                                   ['Benny Goodman']   \n",
       "62366                                   ['Future Rapper']   \n",
       "62458                                   ['Sarah Vaughan']   \n",
       "138635                             ['Time Bomb Symphony']   \n",
       "144701                                  ['Sarah Vaughan']   \n",
       "146842                                 ['Connie Francis']   \n",
       "128704       ['Igor Stravinsky', 'Michael Tilson Thomas']   \n",
       "157919                                     ['HI-FI CAMP']   \n",
       "144512  ['Igor Stravinsky', 'Leonard Bernstein', 'Lond...   \n",
       "\n",
       "                                                     name  loudness  \n",
       "23004                                  Pause Track - Live   -60.000  \n",
       "23073                                  Pause Track - Live   -60.000  \n",
       "62366                 StaggerLee Has His Day at the Beach   -60.000  \n",
       "62458                                         Pause Track   -60.000  \n",
       "138635                                       You R Heaven   -60.000  \n",
       "144701                                        Pause Track   -60.000  \n",
       "146842                                       Hava Nagilah   -60.000  \n",
       "128704  Le sacre du printemps (The Rite of Spring): Pr...   -55.000  \n",
       "157919                                        Cabin Sound   -54.376  \n",
       "144512  The Rite of Spring (Scenes of Pagan Russia in ...   -48.587  "
      ]
     },
     "execution_count": 23,
     "metadata": {},
     "output_type": "execute_result"
    }
   ],
   "source": [
    "spotify[['artists', 'name', 'loudness']].nsmallest(10, 'loudness')"
   ]
  },
  {
   "cell_type": "markdown",
   "metadata": {},
   "source": [
    "### Bottom 10 Songs by Loudness"
   ]
  },
  {
   "cell_type": "code",
   "execution_count": 24,
   "metadata": {},
   "outputs": [
    {
     "data": {
      "text/html": [
       "<div>\n",
       "<style scoped>\n",
       "    .dataframe tbody tr th:only-of-type {\n",
       "        vertical-align: middle;\n",
       "    }\n",
       "\n",
       "    .dataframe tbody tr th {\n",
       "        vertical-align: top;\n",
       "    }\n",
       "\n",
       "    .dataframe thead th {\n",
       "        text-align: right;\n",
       "    }\n",
       "</style>\n",
       "<table border=\"1\" class=\"dataframe\">\n",
       "  <thead>\n",
       "    <tr style=\"text-align: right;\">\n",
       "      <th></th>\n",
       "      <th>artists</th>\n",
       "      <th>name</th>\n",
       "      <th>loudness</th>\n",
       "    </tr>\n",
       "  </thead>\n",
       "  <tbody>\n",
       "    <tr>\n",
       "      <th>22628</th>\n",
       "      <td>['Apocolothoth']</td>\n",
       "      <td>Sold</td>\n",
       "      <td>3.855</td>\n",
       "    </tr>\n",
       "    <tr>\n",
       "      <th>84509</th>\n",
       "      <td>['The Stooges']</td>\n",
       "      <td>Your Pretty Face Is Going to Hell - Alternate ...</td>\n",
       "      <td>3.744</td>\n",
       "    </tr>\n",
       "    <tr>\n",
       "      <th>142464</th>\n",
       "      <td>['Wolfchilde']</td>\n",
       "      <td>Weight of Years</td>\n",
       "      <td>3.367</td>\n",
       "    </tr>\n",
       "    <tr>\n",
       "      <th>133544</th>\n",
       "      <td>['The Stooges']</td>\n",
       "      <td>Death Trip - Iggy Pop Mix</td>\n",
       "      <td>1.963</td>\n",
       "    </tr>\n",
       "    <tr>\n",
       "      <th>43219</th>\n",
       "      <td>['DYING SPASM']</td>\n",
       "      <td>drag</td>\n",
       "      <td>1.830</td>\n",
       "    </tr>\n",
       "    <tr>\n",
       "      <th>123890</th>\n",
       "      <td>['Justice', 'Simian']</td>\n",
       "      <td>We Are Your Friends - Justice Vs Simian</td>\n",
       "      <td>1.342</td>\n",
       "    </tr>\n",
       "    <tr>\n",
       "      <th>84507</th>\n",
       "      <td>['The Stooges']</td>\n",
       "      <td>Raw Power - Iggy Pop Mix</td>\n",
       "      <td>1.275</td>\n",
       "    </tr>\n",
       "    <tr>\n",
       "      <th>92433</th>\n",
       "      <td>['Gina Star']</td>\n",
       "      <td>1000 Years - BARE Remix</td>\n",
       "      <td>1.027</td>\n",
       "    </tr>\n",
       "    <tr>\n",
       "      <th>92435</th>\n",
       "      <td>['Gina Star']</td>\n",
       "      <td>1000 Years - BARE Remix</td>\n",
       "      <td>1.027</td>\n",
       "    </tr>\n",
       "    <tr>\n",
       "      <th>92499</th>\n",
       "      <td>['Gina Star']</td>\n",
       "      <td>1000 Years - BARE Remix</td>\n",
       "      <td>1.027</td>\n",
       "    </tr>\n",
       "  </tbody>\n",
       "</table>\n",
       "</div>"
      ],
      "text/plain": [
       "                      artists  \\\n",
       "22628        ['Apocolothoth']   \n",
       "84509         ['The Stooges']   \n",
       "142464         ['Wolfchilde']   \n",
       "133544        ['The Stooges']   \n",
       "43219         ['DYING SPASM']   \n",
       "123890  ['Justice', 'Simian']   \n",
       "84507         ['The Stooges']   \n",
       "92433           ['Gina Star']   \n",
       "92435           ['Gina Star']   \n",
       "92499           ['Gina Star']   \n",
       "\n",
       "                                                     name  loudness  \n",
       "22628                                                Sold     3.855  \n",
       "84509   Your Pretty Face Is Going to Hell - Alternate ...     3.744  \n",
       "142464                                    Weight of Years     3.367  \n",
       "133544                          Death Trip - Iggy Pop Mix     1.963  \n",
       "43219                                                drag     1.830  \n",
       "123890            We Are Your Friends - Justice Vs Simian     1.342  \n",
       "84507                            Raw Power - Iggy Pop Mix     1.275  \n",
       "92433                             1000 Years - BARE Remix     1.027  \n",
       "92435                             1000 Years - BARE Remix     1.027  \n",
       "92499                             1000 Years - BARE Remix     1.027  "
      ]
     },
     "execution_count": 24,
     "metadata": {},
     "output_type": "execute_result"
    }
   ],
   "source": [
    "spotify[['artists', 'name', 'loudness']].nlargest(10, 'loudness')"
   ]
  },
  {
   "cell_type": "markdown",
   "metadata": {},
   "source": [
    "### Popularity:  \n",
    "### The higher the value the more popular the song is.\n",
    "\n",
    "### Does not follow a normal distribution.  Appears to skew to the right.  Can't explain or interpret what going on around the 0 range. Could be due to there being a high number of songs that are not listened to on Spotify."
   ]
  },
  {
   "cell_type": "code",
   "execution_count": 25,
   "metadata": {
    "pycharm": {
     "is_executing": true
    }
   },
   "outputs": [
    {
     "name": "stdout",
     "output_type": "stream",
     "text": [
      "Mean:   25.693\n",
      "Median: 25.000\n",
      "Mode:    0\n",
      "Skew:    0.363\n"
     ]
    },
    {
     "data": {
      "text/plain": [
       "<AxesSubplot:ylabel='Frequency'>"
      ]
     },
     "execution_count": 25,
     "metadata": {},
     "output_type": "execute_result"
    },
    {
     "data": {
      "image/png": "[encoded data removed]",
      "text/plain": [
       "<Figure size 432x288 with 1 Axes>"
      ]
     },
     "metadata": {
      "needs_background": "light"
     },
     "output_type": "display_data"
    }
   ],
   "source": [
    "print('Mean:   {:,.3f}'.format(spotify[['popularity']].mean().values[0]))\n",
    "print('Median: {:,.3f}'.format(spotify[['popularity']].median().values[0]))\n",
    "print('Mode:   {}'.format(spotify[['popularity']].mode().to_string(header=None,index=False)))\n",
    "print('Skew:    {:,.3f}'.format(spotify[['popularity']].skew().values[0]))\n",
    "spotify[['popularity']].plot(kind=\"hist\", bins=20)"
   ]
  },
  {
   "cell_type": "markdown",
   "metadata": {},
   "source": [
    "### Top 10 Songs by Popularity"
   ]
  },
  {
   "cell_type": "code",
   "execution_count": 26,
   "metadata": {
    "pycharm": {
     "is_executing": true
    }
   },
   "outputs": [
    {
     "data": {
      "text/html": [
       "<div>\n",
       "<style scoped>\n",
       "    .dataframe tbody tr th:only-of-type {\n",
       "        vertical-align: middle;\n",
       "    }\n",
       "\n",
       "    .dataframe tbody tr th {\n",
       "        vertical-align: top;\n",
       "    }\n",
       "\n",
       "    .dataframe thead th {\n",
       "        text-align: right;\n",
       "    }\n",
       "</style>\n",
       "<table border=\"1\" class=\"dataframe\">\n",
       "  <thead>\n",
       "    <tr style=\"text-align: right;\">\n",
       "      <th></th>\n",
       "      <th>artists</th>\n",
       "      <th>name</th>\n",
       "      <th>popularity</th>\n",
       "    </tr>\n",
       "  </thead>\n",
       "  <tbody>\n",
       "    <tr>\n",
       "      <th>20062</th>\n",
       "      <td>['Olivia Rodrigo']</td>\n",
       "      <td>drivers license</td>\n",
       "      <td>100</td>\n",
       "    </tr>\n",
       "    <tr>\n",
       "      <th>19862</th>\n",
       "      <td>['24kGoldn', 'iann dior']</td>\n",
       "      <td>Mood (feat. iann dior)</td>\n",
       "      <td>96</td>\n",
       "    </tr>\n",
       "    <tr>\n",
       "      <th>19866</th>\n",
       "      <td>['Ariana Grande']</td>\n",
       "      <td>positions</td>\n",
       "      <td>96</td>\n",
       "    </tr>\n",
       "    <tr>\n",
       "      <th>19886</th>\n",
       "      <td>['Bad Bunny', 'Jhay Cortez']</td>\n",
       "      <td>DÁKITI</td>\n",
       "      <td>95</td>\n",
       "    </tr>\n",
       "    <tr>\n",
       "      <th>19976</th>\n",
       "      <td>['KAROL G']</td>\n",
       "      <td>BICHOTA</td>\n",
       "      <td>95</td>\n",
       "    </tr>\n",
       "    <tr>\n",
       "      <th>19868</th>\n",
       "      <td>['Ariana Grande']</td>\n",
       "      <td>34+35</td>\n",
       "      <td>94</td>\n",
       "    </tr>\n",
       "    <tr>\n",
       "      <th>19870</th>\n",
       "      <td>['CJ']</td>\n",
       "      <td>Whoopty</td>\n",
       "      <td>94</td>\n",
       "    </tr>\n",
       "    <tr>\n",
       "      <th>19872</th>\n",
       "      <td>['The Kid LAROI']</td>\n",
       "      <td>WITHOUT YOU</td>\n",
       "      <td>94</td>\n",
       "    </tr>\n",
       "    <tr>\n",
       "      <th>19876</th>\n",
       "      <td>['Billie Eilish']</td>\n",
       "      <td>Therefore I Am</td>\n",
       "      <td>94</td>\n",
       "    </tr>\n",
       "    <tr>\n",
       "      <th>19928</th>\n",
       "      <td>['Bad Bunny', 'ROSALÍA']</td>\n",
       "      <td>LA NOCHE DE ANOCHE</td>\n",
       "      <td>94</td>\n",
       "    </tr>\n",
       "  </tbody>\n",
       "</table>\n",
       "</div>"
      ],
      "text/plain": [
       "                            artists                    name  popularity\n",
       "20062            ['Olivia Rodrigo']         drivers license         100\n",
       "19862     ['24kGoldn', 'iann dior']  Mood (feat. iann dior)          96\n",
       "19866             ['Ariana Grande']               positions          96\n",
       "19886  ['Bad Bunny', 'Jhay Cortez']                  DÁKITI          95\n",
       "19976                   ['KAROL G']                 BICHOTA          95\n",
       "19868             ['Ariana Grande']                   34+35          94\n",
       "19870                        ['CJ']                 Whoopty          94\n",
       "19872             ['The Kid LAROI']             WITHOUT YOU          94\n",
       "19876             ['Billie Eilish']          Therefore I Am          94\n",
       "19928      ['Bad Bunny', 'ROSALÍA']      LA NOCHE DE ANOCHE          94"
      ]
     },
     "execution_count": 26,
     "metadata": {},
     "output_type": "execute_result"
    }
   ],
   "source": [
    "spotify[['artists', 'name', 'popularity']].nlargest(10, 'popularity')\n",
    "# spotify['artists'].value_counts().head(10)"
   ]
  },
  {
   "cell_type": "markdown",
   "metadata": {},
   "source": [
    "### Bottom 10 Songs by Popularity"
   ]
  },
  {
   "cell_type": "code",
   "execution_count": 27,
   "metadata": {},
   "outputs": [
    {
     "data": {
      "text/html": [
       "<div>\n",
       "<style scoped>\n",
       "    .dataframe tbody tr th:only-of-type {\n",
       "        vertical-align: middle;\n",
       "    }\n",
       "\n",
       "    .dataframe tbody tr th {\n",
       "        vertical-align: top;\n",
       "    }\n",
       "\n",
       "    .dataframe thead th {\n",
       "        text-align: right;\n",
       "    }\n",
       "</style>\n",
       "<table border=\"1\" class=\"dataframe\">\n",
       "  <thead>\n",
       "    <tr style=\"text-align: right;\">\n",
       "      <th></th>\n",
       "      <th>artists</th>\n",
       "      <th>name</th>\n",
       "      <th>popularity</th>\n",
       "    </tr>\n",
       "  </thead>\n",
       "  <tbody>\n",
       "    <tr>\n",
       "      <th>7</th>\n",
       "      <td>['Mamie Smith &amp; Her Jazz Hounds']</td>\n",
       "      <td>Arkansas Blues</td>\n",
       "      <td>0</td>\n",
       "    </tr>\n",
       "    <tr>\n",
       "      <th>8</th>\n",
       "      <td>['Francisco Canaro']</td>\n",
       "      <td>La Chacarera - Remasterizado</td>\n",
       "      <td>0</td>\n",
       "    </tr>\n",
       "    <tr>\n",
       "      <th>9</th>\n",
       "      <td>['Meetya']</td>\n",
       "      <td>Broken Puppet - Original Mix</td>\n",
       "      <td>0</td>\n",
       "    </tr>\n",
       "    <tr>\n",
       "      <th>10</th>\n",
       "      <td>['Dorville']</td>\n",
       "      <td>Oouin</td>\n",
       "      <td>0</td>\n",
       "    </tr>\n",
       "    <tr>\n",
       "      <th>11</th>\n",
       "      <td>['Francisco Canaro']</td>\n",
       "      <td>Desengaño - Remasterizado</td>\n",
       "      <td>0</td>\n",
       "    </tr>\n",
       "    <tr>\n",
       "      <th>12</th>\n",
       "      <td>['Ka Koula']</td>\n",
       "      <td>Ta oula sou</td>\n",
       "      <td>0</td>\n",
       "    </tr>\n",
       "    <tr>\n",
       "      <th>13</th>\n",
       "      <td>['Justrock']</td>\n",
       "      <td>Schumacher</td>\n",
       "      <td>0</td>\n",
       "    </tr>\n",
       "    <tr>\n",
       "      <th>14</th>\n",
       "      <td>['Takis Nikolaou']</td>\n",
       "      <td>Mparmpaouzos</td>\n",
       "      <td>0</td>\n",
       "    </tr>\n",
       "    <tr>\n",
       "      <th>15</th>\n",
       "      <td>['Aggeliki Karagianni']</td>\n",
       "      <td>To katinaki</td>\n",
       "      <td>0</td>\n",
       "    </tr>\n",
       "    <tr>\n",
       "      <th>16</th>\n",
       "      <td>['Giorgos Katsaros']</td>\n",
       "      <td>Oli mera paizei zaria</td>\n",
       "      <td>0</td>\n",
       "    </tr>\n",
       "  </tbody>\n",
       "</table>\n",
       "</div>"
      ],
      "text/plain": [
       "                              artists                          name  \\\n",
       "7   ['Mamie Smith & Her Jazz Hounds']                Arkansas Blues   \n",
       "8                ['Francisco Canaro']  La Chacarera - Remasterizado   \n",
       "9                          ['Meetya']  Broken Puppet - Original Mix   \n",
       "10                       ['Dorville']                         Oouin   \n",
       "11               ['Francisco Canaro']     Desengaño - Remasterizado   \n",
       "12                       ['Ka Koula']                   Ta oula sou   \n",
       "13                       ['Justrock']                    Schumacher   \n",
       "14                 ['Takis Nikolaou']                  Mparmpaouzos   \n",
       "15            ['Aggeliki Karagianni']                   To katinaki   \n",
       "16               ['Giorgos Katsaros']         Oli mera paizei zaria   \n",
       "\n",
       "    popularity  \n",
       "7            0  \n",
       "8            0  \n",
       "9            0  \n",
       "10           0  \n",
       "11           0  \n",
       "12           0  \n",
       "13           0  \n",
       "14           0  \n",
       "15           0  \n",
       "16           0  "
      ]
     },
     "execution_count": 27,
     "metadata": {},
     "output_type": "execute_result"
    }
   ],
   "source": [
    "spotify[['artists', 'name', 'popularity']].nsmallest(10, 'popularity')"
   ]
  },
  {
   "cell_type": "markdown",
   "metadata": {},
   "source": [
    "### Speechiness:  \n",
    "### Speechiness detects the presence of spoken words in a track. The more exclusively speech-like the recording (e.g. talk show, audio book, poetry), the closer to 1.0 the attribute value. Values above 0.66 describe tracks that are probably made entirely of spoken words, such as audio-books. Values between 0.33 and 0.66 describe tracks that may contain both music and speech, either in sections or layered, including such cases as rap music. Values below 0.33 most likely represent music and other non-speech-like tracks.\n",
    "\n",
    "### Does not follow a normal distribution.  Appears to skew to the right.  Most of the speechiness occurs at the 0.0 range."
   ]
  },
  {
   "cell_type": "code",
   "execution_count": 28,
   "metadata": {
    "pycharm": {
     "is_executing": true
    }
   },
   "outputs": [
    {
     "name": "stdout",
     "output_type": "stream",
     "text": [
      "Mean:   0.106\n",
      "Median: 0.045\n",
      "Mode:   0.0337\n",
      "Skew:   3.751\n"
     ]
    },
    {
     "data": {
      "text/plain": [
       "<AxesSubplot:ylabel='Frequency'>"
      ]
     },
     "execution_count": 28,
     "metadata": {},
     "output_type": "execute_result"
    },
    {
     "data": {
      "image/png": "[encoded data removed]",
      "text/plain": [
       "<Figure size 432x288 with 1 Axes>"
      ]
     },
     "metadata": {
      "needs_background": "light"
     },
     "output_type": "display_data"
    }
   ],
   "source": [
    "print('Mean:   {:,.3f}'.format(spotify[['speechiness']].mean().values[0]))\n",
    "print('Median: {:,.3f}'.format(spotify[['speechiness']].median().values[0]))\n",
    "print('Mode:  {}'.format(spotify[['speechiness']].mode().to_string(header=None,index=False)))\n",
    "print('Skew:   {:,.3f}'.format(spotify[['speechiness']].skew().values[0]))\n",
    "spotify[['speechiness']].plot(kind=\"hist\", bins=20)"
   ]
  },
  {
   "cell_type": "markdown",
   "metadata": {},
   "source": [
    "### Top 10 Songs by Speechiness"
   ]
  },
  {
   "cell_type": "code",
   "execution_count": 29,
   "metadata": {},
   "outputs": [
    {
     "data": {
      "text/html": [
       "<div>\n",
       "<style scoped>\n",
       "    .dataframe tbody tr th:only-of-type {\n",
       "        vertical-align: middle;\n",
       "    }\n",
       "\n",
       "    .dataframe tbody tr th {\n",
       "        vertical-align: top;\n",
       "    }\n",
       "\n",
       "    .dataframe thead th {\n",
       "        text-align: right;\n",
       "    }\n",
       "</style>\n",
       "<table border=\"1\" class=\"dataframe\">\n",
       "  <thead>\n",
       "    <tr style=\"text-align: right;\">\n",
       "      <th></th>\n",
       "      <th>artists</th>\n",
       "      <th>name</th>\n",
       "      <th>speechiness</th>\n",
       "    </tr>\n",
       "  </thead>\n",
       "  <tbody>\n",
       "    <tr>\n",
       "      <th>162011</th>\n",
       "      <td>['Harper Lee', 'Eva Mattes']</td>\n",
       "      <td>Wer die Nachtigall stört ..., Kapitel 1</td>\n",
       "      <td>0.971</td>\n",
       "    </tr>\n",
       "    <tr>\n",
       "      <th>25872</th>\n",
       "      <td>['Ernest Hemingway', 'Christian Brückner']</td>\n",
       "      <td>Kapitel 15 - Der alte Mann und das Meer - Erzä...</td>\n",
       "      <td>0.970</td>\n",
       "    </tr>\n",
       "    <tr>\n",
       "      <th>25873</th>\n",
       "      <td>['Ernest Hemingway', 'Christian Brückner']</td>\n",
       "      <td>Kapitel 16 - Der alte Mann und das Meer - Erzä...</td>\n",
       "      <td>0.970</td>\n",
       "    </tr>\n",
       "    <tr>\n",
       "      <th>40598</th>\n",
       "      <td>['Эрих Мария Ремарк']</td>\n",
       "      <td>Часть 38.4 &amp; Часть 39.1 - Обратный путь</td>\n",
       "      <td>0.970</td>\n",
       "    </tr>\n",
       "    <tr>\n",
       "      <th>41619</th>\n",
       "      <td>['Tadeusz Dolega Mostowicz']</td>\n",
       "      <td>Chapter 16.9 - Doktor Murek zredukowany</td>\n",
       "      <td>0.969</td>\n",
       "    </tr>\n",
       "    <tr>\n",
       "      <th>44288</th>\n",
       "      <td>['Georgette Heyer', 'Brigitte Carlsen']</td>\n",
       "      <td>Kapitel 220 - Die drei Ehen der Grand Sophy</td>\n",
       "      <td>0.969</td>\n",
       "    </tr>\n",
       "    <tr>\n",
       "      <th>44331</th>\n",
       "      <td>['Georgette Heyer', 'Brigitte Carlsen']</td>\n",
       "      <td>Kapitel 174 - Die drei Ehen der Grand Sophy</td>\n",
       "      <td>0.969</td>\n",
       "    </tr>\n",
       "    <tr>\n",
       "      <th>62567</th>\n",
       "      <td>['Georgette Heyer', 'Brigitte Carlsen']</td>\n",
       "      <td>Kapitel 187 - Die drei Ehen der Grand Sophy</td>\n",
       "      <td>0.969</td>\n",
       "    </tr>\n",
       "    <tr>\n",
       "      <th>62626</th>\n",
       "      <td>['Georgette Heyer', 'Brigitte Carlsen']</td>\n",
       "      <td>Kapitel 262 - Die drei Ehen der Grand Sophy</td>\n",
       "      <td>0.969</td>\n",
       "    </tr>\n",
       "    <tr>\n",
       "      <th>77991</th>\n",
       "      <td>['Tadeusz Dolega Mostowicz']</td>\n",
       "      <td>Chapter 16.19 - Doktor Murek zredukowany</td>\n",
       "      <td>0.969</td>\n",
       "    </tr>\n",
       "  </tbody>\n",
       "</table>\n",
       "</div>"
      ],
      "text/plain": [
       "                                           artists  \\\n",
       "162011                ['Harper Lee', 'Eva Mattes']   \n",
       "25872   ['Ernest Hemingway', 'Christian Brückner']   \n",
       "25873   ['Ernest Hemingway', 'Christian Brückner']   \n",
       "40598                        ['Эрих Мария Ремарк']   \n",
       "41619                 ['Tadeusz Dolega Mostowicz']   \n",
       "44288      ['Georgette Heyer', 'Brigitte Carlsen']   \n",
       "44331      ['Georgette Heyer', 'Brigitte Carlsen']   \n",
       "62567      ['Georgette Heyer', 'Brigitte Carlsen']   \n",
       "62626      ['Georgette Heyer', 'Brigitte Carlsen']   \n",
       "77991                 ['Tadeusz Dolega Mostowicz']   \n",
       "\n",
       "                                                     name  speechiness  \n",
       "162011            Wer die Nachtigall stört ..., Kapitel 1        0.971  \n",
       "25872   Kapitel 15 - Der alte Mann und das Meer - Erzä...        0.970  \n",
       "25873   Kapitel 16 - Der alte Mann und das Meer - Erzä...        0.970  \n",
       "40598             Часть 38.4 & Часть 39.1 - Обратный путь        0.970  \n",
       "41619             Chapter 16.9 - Doktor Murek zredukowany        0.969  \n",
       "44288         Kapitel 220 - Die drei Ehen der Grand Sophy        0.969  \n",
       "44331         Kapitel 174 - Die drei Ehen der Grand Sophy        0.969  \n",
       "62567         Kapitel 187 - Die drei Ehen der Grand Sophy        0.969  \n",
       "62626         Kapitel 262 - Die drei Ehen der Grand Sophy        0.969  \n",
       "77991            Chapter 16.19 - Doktor Murek zredukowany        0.969  "
      ]
     },
     "execution_count": 29,
     "metadata": {},
     "output_type": "execute_result"
    }
   ],
   "source": [
    "spotify[['artists', 'name', 'speechiness']].nlargest(10, 'speechiness')"
   ]
  },
  {
   "cell_type": "markdown",
   "metadata": {},
   "source": [
    "### Bottom 10 Songs by Speechiness"
   ]
  },
  {
   "cell_type": "code",
   "execution_count": 30,
   "metadata": {},
   "outputs": [
    {
     "data": {
      "text/html": [
       "<div>\n",
       "<style scoped>\n",
       "    .dataframe tbody tr th:only-of-type {\n",
       "        vertical-align: middle;\n",
       "    }\n",
       "\n",
       "    .dataframe tbody tr th {\n",
       "        vertical-align: top;\n",
       "    }\n",
       "\n",
       "    .dataframe thead th {\n",
       "        text-align: right;\n",
       "    }\n",
       "</style>\n",
       "<table border=\"1\" class=\"dataframe\">\n",
       "  <thead>\n",
       "    <tr style=\"text-align: right;\">\n",
       "      <th></th>\n",
       "      <th>artists</th>\n",
       "      <th>name</th>\n",
       "      <th>speechiness</th>\n",
       "    </tr>\n",
       "  </thead>\n",
       "  <tbody>\n",
       "    <tr>\n",
       "      <th>758</th>\n",
       "      <td>['Ignacio Corsini']</td>\n",
       "      <td>La Mina del Ford - Remasterizado</td>\n",
       "      <td>0.0</td>\n",
       "    </tr>\n",
       "    <tr>\n",
       "      <th>845</th>\n",
       "      <td>['Francisco Canaro']</td>\n",
       "      <td>Oh Mujer Mujer - Remasterizado</td>\n",
       "      <td>0.0</td>\n",
       "    </tr>\n",
       "    <tr>\n",
       "      <th>860</th>\n",
       "      <td>['Ignacio Corsini']</td>\n",
       "      <td>Shangai Bay - Remasterizado</td>\n",
       "      <td>0.0</td>\n",
       "    </tr>\n",
       "    <tr>\n",
       "      <th>2820</th>\n",
       "      <td>['The Moors']</td>\n",
       "      <td>Santa Claus Is Coming To Town</td>\n",
       "      <td>0.0</td>\n",
       "    </tr>\n",
       "    <tr>\n",
       "      <th>3302</th>\n",
       "      <td>['Billie Holiday']</td>\n",
       "      <td>Back In Your Own Backyard - Take 1</td>\n",
       "      <td>0.0</td>\n",
       "    </tr>\n",
       "    <tr>\n",
       "      <th>3796</th>\n",
       "      <td>['MGM Studio Orchestra']</td>\n",
       "      <td>Munchkinland Insert - Alternate Tag</td>\n",
       "      <td>0.0</td>\n",
       "    </tr>\n",
       "    <tr>\n",
       "      <th>3806</th>\n",
       "      <td>['Bert Lahr', 'Judy Garland', 'Ray Bolger', 'B...</td>\n",
       "      <td>If I Were King of the Forest - Partial Take; A...</td>\n",
       "      <td>0.0</td>\n",
       "    </tr>\n",
       "    <tr>\n",
       "      <th>4211</th>\n",
       "      <td>['The Slobs']</td>\n",
       "      <td>The Christmas Raid</td>\n",
       "      <td>0.0</td>\n",
       "    </tr>\n",
       "    <tr>\n",
       "      <th>5830</th>\n",
       "      <td>['Charlie Parker']</td>\n",
       "      <td>Embraceable You - Live At Carnegie Hall, New Y...</td>\n",
       "      <td>0.0</td>\n",
       "    </tr>\n",
       "    <tr>\n",
       "      <th>8758</th>\n",
       "      <td>['Louis Armstrong']</td>\n",
       "      <td>Hello, Dolly!</td>\n",
       "      <td>0.0</td>\n",
       "    </tr>\n",
       "  </tbody>\n",
       "</table>\n",
       "</div>"
      ],
      "text/plain": [
       "                                                artists  \\\n",
       "758                                 ['Ignacio Corsini']   \n",
       "845                                ['Francisco Canaro']   \n",
       "860                                 ['Ignacio Corsini']   \n",
       "2820                                      ['The Moors']   \n",
       "3302                                 ['Billie Holiday']   \n",
       "3796                           ['MGM Studio Orchestra']   \n",
       "3806  ['Bert Lahr', 'Judy Garland', 'Ray Bolger', 'B...   \n",
       "4211                                      ['The Slobs']   \n",
       "5830                                 ['Charlie Parker']   \n",
       "8758                                ['Louis Armstrong']   \n",
       "\n",
       "                                                   name  speechiness  \n",
       "758                    La Mina del Ford - Remasterizado          0.0  \n",
       "845                      Oh Mujer Mujer - Remasterizado          0.0  \n",
       "860                         Shangai Bay - Remasterizado          0.0  \n",
       "2820                      Santa Claus Is Coming To Town          0.0  \n",
       "3302                 Back In Your Own Backyard - Take 1          0.0  \n",
       "3796                Munchkinland Insert - Alternate Tag          0.0  \n",
       "3806  If I Were King of the Forest - Partial Take; A...          0.0  \n",
       "4211                                 The Christmas Raid          0.0  \n",
       "5830  Embraceable You - Live At Carnegie Hall, New Y...          0.0  \n",
       "8758                                      Hello, Dolly!          0.0  "
      ]
     },
     "execution_count": 30,
     "metadata": {},
     "output_type": "execute_result"
    }
   ],
   "source": [
    "spotify[['artists', 'name', 'speechiness']].nsmallest(10, 'speechiness')"
   ]
  },
  {
   "cell_type": "markdown",
   "metadata": {},
   "source": [
    "### Tempo:  \n",
    "### The overall estimated tempo of a track in beats per minute (BPM). In musical terminology, tempo is the speed or pace of a given piece and derives directly from the average beat duration.\n",
    "\n",
    "### *** Although the distribution almost looks normal.  Skews to the right, but not by much.  Can't explain why the mode is 0.  Requires further investigation. "
   ]
  },
  {
   "cell_type": "code",
   "execution_count": 31,
   "metadata": {
    "pycharm": {
     "is_executing": true
    }
   },
   "outputs": [
    {
     "name": "stdout",
     "output_type": "stream",
     "text": [
      "Mean:   117.006\n",
      "Median: 115.816\n",
      "Mode:     0.0\n",
      "Skew:     0.423\n"
     ]
    },
    {
     "data": {
      "text/plain": [
       "<AxesSubplot:ylabel='Frequency'>"
      ]
     },
     "execution_count": 31,
     "metadata": {},
     "output_type": "execute_result"
    },
    {
     "data": {
      "image/png": "[encoded data removed]",
      "text/plain": [
       "<Figure size 432x288 with 1 Axes>"
      ]
     },
     "metadata": {
      "needs_background": "light"
     },
     "output_type": "display_data"
    }
   ],
   "source": [
    "print('Mean:   {:,.3f}'.format(spotify[['tempo']].mean().values[0]))\n",
    "print('Median: {:,.3f}'.format(spotify[['tempo']].median().values[0]))\n",
    "print('Mode:    {}'.format(spotify[['tempo']].mode().to_string(header=None,index=False)))\n",
    "print('Skew:     {:,.3f}'.format(spotify[['tempo']].skew().values[0]))\n",
    "spotify[['tempo']].plot(kind=\"hist\", bins=20)"
   ]
  },
  {
   "cell_type": "markdown",
   "metadata": {},
   "source": [
    "### Top 10 Songs by Tempo"
   ]
  },
  {
   "cell_type": "code",
   "execution_count": 32,
   "metadata": {},
   "outputs": [
    {
     "data": {
      "text/html": [
       "<div>\n",
       "<style scoped>\n",
       "    .dataframe tbody tr th:only-of-type {\n",
       "        vertical-align: middle;\n",
       "    }\n",
       "\n",
       "    .dataframe tbody tr th {\n",
       "        vertical-align: top;\n",
       "    }\n",
       "\n",
       "    .dataframe thead th {\n",
       "        text-align: right;\n",
       "    }\n",
       "</style>\n",
       "<table border=\"1\" class=\"dataframe\">\n",
       "  <thead>\n",
       "    <tr style=\"text-align: right;\">\n",
       "      <th></th>\n",
       "      <th>artists</th>\n",
       "      <th>name</th>\n",
       "      <th>tempo</th>\n",
       "    </tr>\n",
       "  </thead>\n",
       "  <tbody>\n",
       "    <tr>\n",
       "      <th>84474</th>\n",
       "      <td>['Bill Withers']</td>\n",
       "      <td>I Don't Want You on My Mind</td>\n",
       "      <td>243.507</td>\n",
       "    </tr>\n",
       "    <tr>\n",
       "      <th>29835</th>\n",
       "      <td>['J.J. Cale']</td>\n",
       "      <td>Call The Doctor</td>\n",
       "      <td>243.372</td>\n",
       "    </tr>\n",
       "    <tr>\n",
       "      <th>65985</th>\n",
       "      <td>['Bob Dylan']</td>\n",
       "      <td>Dear Landlord</td>\n",
       "      <td>238.895</td>\n",
       "    </tr>\n",
       "    <tr>\n",
       "      <th>29374</th>\n",
       "      <td>['Grateful Dead']</td>\n",
       "      <td>Candyman - 2013 Remaster</td>\n",
       "      <td>236.799</td>\n",
       "    </tr>\n",
       "    <tr>\n",
       "      <th>167770</th>\n",
       "      <td>['Suicide']</td>\n",
       "      <td>Surrender - 2005 Remastered Version</td>\n",
       "      <td>224.437</td>\n",
       "    </tr>\n",
       "    <tr>\n",
       "      <th>121924</th>\n",
       "      <td>['Portishead']</td>\n",
       "      <td>Undenied</td>\n",
       "      <td>222.605</td>\n",
       "    </tr>\n",
       "    <tr>\n",
       "      <th>156668</th>\n",
       "      <td>['Aviation Weather']</td>\n",
       "      <td>Sail over the Storm</td>\n",
       "      <td>221.954</td>\n",
       "    </tr>\n",
       "    <tr>\n",
       "      <th>2753</th>\n",
       "      <td>['Bimal Gupta']</td>\n",
       "      <td>Biyer Pare</td>\n",
       "      <td>221.741</td>\n",
       "    </tr>\n",
       "    <tr>\n",
       "      <th>136469</th>\n",
       "      <td>['Big Black']</td>\n",
       "      <td>L Dopa</td>\n",
       "      <td>221.112</td>\n",
       "    </tr>\n",
       "    <tr>\n",
       "      <th>3947</th>\n",
       "      <td>['Anestis Delias']</td>\n",
       "      <td>To xaremi sto xamam</td>\n",
       "      <td>221.058</td>\n",
       "    </tr>\n",
       "  </tbody>\n",
       "</table>\n",
       "</div>"
      ],
      "text/plain": [
       "                     artists                                 name    tempo\n",
       "84474       ['Bill Withers']          I Don't Want You on My Mind  243.507\n",
       "29835          ['J.J. Cale']                      Call The Doctor  243.372\n",
       "65985          ['Bob Dylan']                        Dear Landlord  238.895\n",
       "29374      ['Grateful Dead']             Candyman - 2013 Remaster  236.799\n",
       "167770           ['Suicide']  Surrender - 2005 Remastered Version  224.437\n",
       "121924        ['Portishead']                             Undenied  222.605\n",
       "156668  ['Aviation Weather']                  Sail over the Storm  221.954\n",
       "2753         ['Bimal Gupta']                           Biyer Pare  221.741\n",
       "136469         ['Big Black']                               L Dopa  221.112\n",
       "3947      ['Anestis Delias']                  To xaremi sto xamam  221.058"
      ]
     },
     "execution_count": 32,
     "metadata": {},
     "output_type": "execute_result"
    }
   ],
   "source": [
    "spotify[['artists', 'name', 'tempo']].nlargest(10, 'tempo')"
   ]
  },
  {
   "cell_type": "markdown",
   "metadata": {},
   "source": [
    "### Bottom 10 Songs by Tempo"
   ]
  },
  {
   "cell_type": "code",
   "execution_count": 33,
   "metadata": {},
   "outputs": [
    {
     "data": {
      "text/html": [
       "<div>\n",
       "<style scoped>\n",
       "    .dataframe tbody tr th:only-of-type {\n",
       "        vertical-align: middle;\n",
       "    }\n",
       "\n",
       "    .dataframe tbody tr th {\n",
       "        vertical-align: top;\n",
       "    }\n",
       "\n",
       "    .dataframe thead th {\n",
       "        text-align: right;\n",
       "    }\n",
       "</style>\n",
       "<table border=\"1\" class=\"dataframe\">\n",
       "  <thead>\n",
       "    <tr style=\"text-align: right;\">\n",
       "      <th></th>\n",
       "      <th>artists</th>\n",
       "      <th>name</th>\n",
       "      <th>tempo</th>\n",
       "    </tr>\n",
       "  </thead>\n",
       "  <tbody>\n",
       "    <tr>\n",
       "      <th>758</th>\n",
       "      <td>['Ignacio Corsini']</td>\n",
       "      <td>La Mina del Ford - Remasterizado</td>\n",
       "      <td>0.0</td>\n",
       "    </tr>\n",
       "    <tr>\n",
       "      <th>845</th>\n",
       "      <td>['Francisco Canaro']</td>\n",
       "      <td>Oh Mujer Mujer - Remasterizado</td>\n",
       "      <td>0.0</td>\n",
       "    </tr>\n",
       "    <tr>\n",
       "      <th>860</th>\n",
       "      <td>['Ignacio Corsini']</td>\n",
       "      <td>Shangai Bay - Remasterizado</td>\n",
       "      <td>0.0</td>\n",
       "    </tr>\n",
       "    <tr>\n",
       "      <th>2820</th>\n",
       "      <td>['The Moors']</td>\n",
       "      <td>Santa Claus Is Coming To Town</td>\n",
       "      <td>0.0</td>\n",
       "    </tr>\n",
       "    <tr>\n",
       "      <th>3302</th>\n",
       "      <td>['Billie Holiday']</td>\n",
       "      <td>Back In Your Own Backyard - Take 1</td>\n",
       "      <td>0.0</td>\n",
       "    </tr>\n",
       "    <tr>\n",
       "      <th>3796</th>\n",
       "      <td>['MGM Studio Orchestra']</td>\n",
       "      <td>Munchkinland Insert - Alternate Tag</td>\n",
       "      <td>0.0</td>\n",
       "    </tr>\n",
       "    <tr>\n",
       "      <th>3806</th>\n",
       "      <td>['Bert Lahr', 'Judy Garland', 'Ray Bolger', 'B...</td>\n",
       "      <td>If I Were King of the Forest - Partial Take; A...</td>\n",
       "      <td>0.0</td>\n",
       "    </tr>\n",
       "    <tr>\n",
       "      <th>4211</th>\n",
       "      <td>['The Slobs']</td>\n",
       "      <td>The Christmas Raid</td>\n",
       "      <td>0.0</td>\n",
       "    </tr>\n",
       "    <tr>\n",
       "      <th>5830</th>\n",
       "      <td>['Charlie Parker']</td>\n",
       "      <td>Embraceable You - Live At Carnegie Hall, New Y...</td>\n",
       "      <td>0.0</td>\n",
       "    </tr>\n",
       "    <tr>\n",
       "      <th>8758</th>\n",
       "      <td>['Louis Armstrong']</td>\n",
       "      <td>Hello, Dolly!</td>\n",
       "      <td>0.0</td>\n",
       "    </tr>\n",
       "  </tbody>\n",
       "</table>\n",
       "</div>"
      ],
      "text/plain": [
       "                                                artists  \\\n",
       "758                                 ['Ignacio Corsini']   \n",
       "845                                ['Francisco Canaro']   \n",
       "860                                 ['Ignacio Corsini']   \n",
       "2820                                      ['The Moors']   \n",
       "3302                                 ['Billie Holiday']   \n",
       "3796                           ['MGM Studio Orchestra']   \n",
       "3806  ['Bert Lahr', 'Judy Garland', 'Ray Bolger', 'B...   \n",
       "4211                                      ['The Slobs']   \n",
       "5830                                 ['Charlie Parker']   \n",
       "8758                                ['Louis Armstrong']   \n",
       "\n",
       "                                                   name  tempo  \n",
       "758                    La Mina del Ford - Remasterizado    0.0  \n",
       "845                      Oh Mujer Mujer - Remasterizado    0.0  \n",
       "860                         Shangai Bay - Remasterizado    0.0  \n",
       "2820                      Santa Claus Is Coming To Town    0.0  \n",
       "3302                 Back In Your Own Backyard - Take 1    0.0  \n",
       "3796                Munchkinland Insert - Alternate Tag    0.0  \n",
       "3806  If I Were King of the Forest - Partial Take; A...    0.0  \n",
       "4211                                 The Christmas Raid    0.0  \n",
       "5830  Embraceable You - Live At Carnegie Hall, New Y...    0.0  \n",
       "8758                                      Hello, Dolly!    0.0  "
      ]
     },
     "execution_count": 33,
     "metadata": {},
     "output_type": "execute_result"
    }
   ],
   "source": [
    "spotify[['artists', 'name', 'tempo']].nsmallest(10, 'tempo')"
   ]
  },
  {
   "cell_type": "markdown",
   "metadata": {},
   "source": [
    "### Valence: \n",
    "### A measure from 0.0 to 1.0 describing the musical positiveness conveyed by a track. Tracks with high valence sound more positive (e.g. happy, cheerful, euphoric), while tracks with low valence sound more negative (e.g. sad, depressed, angry).\n",
    "\n",
    "### Does not follow a normal distribution.  It appears to skew to the left."
   ]
  },
  {
   "cell_type": "code",
   "execution_count": 34,
   "metadata": {
    "pycharm": {
     "is_executing": true
    }
   },
   "outputs": [
    {
     "name": "stdout",
     "output_type": "stream",
     "text": [
      "Mean:   0.525\n",
      "Median: 0.536\n",
      "Mode:   0.961\n",
      "Skew:  -0.101\n"
     ]
    },
    {
     "data": {
      "text/plain": [
       "<AxesSubplot:ylabel='Frequency'>"
      ]
     },
     "execution_count": 34,
     "metadata": {},
     "output_type": "execute_result"
    },
    {
     "data": {
      "image/png": "[encoded data removed]",
      "text/plain": [
       "<Figure size 432x288 with 1 Axes>"
      ]
     },
     "metadata": {
      "needs_background": "light"
     },
     "output_type": "display_data"
    }
   ],
   "source": [
    "print('Mean:   {:,.3f}'.format(spotify[['valence']].mean().values[0]))\n",
    "print('Median: {:,.3f}'.format(spotify[['valence']].median().values[0]))\n",
    "print('Mode:  {}'.format(spotify[['valence']].mode().to_string(header=None,index=False)))\n",
    "print('Skew:  {:,.3f}'.format(spotify[['valence']].skew().values[0]))\n",
    "spotify[['valence']].plot(kind=\"hist\", bins=20)"
   ]
  },
  {
   "cell_type": "markdown",
   "metadata": {},
   "source": [
    "### Top 10 Songs by Valence"
   ]
  },
  {
   "cell_type": "code",
   "execution_count": 35,
   "metadata": {},
   "outputs": [
    {
     "data": {
      "text/html": [
       "<div>\n",
       "<style scoped>\n",
       "    .dataframe tbody tr th:only-of-type {\n",
       "        vertical-align: middle;\n",
       "    }\n",
       "\n",
       "    .dataframe tbody tr th {\n",
       "        vertical-align: top;\n",
       "    }\n",
       "\n",
       "    .dataframe thead th {\n",
       "        text-align: right;\n",
       "    }\n",
       "</style>\n",
       "<table border=\"1\" class=\"dataframe\">\n",
       "  <thead>\n",
       "    <tr style=\"text-align: right;\">\n",
       "      <th></th>\n",
       "      <th>artists</th>\n",
       "      <th>name</th>\n",
       "      <th>valence</th>\n",
       "    </tr>\n",
       "  </thead>\n",
       "  <tbody>\n",
       "    <tr>\n",
       "      <th>30791</th>\n",
       "      <td>['Raffi']</td>\n",
       "      <td>Les Petites Marionettes</td>\n",
       "      <td>1.000</td>\n",
       "    </tr>\n",
       "    <tr>\n",
       "      <th>41676</th>\n",
       "      <td>['Raymond Scott']</td>\n",
       "      <td>Chatter</td>\n",
       "      <td>1.000</td>\n",
       "    </tr>\n",
       "    <tr>\n",
       "      <th>54776</th>\n",
       "      <td>['Montez de Durango']</td>\n",
       "      <td>Pasito Duranguense</td>\n",
       "      <td>1.000</td>\n",
       "    </tr>\n",
       "    <tr>\n",
       "      <th>171107</th>\n",
       "      <td>['Spongebob Squarepants']</td>\n",
       "      <td>Electric Zoo</td>\n",
       "      <td>1.000</td>\n",
       "    </tr>\n",
       "    <tr>\n",
       "      <th>122536</th>\n",
       "      <td>['8-Bit Arcade']</td>\n",
       "      <td>2000 Light Years Away (8-Bit Computer Game Ver...</td>\n",
       "      <td>0.997</td>\n",
       "    </tr>\n",
       "    <tr>\n",
       "      <th>71335</th>\n",
       "      <td>['Barney']</td>\n",
       "      <td>Barney Theme Song</td>\n",
       "      <td>0.996</td>\n",
       "    </tr>\n",
       "    <tr>\n",
       "      <th>20720</th>\n",
       "      <td>['Iván Rolón']</td>\n",
       "      <td>Danza lenta</td>\n",
       "      <td>0.995</td>\n",
       "    </tr>\n",
       "    <tr>\n",
       "      <th>79099</th>\n",
       "      <td>['Johann Sebastian Bach', 'Jascha Heifetz']</td>\n",
       "      <td>Violin Partita No. 3 in E Major, BWV 1006: VI....</td>\n",
       "      <td>0.995</td>\n",
       "    </tr>\n",
       "    <tr>\n",
       "      <th>72900</th>\n",
       "      <td>['Montez de Durango']</td>\n",
       "      <td>El Sube Y Baja</td>\n",
       "      <td>0.994</td>\n",
       "    </tr>\n",
       "    <tr>\n",
       "      <th>105316</th>\n",
       "      <td>['Banda El Recodo']</td>\n",
       "      <td>La Basurita</td>\n",
       "      <td>0.994</td>\n",
       "    </tr>\n",
       "  </tbody>\n",
       "</table>\n",
       "</div>"
      ],
      "text/plain": [
       "                                            artists  \\\n",
       "30791                                     ['Raffi']   \n",
       "41676                             ['Raymond Scott']   \n",
       "54776                         ['Montez de Durango']   \n",
       "171107                    ['Spongebob Squarepants']   \n",
       "122536                             ['8-Bit Arcade']   \n",
       "71335                                    ['Barney']   \n",
       "20720                                ['Iván Rolón']   \n",
       "79099   ['Johann Sebastian Bach', 'Jascha Heifetz']   \n",
       "72900                         ['Montez de Durango']   \n",
       "105316                          ['Banda El Recodo']   \n",
       "\n",
       "                                                     name  valence  \n",
       "30791                             Les Petites Marionettes    1.000  \n",
       "41676                                             Chatter    1.000  \n",
       "54776                                  Pasito Duranguense    1.000  \n",
       "171107                                       Electric Zoo    1.000  \n",
       "122536  2000 Light Years Away (8-Bit Computer Game Ver...    0.997  \n",
       "71335                                   Barney Theme Song    0.996  \n",
       "20720                                         Danza lenta    0.995  \n",
       "79099   Violin Partita No. 3 in E Major, BWV 1006: VI....    0.995  \n",
       "72900                                      El Sube Y Baja    0.994  \n",
       "105316                                        La Basurita    0.994  "
      ]
     },
     "execution_count": 35,
     "metadata": {},
     "output_type": "execute_result"
    }
   ],
   "source": [
    "spotify[['artists', 'name', 'valence']].nlargest(10, 'valence')"
   ]
  },
  {
   "cell_type": "markdown",
   "metadata": {},
   "source": [
    "### Bottom 10 Songs by Valence"
   ]
  },
  {
   "cell_type": "code",
   "execution_count": 36,
   "metadata": {},
   "outputs": [
    {
     "data": {
      "text/html": [
       "<div>\n",
       "<style scoped>\n",
       "    .dataframe tbody tr th:only-of-type {\n",
       "        vertical-align: middle;\n",
       "    }\n",
       "\n",
       "    .dataframe tbody tr th {\n",
       "        vertical-align: top;\n",
       "    }\n",
       "\n",
       "    .dataframe thead th {\n",
       "        text-align: right;\n",
       "    }\n",
       "</style>\n",
       "<table border=\"1\" class=\"dataframe\">\n",
       "  <thead>\n",
       "    <tr style=\"text-align: right;\">\n",
       "      <th></th>\n",
       "      <th>artists</th>\n",
       "      <th>name</th>\n",
       "      <th>valence</th>\n",
       "    </tr>\n",
       "  </thead>\n",
       "  <tbody>\n",
       "    <tr>\n",
       "      <th>758</th>\n",
       "      <td>['Ignacio Corsini']</td>\n",
       "      <td>La Mina del Ford - Remasterizado</td>\n",
       "      <td>0.0</td>\n",
       "    </tr>\n",
       "    <tr>\n",
       "      <th>845</th>\n",
       "      <td>['Francisco Canaro']</td>\n",
       "      <td>Oh Mujer Mujer - Remasterizado</td>\n",
       "      <td>0.0</td>\n",
       "    </tr>\n",
       "    <tr>\n",
       "      <th>860</th>\n",
       "      <td>['Ignacio Corsini']</td>\n",
       "      <td>Shangai Bay - Remasterizado</td>\n",
       "      <td>0.0</td>\n",
       "    </tr>\n",
       "    <tr>\n",
       "      <th>1217</th>\n",
       "      <td>['Iván Rolón']</td>\n",
       "      <td>Cuatro melodías al unísono, No. III</td>\n",
       "      <td>0.0</td>\n",
       "    </tr>\n",
       "    <tr>\n",
       "      <th>2820</th>\n",
       "      <td>['The Moors']</td>\n",
       "      <td>Santa Claus Is Coming To Town</td>\n",
       "      <td>0.0</td>\n",
       "    </tr>\n",
       "    <tr>\n",
       "      <th>3302</th>\n",
       "      <td>['Billie Holiday']</td>\n",
       "      <td>Back In Your Own Backyard - Take 1</td>\n",
       "      <td>0.0</td>\n",
       "    </tr>\n",
       "    <tr>\n",
       "      <th>3796</th>\n",
       "      <td>['MGM Studio Orchestra']</td>\n",
       "      <td>Munchkinland Insert - Alternate Tag</td>\n",
       "      <td>0.0</td>\n",
       "    </tr>\n",
       "    <tr>\n",
       "      <th>3806</th>\n",
       "      <td>['Bert Lahr', 'Judy Garland', 'Ray Bolger', 'B...</td>\n",
       "      <td>If I Were King of the Forest - Partial Take; A...</td>\n",
       "      <td>0.0</td>\n",
       "    </tr>\n",
       "    <tr>\n",
       "      <th>4211</th>\n",
       "      <td>['The Slobs']</td>\n",
       "      <td>The Christmas Raid</td>\n",
       "      <td>0.0</td>\n",
       "    </tr>\n",
       "    <tr>\n",
       "      <th>5830</th>\n",
       "      <td>['Charlie Parker']</td>\n",
       "      <td>Embraceable You - Live At Carnegie Hall, New Y...</td>\n",
       "      <td>0.0</td>\n",
       "    </tr>\n",
       "  </tbody>\n",
       "</table>\n",
       "</div>"
      ],
      "text/plain": [
       "                                                artists  \\\n",
       "758                                 ['Ignacio Corsini']   \n",
       "845                                ['Francisco Canaro']   \n",
       "860                                 ['Ignacio Corsini']   \n",
       "1217                                     ['Iván Rolón']   \n",
       "2820                                      ['The Moors']   \n",
       "3302                                 ['Billie Holiday']   \n",
       "3796                           ['MGM Studio Orchestra']   \n",
       "3806  ['Bert Lahr', 'Judy Garland', 'Ray Bolger', 'B...   \n",
       "4211                                      ['The Slobs']   \n",
       "5830                                 ['Charlie Parker']   \n",
       "\n",
       "                                                   name  valence  \n",
       "758                    La Mina del Ford - Remasterizado      0.0  \n",
       "845                      Oh Mujer Mujer - Remasterizado      0.0  \n",
       "860                         Shangai Bay - Remasterizado      0.0  \n",
       "1217                Cuatro melodías al unísono, No. III      0.0  \n",
       "2820                      Santa Claus Is Coming To Town      0.0  \n",
       "3302                 Back In Your Own Backyard - Take 1      0.0  \n",
       "3796                Munchkinland Insert - Alternate Tag      0.0  \n",
       "3806  If I Were King of the Forest - Partial Take; A...      0.0  \n",
       "4211                                 The Christmas Raid      0.0  \n",
       "5830  Embraceable You - Live At Carnegie Hall, New Y...      0.0  "
      ]
     },
     "execution_count": 36,
     "metadata": {},
     "output_type": "execute_result"
    }
   ],
   "source": [
    "spotify[['artists', 'name', 'valence']].nsmallest(10, 'valence')"
   ]
  },
  {
   "cell_type": "markdown",
   "metadata": {},
   "source": [
    "### Explicitness:\n",
    "### Indicates if explicit language was used in the song.\n",
    "\n",
    "### 93% of the songs were not explicit and 7% of the songs were explicit."
   ]
  },
  {
   "cell_type": "code",
   "execution_count": 37,
   "metadata": {
    "pycharm": {
     "is_executing": true
    }
   },
   "outputs": [
    {
     "name": "stdout",
     "output_type": "stream",
     "text": [
      "Not Explicit:   0.932\n",
      "Explicit:       0.068\n"
     ]
    },
    {
     "data": {
      "text/plain": [
       "<AxesSubplot:>"
      ]
     },
     "execution_count": 37,
     "metadata": {},
     "output_type": "execute_result"
    },
    {
     "data": {
      "image/png": "[encoded data removed]",
      "text/plain": [
       "<Figure size 432x288 with 1 Axes>"
      ]
     },
     "metadata": {
      "needs_background": "light"
     },
     "output_type": "display_data"
    }
   ],
   "source": [
    "print('Not Explicit:   {:,.3f}'.format(spotify['explicit'].value_counts()[0]/spotify.shape[0]))\n",
    "print('Explicit:       {:,.3f}'.format(spotify['explicit'].value_counts()[1]/spotify.shape[0]))\n",
    "spotify['explicit'].value_counts().plot(kind='bar', color='red')"
   ]
  },
  {
   "cell_type": "markdown",
   "metadata": {},
   "source": []
  },
  {
   "cell_type": "markdown",
   "metadata": {},
   "source": [
    "### Mode:\n",
    "### Mode indicates the modality (major or minor) of a track, the type of scale from which melodic or harmonic content  is derived.  Major is represented by 1 and minor is 0.\n",
    "\n",
    "### 70% of the melodic content has a major modality and 30% has a minor modality."
   ]
  },
  {
   "cell_type": "code",
   "execution_count": 38,
   "metadata": {
    "pycharm": {
     "is_executing": true
    }
   },
   "outputs": [
    {
     "name": "stdout",
     "output_type": "stream",
     "text": [
      "Major:   0.702\n",
      "Minor:   0.298\n"
     ]
    },
    {
     "data": {
      "text/plain": [
       "<AxesSubplot:>"
      ]
     },
     "execution_count": 38,
     "metadata": {},
     "output_type": "execute_result"
    },
    {
     "data": {
      "image/png": "[encoded data removed]",
      "text/plain": [
       "<Figure size 432x288 with 1 Axes>"
      ]
     },
     "metadata": {
      "needs_background": "light"
     },
     "output_type": "display_data"
    }
   ],
   "source": [
    "print('Major:   {:,.3f}'.format(spotify['mode'].value_counts()[1]/spotify.shape[0]))\n",
    "print('Minor:   {:,.3f}'.format(spotify['mode'].value_counts()[0]/spotify.shape[0]))\n",
    "spotify['mode'].value_counts().plot(kind='bar', color='green')"
   ]
  },
  {
   "cell_type": "markdown",
   "metadata": {},
   "source": [
    "# Correlation Matrix\n",
    "\n",
    "### After viewing the correlation matrix, there weren't any high correlation candidates for feature reduction.\n",
    "### Acoustiness and energy appears to be the most significantly correlated, but still not enough for consideration."
   ]
  },
  {
   "cell_type": "code",
   "execution_count": 39,
   "metadata": {
    "pycharm": {
     "is_executing": true
    },
    "scrolled": true
   },
   "outputs": [
    {
     "data": {
      "text/plain": [
       "<AxesSubplot:>"
      ]
     },
     "execution_count": 39,
     "metadata": {},
     "output_type": "execute_result"
    },
    {
     "data": {
      "image/png": "[encoded data removed]",
      "text/plain": [
       "<Figure size 792x648 with 2 Axes>"
      ]
     },
     "metadata": {
      "needs_background": "light"
     },
     "output_type": "display_data"
    }
   ],
   "source": [
    "# https://seaborn.pydata.org/examples/many_pairwise_correlations.html\n",
    "# Compute the correlation matrix\n",
    "spotify_corr = spotify.corr(method='pearson')\n",
    "\n",
    "# Generate a mask for the upper triangle\n",
    "mask = np.triu(np.ones_like(spotify_corr, dtype=bool))\n",
    "\n",
    "# Set up the matplotlib figure\n",
    "f, ax = plt.subplots(figsize=(11, 9))\n",
    "\n",
    "# Generate a custom diverging colormap\n",
    "cmap = sns.diverging_palette(230, 20, as_cmap=True)\n",
    "\n",
    "# Draw the heatmap with the mask and correct aspect ratio\n",
    "sns.heatmap(spotify_corr, mask=mask, cmap=cmap, vmax=.3, center=0,\n",
    "            square=True, linewidths=.5, cbar_kws={\"shrink\": .5})"
   ]
  },
  {
   "cell_type": "markdown",
   "metadata": {},
   "source": [
    "### Top Negative Correlations"
   ]
  },
  {
   "cell_type": "code",
   "execution_count": 40,
   "metadata": {
    "pycharm": {
     "is_executing": true,
     "name": "#%%\n"
    }
   },
   "outputs": [
    {
     "data": {
      "text/plain": [
       "acousticness      loudness           -0.546639\n",
       "loudness          acousticness       -0.546639\n",
       "popularity        acousticness       -0.396744\n",
       "acousticness      popularity         -0.396744\n",
       "instrumentalness  loudness           -0.317562\n",
       "loudness          instrumentalness   -0.317562\n",
       "popularity        instrumentalness   -0.300625\n",
       "instrumentalness  popularity         -0.300625\n",
       "danceability      acousticness       -0.263217\n",
       "acousticness      danceability       -0.263217\n",
       "dtype: float64"
      ]
     },
     "execution_count": 40,
     "metadata": {},
     "output_type": "execute_result"
    }
   ],
   "source": [
    "spotify_corr.unstack().sort_values(kind=\"quicksort\").head(14)[4:]"
   ]
  },
  {
   "cell_type": "markdown",
   "metadata": {},
   "source": [
    "### Top Positive Correlations"
   ]
  },
  {
   "cell_type": "code",
   "execution_count": 41,
   "metadata": {
    "pycharm": {
     "is_executing": true,
     "name": "#%%\n"
    },
    "scrolled": true
   },
   "outputs": [
    {
     "data": {
      "text/plain": [
       "energy        loudness        0.779267\n",
       "              year            0.540850\n",
       "year          energy          0.540850\n",
       "valence       danceability    0.536713\n",
       "danceability  valence         0.536713\n",
       "popularity    year            0.513227\n",
       "year          popularity      0.513227\n",
       "loudness      year            0.465189\n",
       "year          loudness        0.465189\n",
       "speechiness   explicit        0.353872\n",
       "dtype: float64"
      ]
     },
     "execution_count": 41,
     "metadata": {},
     "output_type": "execute_result"
    }
   ],
   "source": [
    "spotify_corr.unstack().sort_values(kind=\"quicksort\", ascending=False).head(26)[16:]"
   ]
  },
  {
   "cell_type": "code",
   "execution_count": null,
   "metadata": {
    "pycharm": {
     "is_executing": true
    }
   },
   "outputs": [],
   "source": []
  }
 ],
 "metadata": {
  "kernelspec": {
   "display_name": "Python 3",
   "language": "python",
   "name": "python3"
  },
  "language_info": {
   "codemirror_mode": {
    "name": "ipython",
    "version": 3
   },
   "file_extension": ".py",
   "mimetype": "text/x-python",
   "name": "python",
   "nbconvert_exporter": "python",
   "pygments_lexer": "ipython3",
   "version": "3.8.5"
  }
 },
 "nbformat": 4,
 "nbformat_minor": 4
}
