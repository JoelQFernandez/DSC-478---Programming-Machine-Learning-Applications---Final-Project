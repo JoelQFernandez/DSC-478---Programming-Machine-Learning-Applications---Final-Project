{
 "cells": [
  {
   "cell_type": "markdown",
   "metadata": {
    "pycharm": {
     "name": "#%%\n"
    }
   },
   "source": [
    "##  Final Project Notebooks\n",
    "#### [01 Data Exploration](./Final%20Project%20-%2001%20-%20Data%20Exploration.ipynb)  \n",
    "#### [02 Pre-Proccessing](./Final%20Project%20-%2002%20-%20Pre-Processing.ipynb)\n",
    "#### [03 Principal Component Analysys](./Final%20Project%20-%2003%20-%20Principle%20Component%20Analysis.ipynb)\n",
    "#### [04 Clustering - KMeans - With PCA](./Final%20Project%20-%2004%20-%20Clustering%20-%20KMeans.ipynb)\n",
    "#### [04 Clustering - KMeans - Without PCA](./Final%20Project%20-%2004%20-%20Clustering%20-%20KMeans%20-%20Without%20PCA.ipynb)\n",
    "#### [04 Clustering - DBSCAN - With PCA](./Final%20Project%20-%2004%20-%20Clustering%20-%20DBSCAN.ipynb)\n",
    "#### [04 Clustering - DBSCAN - Without PCA](./Final%20Project%20-%2004%20-%20Clustering%20-%20DBSCAN%20-%20Without%20PCA.ipynb)\n",
    "#### [05 K Nearest Neighbors](./Final%20Project%20-%2005%20-%20KNN.ipynb)"
   ]
  }
 ],
 "metadata": {
  "kernelspec": {
   "display_name": "Python 3",
   "language": "python",
   "name": "python3"
  },
  "language_info": {
   "codemirror_mode": {
    "name": "ipython",
    "version": 3
   },
   "file_extension": ".py",
   "mimetype": "text/x-python",
   "name": "python",
   "nbconvert_exporter": "python",
   "pygments_lexer": "ipython3",
   "version": "3.8.5"
  }
 },
 "nbformat": 4,
 "nbformat_minor": 4
}