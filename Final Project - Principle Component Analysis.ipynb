{
 "cells": [
  {
   "cell_type": "code",
   "execution_count": 1,
   "metadata": {
    "pycharm": {
     "name": "#%%\n"
    }
   },
   "outputs": [],
   "source": [
    "# Import Statements\n",
    "import numpy as np\n",
    "import pandas as pd\n",
    "import seaborn as sns\n",
    "import matplotlib.pyplot as plt\n",
    "\n",
    "# Normalization Cheat Sheet\n",
    "min_max = lambda x: (x - x.min()) / (x.max() - x.min())\n",
    "z_score = lambda x: (x - x.mean()) / x.std()"
   ]
  },
  {
   "cell_type": "code",
   "execution_count": 2,
   "metadata": {
    "pycharm": {
     "name": "#%%\n"
    }
   },
   "outputs": [],
   "source": [
    "# Assign %pwd to working_dir\n",
    "working_dir = %pwd"
   ]
  },
  {
   "cell_type": "markdown",
   "metadata": {},
   "source": [
    "## Reading Pre Processed Data File"
   ]
  },
  {
   "cell_type": "code",
   "execution_count": 3,
   "metadata": {
    "pycharm": {
     "name": "#%%\n"
    }
   },
   "outputs": [],
   "source": [
    "# Reading Pre Processed Data File\n",
    "spotify = pd.read_csv( (working_dir)+\"/Data/spotify-pre_processed.csv\", delimiter = \",\")"
   ]
  },
  {
   "cell_type": "code",
   "execution_count": 4,
   "metadata": {},
   "outputs": [],
   "source": [
    "# Removing Text Attributes for Principle Component Analysis\n",
    "spotify_numerical = spotify[['acousticness', 'danceability', 'duration_ms', 'energy', 'instrumentalness', 'key', 'liveness','popularity','speechiness','tempo','valence', 'explicit_0','explicit_1','mode_0','mode_1' ]]"
   ]
  },
  {
   "cell_type": "code",
   "execution_count": 5,
   "metadata": {},
   "outputs": [],
   "source": [
    "from sklearn.decomposition import PCA\n",
    "\n",
    "# Function: principleComponentAnalysis\n",
    "# Accepts:  dataset\n",
    "# Returns:  top ratios and corresponding feature \n",
    "#           names for Principle Component Analysis\n",
    "def principleComponentAnalysis(data):\n",
    "    number_of_columns = data.shape[1]\n",
    "    initial_feature_names = data.columns\n",
    "        \n",
    "    for x in range(number_of_columns):\n",
    "        pca = PCA(n_components = x)\n",
    "        pca.fit_transform(data)\n",
    "        pca_ratios = pca.explained_variance_ratio_\n",
    "        \n",
    "        # https://www.geeksforgeeks.org/how-to-get-column-names-in-pandas-dataframe/\n",
    "        # block of code for returning names.\n",
    "        most_important = [np.abs(pca.components_[i]).argmax() for i in range(x)]\n",
    "        pca_names = [initial_feature_names[most_important[i]] for i in range(x)]\n",
    "        \n",
    "        if sum(pca_ratios) >= .95:\n",
    "            break\n",
    "    return pca_ratios, pca_names"
   ]
  },
  {
   "cell_type": "code",
   "execution_count": 6,
   "metadata": {
    "scrolled": true
   },
   "outputs": [],
   "source": [
    "# Testing principleComponentAnalysis Function\n",
    "pca_ratios, pca_names = principleComponentAnalysis(spotify_numerical)"
   ]
  },
  {
   "cell_type": "code",
   "execution_count": 7,
   "metadata": {},
   "outputs": [
    {
     "data": {
      "text/plain": [
       "['mode_0',\n",
       " 'acousticness',\n",
       " 'explicit_1',\n",
       " 'instrumentalness',\n",
       " 'key',\n",
       " 'valence',\n",
       " 'popularity',\n",
       " 'liveness',\n",
       " 'popularity']"
      ]
     },
     "execution_count": 7,
     "metadata": {},
     "output_type": "execute_result"
    }
   ],
   "source": [
    "# Printing Feature Names\n",
    "pca_names"
   ]
  },
  {
   "cell_type": "code",
   "execution_count": 8,
   "metadata": {},
   "outputs": [
    {
     "data": {
      "text/plain": [
       "array([0.35019289, 0.19765849, 0.10340963, 0.08541465, 0.08234835,\n",
       "       0.0591023 , 0.03579184, 0.02850354, 0.02039043])"
      ]
     },
     "execution_count": 8,
     "metadata": {},
     "output_type": "execute_result"
    }
   ],
   "source": [
    "# Printing Ratios\n",
    "pca_ratios"
   ]
  },
  {
   "cell_type": "code",
   "execution_count": 9,
   "metadata": {
    "scrolled": true
   },
   "outputs": [
    {
     "name": "stdout",
     "output_type": "stream",
     "text": [
      "9 Attributes Accounted For 0.96 Of The Variance\n"
     ]
    }
   ],
   "source": [
    "# PCA Summary\n",
    "pca_sum = sum(pca_ratios)\n",
    "pca_length = len(pca_ratios)\n",
    "\n",
    "print(str(pca_length) + ' Attributes Accounted For ' + \"{:.2f}\".format(pca_sum) + ' Of The Variance')"
   ]
  },
  {
   "cell_type": "code",
   "execution_count": null,
   "metadata": {},
   "outputs": [],
   "source": []
  }
 ],
 "metadata": {
  "kernelspec": {
   "display_name": "Python 3",
   "language": "python",
   "name": "python3"
  },
  "language_info": {
   "codemirror_mode": {
    "name": "ipython",
    "version": 3
   },
   "file_extension": ".py",
   "mimetype": "text/x-python",
   "name": "python",
   "nbconvert_exporter": "python",
   "pygments_lexer": "ipython3",
   "version": "3.8.5"
  }
 },
 "nbformat": 4,
 "nbformat_minor": 4
}