{
 "cells": [
  {
   "cell_type": "code",
   "execution_count": 16,
   "metadata": {
    "pycharm": {
     "name": "#%%\n"
    }
   },
   "outputs": [],
   "source": [
    "# Import Statements\n",
    "import numpy as np\n",
    "import pandas as pd\n",
    "import seaborn as sns\n",
    "import matplotlib.pyplot as plt"
   ]
  },
  {
   "cell_type": "code",
   "execution_count": 17,
   "metadata": {},
   "outputs": [],
   "source": [
    "# Assign %pwd to working_dir\n",
    "working_dir = %pwd"
   ]
  },
  {
   "cell_type": "code",
   "execution_count": 23,
   "metadata": {},
   "outputs": [],
   "source": [
    "# Reading PCA Features From Disk\n",
    "spotify = pd.read_csv((working_dir)+\"/Data/spotify-pca.csv\", delimiter = \",\")"
   ]
  },
  {
   "cell_type": "code",
   "execution_count": 27,
   "metadata": {
    "scrolled": true
   },
   "outputs": [
    {
     "data": {
      "text/html": [
       "<div>\n",
       "<style scoped>\n",
       "    .dataframe tbody tr th:only-of-type {\n",
       "        vertical-align: middle;\n",
       "    }\n",
       "\n",
       "    .dataframe tbody tr th {\n",
       "        vertical-align: top;\n",
       "    }\n",
       "\n",
       "    .dataframe thead th {\n",
       "        text-align: right;\n",
       "    }\n",
       "</style>\n",
       "<table border=\"1\" class=\"dataframe\">\n",
       "  <thead>\n",
       "    <tr style=\"text-align: right;\">\n",
       "      <th></th>\n",
       "      <th>artists</th>\n",
       "      <th>id</th>\n",
       "      <th>name</th>\n",
       "      <th>year</th>\n",
       "      <th>mode_0</th>\n",
       "      <th>acousticness</th>\n",
       "      <th>explicit_1</th>\n",
       "      <th>instrumentalness</th>\n",
       "      <th>key</th>\n",
       "      <th>valence</th>\n",
       "    </tr>\n",
       "  </thead>\n",
       "  <tbody>\n",
       "    <tr>\n",
       "      <th>0</th>\n",
       "      <td>['Mamie Smith']</td>\n",
       "      <td>0cS0A1fUEUd1EW3FcF8AEI</td>\n",
       "      <td>Keep A Song In Your Soul</td>\n",
       "      <td>1920s</td>\n",
       "      <td>1</td>\n",
       "      <td>0.991000</td>\n",
       "      <td>0</td>\n",
       "      <td>0.000522</td>\n",
       "      <td>0.454545</td>\n",
       "      <td>0.6340</td>\n",
       "    </tr>\n",
       "    <tr>\n",
       "      <th>1</th>\n",
       "      <td>[\"Screamin' Jay Hawkins\"]</td>\n",
       "      <td>0hbkKFIJm7Z05H8Zl9w30f</td>\n",
       "      <td>I Put A Spell On You</td>\n",
       "      <td>1920s</td>\n",
       "      <td>1</td>\n",
       "      <td>0.643000</td>\n",
       "      <td>0</td>\n",
       "      <td>0.026400</td>\n",
       "      <td>0.454545</td>\n",
       "      <td>0.9500</td>\n",
       "    </tr>\n",
       "    <tr>\n",
       "      <th>2</th>\n",
       "      <td>['Mamie Smith']</td>\n",
       "      <td>11m7laMUgmOKqI3oYzuhne</td>\n",
       "      <td>Golfing Papa</td>\n",
       "      <td>1920s</td>\n",
       "      <td>0</td>\n",
       "      <td>0.993000</td>\n",
       "      <td>0</td>\n",
       "      <td>0.000018</td>\n",
       "      <td>0.000000</td>\n",
       "      <td>0.6890</td>\n",
       "    </tr>\n",
       "    <tr>\n",
       "      <th>3</th>\n",
       "      <td>['Oscar Velazquez']</td>\n",
       "      <td>19Lc5SfJJ5O1oaxY0fpwfh</td>\n",
       "      <td>True House Music - Xavier Santos &amp; Carlos Gomi...</td>\n",
       "      <td>1920s</td>\n",
       "      <td>0</td>\n",
       "      <td>0.000173</td>\n",
       "      <td>0</td>\n",
       "      <td>0.801000</td>\n",
       "      <td>0.181818</td>\n",
       "      <td>0.0422</td>\n",
       "    </tr>\n",
       "    <tr>\n",
       "      <th>4</th>\n",
       "      <td>['Mixe']</td>\n",
       "      <td>2hJjbsLCytGsnAHfdsLejp</td>\n",
       "      <td>Xuniverxe</td>\n",
       "      <td>1920s</td>\n",
       "      <td>1</td>\n",
       "      <td>0.295000</td>\n",
       "      <td>1</td>\n",
       "      <td>0.000246</td>\n",
       "      <td>0.909091</td>\n",
       "      <td>0.2990</td>\n",
       "    </tr>\n",
       "    <tr>\n",
       "      <th>...</th>\n",
       "      <td>...</td>\n",
       "      <td>...</td>\n",
       "      <td>...</td>\n",
       "      <td>...</td>\n",
       "      <td>...</td>\n",
       "      <td>...</td>\n",
       "      <td>...</td>\n",
       "      <td>...</td>\n",
       "      <td>...</td>\n",
       "      <td>...</td>\n",
       "    </tr>\n",
       "    <tr>\n",
       "      <th>174384</th>\n",
       "      <td>['DJ Combo', 'Sander-7', 'Tony T']</td>\n",
       "      <td>46LhBf6TvYjZU2SMvGZAbn</td>\n",
       "      <td>The One</td>\n",
       "      <td>2020s</td>\n",
       "      <td>1</td>\n",
       "      <td>0.009170</td>\n",
       "      <td>0</td>\n",
       "      <td>0.000060</td>\n",
       "      <td>0.545455</td>\n",
       "      <td>0.1860</td>\n",
       "    </tr>\n",
       "    <tr>\n",
       "      <th>174385</th>\n",
       "      <td>['Alessia Cara']</td>\n",
       "      <td>7tue2Wemjd0FZzRtDrQFZd</td>\n",
       "      <td>A Little More</td>\n",
       "      <td>2020s</td>\n",
       "      <td>0</td>\n",
       "      <td>0.795000</td>\n",
       "      <td>0</td>\n",
       "      <td>0.000000</td>\n",
       "      <td>0.363636</td>\n",
       "      <td>0.2280</td>\n",
       "    </tr>\n",
       "    <tr>\n",
       "      <th>174386</th>\n",
       "      <td>['Roger Fly']</td>\n",
       "      <td>48Qj61hOdYmUCFJbpQ29Ob</td>\n",
       "      <td>Together</td>\n",
       "      <td>2020s</td>\n",
       "      <td>1</td>\n",
       "      <td>0.806000</td>\n",
       "      <td>0</td>\n",
       "      <td>0.920000</td>\n",
       "      <td>0.363636</td>\n",
       "      <td>0.7140</td>\n",
       "    </tr>\n",
       "    <tr>\n",
       "      <th>174387</th>\n",
       "      <td>['Taylor Swift']</td>\n",
       "      <td>1gcyHQpBQ1lfXGdhZmWrHP</td>\n",
       "      <td>champagne problems</td>\n",
       "      <td>2020s</td>\n",
       "      <td>0</td>\n",
       "      <td>0.920000</td>\n",
       "      <td>1</td>\n",
       "      <td>0.000000</td>\n",
       "      <td>0.000000</td>\n",
       "      <td>0.3200</td>\n",
       "    </tr>\n",
       "    <tr>\n",
       "      <th>174388</th>\n",
       "      <td>['Roger Fly']</td>\n",
       "      <td>57tgYkWQTNHVFEt6xDKKZj</td>\n",
       "      <td>Improvisations</td>\n",
       "      <td>2020s</td>\n",
       "      <td>0</td>\n",
       "      <td>0.239000</td>\n",
       "      <td>0</td>\n",
       "      <td>0.891000</td>\n",
       "      <td>0.636364</td>\n",
       "      <td>0.7470</td>\n",
       "    </tr>\n",
       "  </tbody>\n",
       "</table>\n",
       "<p>174389 rows × 10 columns</p>\n",
       "</div>"
      ],
      "text/plain": [
       "                                   artists                      id  \\\n",
       "0                          ['Mamie Smith']  0cS0A1fUEUd1EW3FcF8AEI   \n",
       "1                [\"Screamin' Jay Hawkins\"]  0hbkKFIJm7Z05H8Zl9w30f   \n",
       "2                          ['Mamie Smith']  11m7laMUgmOKqI3oYzuhne   \n",
       "3                      ['Oscar Velazquez']  19Lc5SfJJ5O1oaxY0fpwfh   \n",
       "4                                 ['Mixe']  2hJjbsLCytGsnAHfdsLejp   \n",
       "...                                    ...                     ...   \n",
       "174384  ['DJ Combo', 'Sander-7', 'Tony T']  46LhBf6TvYjZU2SMvGZAbn   \n",
       "174385                    ['Alessia Cara']  7tue2Wemjd0FZzRtDrQFZd   \n",
       "174386                       ['Roger Fly']  48Qj61hOdYmUCFJbpQ29Ob   \n",
       "174387                    ['Taylor Swift']  1gcyHQpBQ1lfXGdhZmWrHP   \n",
       "174388                       ['Roger Fly']  57tgYkWQTNHVFEt6xDKKZj   \n",
       "\n",
       "                                                     name   year  mode_0  \\\n",
       "0                                Keep A Song In Your Soul  1920s       1   \n",
       "1                                    I Put A Spell On You  1920s       1   \n",
       "2                                            Golfing Papa  1920s       0   \n",
       "3       True House Music - Xavier Santos & Carlos Gomi...  1920s       0   \n",
       "4                                               Xuniverxe  1920s       1   \n",
       "...                                                   ...    ...     ...   \n",
       "174384                                            The One  2020s       1   \n",
       "174385                                      A Little More  2020s       0   \n",
       "174386                                           Together  2020s       1   \n",
       "174387                                 champagne problems  2020s       0   \n",
       "174388                                     Improvisations  2020s       0   \n",
       "\n",
       "        acousticness  explicit_1  instrumentalness       key  valence  \n",
       "0           0.991000           0          0.000522  0.454545   0.6340  \n",
       "1           0.643000           0          0.026400  0.454545   0.9500  \n",
       "2           0.993000           0          0.000018  0.000000   0.6890  \n",
       "3           0.000173           0          0.801000  0.181818   0.0422  \n",
       "4           0.295000           1          0.000246  0.909091   0.2990  \n",
       "...              ...         ...               ...       ...      ...  \n",
       "174384      0.009170           0          0.000060  0.545455   0.1860  \n",
       "174385      0.795000           0          0.000000  0.363636   0.2280  \n",
       "174386      0.806000           0          0.920000  0.363636   0.7140  \n",
       "174387      0.920000           1          0.000000  0.000000   0.3200  \n",
       "174388      0.239000           0          0.891000  0.636364   0.7470  \n",
       "\n",
       "[174389 rows x 10 columns]"
      ]
     },
     "execution_count": 27,
     "metadata": {},
     "output_type": "execute_result"
    }
   ],
   "source": [
    "spotify"
   ]
  },
  {
   "cell_type": "code",
   "execution_count": 26,
   "metadata": {
    "pycharm": {
     "name": "#%%\n"
    }
   },
   "outputs": [
    {
     "data": {
      "text/plain": [
       "array([['mode_0', 'acousticness', 'explicit_1', 'instrumentalness',\n",
       "        'key', 'valence']], dtype=object)"
      ]
     },
     "execution_count": 26,
     "metadata": {},
     "output_type": "execute_result"
    }
   ],
   "source": [
    "pca_names = np.array([spotify.describe().columns])\n",
    "pca_names"
   ]
  },
  {
   "cell_type": "code",
   "execution_count": 22,
   "metadata": {
    "scrolled": false
   },
   "outputs": [],
   "source": [
    "data_for_clustering = spotify[pca_names]"
   ]
  },
  {
   "cell_type": "markdown",
   "metadata": {},
   "source": [
    "### Performing exhaustive search for the optimal K value"
   ]
  },
  {
   "cell_type": "code",
   "execution_count": null,
   "metadata": {
    "pycharm": {
     "name": "#%%\n"
    },
    "scrolled": false
   },
   "outputs": [],
   "source": [
    "# try different values of K to see which K might be the best for K-means\n",
    "from sklearn.cluster import KMeans\n",
    "from sklearn.metrics import silhouette_samples\n",
    "from sklearn import metrics\n",
    "\n",
    "# Storing K and Silhouette Values for sorting later\n",
    "df_silhouette_values = pd.DataFrame(columns=['K','Silhouette Values','Silhouette Mean'])\n",
    "\n",
    "for k in range(3,21):\n",
    "    kmeans = KMeans(n_clusters=k, max_iter=500)\n",
    "    kmeans.fit(data_for_clustering)\n",
    "    clusters = kmeans.predict(data_for_clustering)\n",
    "    cluster_df = pd.DataFrame(clusters, columns=[\"Cluster\"])\n",
    "\n",
    "    spotify_silhouettes = metrics.silhouette_samples(data_for_clustering, cluster_df.to_numpy().ravel())\n",
    "    print(spotify_silhouettes[:20])\n",
    "    print(\"\\nMean Silhouette Value: \", spotify_silhouettes.mean())\n",
    "    print('K = ',k)\n",
    "    \n",
    "    df_silhouette_values = df_silhouette_values.append({'K': k, 'Silhouette Values': spotify_silhouettes, 'Silhouette Mean':spotify_silhouettes.mean() }, ignore_index=True)"
   ]
  },
  {
   "cell_type": "code",
   "execution_count": null,
   "metadata": {},
   "outputs": [],
   "source": [
    "df_silhouette_values = df_silhouette_values.sort_values('Silhouette Mean', ascending=False).nlargest(50, 'Silhouette Mean')\n",
    "df_silhouette_values"
   ]
  },
  {
   "cell_type": "code",
   "execution_count": null,
   "metadata": {},
   "outputs": [],
   "source": [
    "optimal_k = int(df_silhouette_values.K.iloc[0])\n",
    "print('Optimal K value appears to be',optimal_k,'.')"
   ]
  },
  {
   "cell_type": "markdown",
   "metadata": {},
   "source": [
    "## Writing Silhouette Values to disk."
   ]
  },
  {
   "cell_type": "code",
   "execution_count": null,
   "metadata": {},
   "outputs": [],
   "source": [
    "# Saved Silhouette Values, Just In Case We Need To Plot Them Later.\n",
    "df_silhouette_values = df_silhouette_values[['K','Silhouette Values', 'Silhouette Mean']]\n",
    "df_silhouette_values.to_csv((working_dir)+\"/Data/spotify-kmeans-silhouette_values.csv\",index = False)"
   ]
  },
  {
   "cell_type": "markdown",
   "metadata": {},
   "source": [
    "# *****Everything Below Can Be Copied To Final Project Notebook*****"
   ]
  },
  {
   "cell_type": "markdown",
   "metadata": {},
   "source": [
    "# KMeans Clustering\n",
    "### The bulk of the work was performed on separate Notebook, Final Project - KMeans.ipynb.  \n",
    "\n",
    "### We caclulated the Silhouette values for K = {3:21}.  After 2 hours, we were finally able to confirm that the optimal K value is 13"
   ]
  },
  {
   "cell_type": "code",
   "execution_count": null,
   "metadata": {},
   "outputs": [],
   "source": [
    "# Reading KMeans Silhouette Values From File\n",
    "df_silhouette_values = pd.read_csv((working_dir)+\"/Data/spotify-kmeans-silhouette_values.csv\", delimiter = \",\")\n",
    "\n",
    "optimal_k = int(df_silhouette_values.K.iloc[0])\n",
    "print('Optimal K value appears to be',optimal_k,'.')"
   ]
  },
  {
   "cell_type": "markdown",
   "metadata": {},
   "source": [
    "### Doing some initial clustering exploration with the 6 features discovered in our PCA and with the optimal K"
   ]
  },
  {
   "cell_type": "code",
   "execution_count": null,
   "metadata": {},
   "outputs": [],
   "source": [
    "# Passing pca_names for KMeans processing\n",
    "data_for_clustering = spotify[pca_names]"
   ]
  },
  {
   "cell_type": "code",
   "execution_count": null,
   "metadata": {},
   "outputs": [],
   "source": [
    "from sklearn.cluster import KMeans\n",
    "kmeans = KMeans(n_clusters=optimal_k, max_iter=500)\n",
    "kmeans.fit(data_for_clustering)\n",
    "clusters = kmeans.predict(data_for_clustering)\n",
    "cluster_df = pd.DataFrame(clusters, columns=[\"Cluster\"])"
   ]
  },
  {
   "cell_type": "markdown",
   "metadata": {},
   "source": [
    "### Summary Of Centroid Values For Each Cluster"
   ]
  },
  {
   "cell_type": "code",
   "execution_count": null,
   "metadata": {},
   "outputs": [],
   "source": [
    "# Summary Of Centroid Values For Each Cluster\n",
    "pd.options.display.float_format='{:,.2f}'.format\n",
    "centroids = pd.DataFrame(kmeans.cluster_centers_, columns=pca_names)\n",
    "centroids"
   ]
  },
  {
   "cell_type": "markdown",
   "metadata": {},
   "source": [
    "### Summary Of Cluster Sizes"
   ]
  },
  {
   "cell_type": "code",
   "execution_count": null,
   "metadata": {},
   "outputs": [],
   "source": [
    "# Function: cluster_sizes\n",
    "# Accepts:  cluster labels\n",
    "# Returns:  size of cluster labels\n",
    "def cluster_sizes(clusters):\n",
    "    # clusters is an array of cluster labels\n",
    "    # for each instance in the data\n",
    "\n",
    "    size = {}\n",
    "    cluster_labels = np.unique(clusters)\n",
    "    n_clusters = cluster_labels.shape[0]\n",
    "\n",
    "    for c in cluster_labels:\n",
    "        size[c] = len(spotify[clusters == c])\n",
    "    return size"
   ]
  },
  {
   "cell_type": "code",
   "execution_count": null,
   "metadata": {},
   "outputs": [],
   "source": [
    "# Summary Of Cluster Sizes\n",
    "size = cluster_sizes(clusters)\n",
    "cluster_total = 0\n",
    "\n",
    "for c in size.keys():\n",
    "    print(\"Size of Cluster\", c, \"= \", size[c])\n",
    "    cluster_total += size[c]\n",
    "\n",
    "print('\\nTotal:              ',cluster_total)"
   ]
  },
  {
   "cell_type": "markdown",
   "metadata": {},
   "source": [
    "### Adding class labels to the Spotify dataset."
   ]
  },
  {
   "cell_type": "code",
   "execution_count": null,
   "metadata": {},
   "outputs": [],
   "source": [
    "cluster_df.to_numpy().ravel()\n",
    "cluster_df"
   ]
  },
  {
   "cell_type": "code",
   "execution_count": null,
   "metadata": {},
   "outputs": [],
   "source": [
    "# adding the what cluster the row belongs to for the whole dataset\n",
    "spotify['cluster'] = cluster_df\n",
    "spotify"
   ]
  },
  {
   "cell_type": "markdown",
   "metadata": {},
   "source": [
    "### Saving newly created class labels to file, spotify-classlabels-kmeans.csv."
   ]
  },
  {
   "cell_type": "code",
   "execution_count": null,
   "metadata": {},
   "outputs": [],
   "source": [
    "# saving labels to file, so that we don't\n",
    "# have to rerun K-means all the time.\n",
    "spotify.to_csv((working_dir)+\"/Data/spotify-classlabels-kmeans.csv\", index = False)"
   ]
  },
  {
   "cell_type": "markdown",
   "metadata": {},
   "source": [
    "### Inspecting Some Rows, TBD?"
   ]
  },
  {
   "cell_type": "code",
   "execution_count": null,
   "metadata": {},
   "outputs": [],
   "source": [
    "#inspecting some rows\n",
    "pd.set_option('display.max_columns', 500)\n",
    "\n",
    "#spotify.loc[spotify['cluster'] == 0].sample(n=20) # seems to be mid to high-energy poppy\n",
    "spotify.loc[spotify['cluster'] == 1].sample(n=20) # seems to be mellow instrumental\n",
    "#spotify.loc[spotify['cluster'] == 6].sample(n=20) # seems to be a more easy-listening collection"
   ]
  }
 ],
 "metadata": {
  "kernelspec": {
   "display_name": "Python 3",
   "language": "python",
   "name": "python3"
  },
  "language_info": {
   "codemirror_mode": {
    "name": "ipython",
    "version": 3
   },
   "file_extension": ".py",
   "mimetype": "text/x-python",
   "name": "python",
   "nbconvert_exporter": "python",
   "pygments_lexer": "ipython3",
   "version": "3.8.5"
  }
 },
 "nbformat": 4,
 "nbformat_minor": 4
}
